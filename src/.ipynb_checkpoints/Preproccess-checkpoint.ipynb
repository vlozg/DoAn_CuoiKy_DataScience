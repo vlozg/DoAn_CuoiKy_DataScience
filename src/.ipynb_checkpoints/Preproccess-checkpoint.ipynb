{
 "cells": [
  {
   "cell_type": "code",
   "execution_count": 19,
   "metadata": {},
   "outputs": [],
   "source": [
    "import json\n",
    "import time # Dùng để sleep chương trình\n",
    "import pandas as pd # Dùng để đọc và hiển thị file csv (Pandas sẽ được học chi tiết ở buổi tới)\n",
    "import datetime as dt # Dùng để xử lý dữ liệu thời gian\n",
    "import re"
   ]
  },
  {
   "cell_type": "code",
   "execution_count": 20,
   "metadata": {},
   "outputs": [],
   "source": [
    "df0=pd.read_csv('scraped_data/crawling_0.csv',index_col='links')\n",
    "df1=pd.read_csv('scraped_data/crawling_1.csv',index_col='links')\n",
    "df2=pd.read_csv('scraped_data/crawling_2.csv',index_col='links')\n",
    "df3=pd.read_csv('scraped_data/crawling_3.csv',index_col='links')\n",
    "df4=pd.read_csv('scraped_data/crawling_4.csv',index_col='links')\n",
    "df5=pd.read_csv('scraped_data/crawling_5.csv',index_col='links')\n",
    "df6=pd.read_csv('scraped_data/crawling_6.csv',index_col='links')\n",
    "df7=pd.read_csv('scraped_data/crawling_7.csv',index_col='links')\n",
    "df8=pd.read_csv('scraped_data/crawling_8.csv',index_col='links')\n",
    "df9=pd.read_csv('scraped_data/crawling_9.csv',index_col='links')\n",
    "df10=pd.read_csv('scraped_data/crawling_10.csv',index_col='links')\n",
    "df11=pd.read_csv('scraped_data/crawling_11.csv',index_col='links')\n",
    "data_df=pd.concat([df0,df1,df2,df3,df4,df5,df6,df7,df8,df9,df10,df11])"
   ]
  },
  {
   "cell_type": "markdown",
   "metadata": {},
   "source": [
    "# Khám phá dữ liệu"
   ]
  },
  {
   "cell_type": "code",
   "execution_count": 21,
   "metadata": {},
   "outputs": [
    {
     "data": {
      "text/html": [
       "<div>\n",
       "<style scoped>\n",
       "    .dataframe tbody tr th:only-of-type {\n",
       "        vertical-align: middle;\n",
       "    }\n",
       "\n",
       "    .dataframe tbody tr th {\n",
       "        vertical-align: top;\n",
       "    }\n",
       "\n",
       "    .dataframe thead th {\n",
       "        text-align: right;\n",
       "    }\n",
       "</style>\n",
       "<table border=\"1\" class=\"dataframe\">\n",
       "  <thead>\n",
       "    <tr style=\"text-align: right;\">\n",
       "      <th></th>\n",
       "      <th>title</th>\n",
       "      <th>description</th>\n",
       "      <th>content</th>\n",
       "      <th>class</th>\n",
       "    </tr>\n",
       "    <tr>\n",
       "      <th>links</th>\n",
       "      <th></th>\n",
       "      <th></th>\n",
       "      <th></th>\n",
       "      <th></th>\n",
       "    </tr>\n",
       "  </thead>\n",
       "  <tbody>\n",
       "    <tr>\n",
       "      <th>/nhu-chua-he-co-cuoc-chia-ly-gap-mat-con-mot-lan-roi-chet-cung-man-nguyen-20210104225412438.htm</th>\n",
       "      <td>Như chưa hề có cuộc chia ly: ‘Gặp mặt con một ...</td>\n",
       "      <td>TTO - Sau 51 năm đi khắp nơi tìm kiếm con trai...</td>\n",
       "      <td>Đây là một trong số những trường hợp trẻ em th...</td>\n",
       "      <td>Giải trí</td>\n",
       "    </tr>\n",
       "    <tr>\n",
       "      <th>/hai-nu-sinh-bi-danh-hoi-dong-tren-pho-phong-giao-duc-va-dao-tao-noi-gi-20210104211334222.htm</th>\n",
       "      <td>Hai nữ sinh bị đánh hội đồng trên phố, Phòng G...</td>\n",
       "      <td>TTO - Ngày 4-1, Phòng Giáo dục và đào tạo quận...</td>\n",
       "      <td>Theo thông tin xác nhận từ Phòng Giáo dục và đ...</td>\n",
       "      <td>Giáo dục</td>\n",
       "    </tr>\n",
       "    <tr>\n",
       "      <th>/diem-tin-the-thao-toi-4-1-cuu-gdkt-bong-da-nhat-lam-co-van-cap-cao-tai-clb-sai-gon-20210104203209058.htm</th>\n",
       "      <td>Điểm tin thể thao tối 4-1: Cựu GĐKT bóng đa...</td>\n",
       "      <td>TTO - CLB Sài Gòn có cố vấn cấp cao \"xịn\", CLB...</td>\n",
       "      <td>Cựu GĐKT bóng đá Nhật Bản làm cố vâ...</td>\n",
       "      <td>Thể thao</td>\n",
       "    </tr>\n",
       "    <tr>\n",
       "      <th>/iran-bat-tau-cho-hoa-chat-han-quoc-co-thuyen-vien-viet-nam-o-vung-vinh-2021010420304332.htm</th>\n",
       "      <td>Iran bắt tàu chở hóa chất Hàn Quốc có thuyền v...</td>\n",
       "      <td>TTO - Truyền thông Iran ngày 4-1 cho biết Vệ b...</td>\n",
       "      <td>Một số hãng truyền thông Iran cho biết IRGC đã...</td>\n",
       "      <td>Thế giới</td>\n",
       "    </tr>\n",
       "    <tr>\n",
       "      <th>/canh-bao-chieu-muon-danh-ngan-hang-moi-du-hoi-thao-de-chao-mua-san-pham-2021010419583344.htm</th>\n",
       "      <td>Cảnh báo chiêu mượn danh ngân hàng mời dự hội ...</td>\n",
       "      <td>TTO - Giả danh ngân hàng gọi điện thoại mời mở...</td>\n",
       "      <td>VPBank vừa phát đi cảnh báo trên vào hôm nay, ...</td>\n",
       "      <td>Kinh doanh</td>\n",
       "    </tr>\n",
       "  </tbody>\n",
       "</table>\n",
       "</div>"
      ],
      "text/plain": [
       "                                                                                                title  \\\n",
       "links                                                                                                   \n",
       "/nhu-chua-he-co-cuoc-chia-ly-gap-mat-con-mot-la...  Như chưa hề có cuộc chia ly: ‘Gặp mặt con một ...   \n",
       "/hai-nu-sinh-bi-danh-hoi-dong-tren-pho-phong-gi...  Hai nữ sinh bị đánh hội đồng trên phố, Phòng G...   \n",
       "/diem-tin-the-thao-toi-4-1-cuu-gdkt-bong-da-nha...  Điểm tin thể thao tối 4-1: Cựu GĐKT bóng đa...   \n",
       "/iran-bat-tau-cho-hoa-chat-han-quoc-co-thuyen-v...  Iran bắt tàu chở hóa chất Hàn Quốc có thuyền v...   \n",
       "/canh-bao-chieu-muon-danh-ngan-hang-moi-du-hoi-...  Cảnh báo chiêu mượn danh ngân hàng mời dự hội ...   \n",
       "\n",
       "                                                                                          description  \\\n",
       "links                                                                                                   \n",
       "/nhu-chua-he-co-cuoc-chia-ly-gap-mat-con-mot-la...  TTO - Sau 51 năm đi khắp nơi tìm kiếm con trai...   \n",
       "/hai-nu-sinh-bi-danh-hoi-dong-tren-pho-phong-gi...  TTO - Ngày 4-1, Phòng Giáo dục và đào tạo quận...   \n",
       "/diem-tin-the-thao-toi-4-1-cuu-gdkt-bong-da-nha...  TTO - CLB Sài Gòn có cố vấn cấp cao \"xịn\", CLB...   \n",
       "/iran-bat-tau-cho-hoa-chat-han-quoc-co-thuyen-v...  TTO - Truyền thông Iran ngày 4-1 cho biết Vệ b...   \n",
       "/canh-bao-chieu-muon-danh-ngan-hang-moi-du-hoi-...  TTO - Giả danh ngân hàng gọi điện thoại mời mở...   \n",
       "\n",
       "                                                                                              content  \\\n",
       "links                                                                                                   \n",
       "/nhu-chua-he-co-cuoc-chia-ly-gap-mat-con-mot-la...  Đây là một trong số những trường hợp trẻ em th...   \n",
       "/hai-nu-sinh-bi-danh-hoi-dong-tren-pho-phong-gi...  Theo thông tin xác nhận từ Phòng Giáo dục và đ...   \n",
       "/diem-tin-the-thao-toi-4-1-cuu-gdkt-bong-da-nha...  Cựu GĐKT bóng đá Nhật Bản làm cố vâ...   \n",
       "/iran-bat-tau-cho-hoa-chat-han-quoc-co-thuyen-v...  Một số hãng truyền thông Iran cho biết IRGC đã...   \n",
       "/canh-bao-chieu-muon-danh-ngan-hang-moi-du-hoi-...  VPBank vừa phát đi cảnh báo trên vào hôm nay, ...   \n",
       "\n",
       "                                                         class  \n",
       "links                                                           \n",
       "/nhu-chua-he-co-cuoc-chia-ly-gap-mat-con-mot-la...    Giải trí  \n",
       "/hai-nu-sinh-bi-danh-hoi-dong-tren-pho-phong-gi...    Giáo dục  \n",
       "/diem-tin-the-thao-toi-4-1-cuu-gdkt-bong-da-nha...    Thể thao  \n",
       "/iran-bat-tau-cho-hoa-chat-han-quoc-co-thuyen-v...    Thế giới  \n",
       "/canh-bao-chieu-muon-danh-ngan-hang-moi-du-hoi-...  Kinh doanh  "
      ]
     },
     "execution_count": 21,
     "metadata": {},
     "output_type": "execute_result"
    }
   ],
   "source": [
    "data_df.head()"
   ]
  },
  {
   "cell_type": "markdown",
   "metadata": {},
   "source": [
    "#### Dữ liệu có bao nhiêu dòng và bao nhiêu cột?"
   ]
  },
  {
   "cell_type": "code",
   "execution_count": 22,
   "metadata": {},
   "outputs": [
    {
     "data": {
      "text/plain": [
       "(47960, 4)"
      ]
     },
     "execution_count": 22,
     "metadata": {},
     "output_type": "execute_result"
    }
   ],
   "source": [
    "data_df.shape"
   ]
  },
  {
   "cell_type": "code",
   "execution_count": 24,
   "metadata": {},
   "outputs": [
    {
     "data": {
      "text/plain": [
       "(3980, 4)"
      ]
     },
     "execution_count": 24,
     "metadata": {},
     "output_type": "execute_result"
    }
   ],
   "source": [
    "df1.shape"
   ]
  },
  {
   "cell_type": "code",
   "execution_count": null,
   "metadata": {},
   "outputs": [],
   "source": []
  }
 ],
 "metadata": {
  "kernelspec": {
   "display_name": "Python 3.7.7 64-bit ('myenv': conda)",
   "language": "python",
   "name": "python37764bitmyenvconda33b44fc293724b44b4cea38faf2c3929"
  },
  "language_info": {
   "codemirror_mode": {
    "name": "ipython",
    "version": 3
   },
   "file_extension": ".py",
   "mimetype": "text/x-python",
   "name": "python",
   "nbconvert_exporter": "python",
   "pygments_lexer": "ipython3",
   "version": "3.7.7"
  }
 },
 "nbformat": 4,
 "nbformat_minor": 4
}
