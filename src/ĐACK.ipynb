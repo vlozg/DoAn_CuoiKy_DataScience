{
 "cells": [
  {
   "cell_type": "code",
   "execution_count": 40,
   "metadata": {},
   "outputs": [],
   "source": [
    "import requests\n",
    "from bs4 import BeautifulSoup\n",
    "import json\n",
    "import time # Dùng để sleep chương trình\n",
    "import pandas as pd # Dùng để đọc và hiển thị file csv (Pandas sẽ được học chi tiết ở buổi tới)\n",
    "import datetime as dt # Dùng để xử lý dữ liệu thời gian\n",
    "import re\n",
    "from selenium import webdriver\n"
   ]
  },
  {
   "cell_type": "code",
   "execution_count": 41,
   "metadata": {},
   "outputs": [],
   "source": [
    "driver = webdriver.Chrome('Chrome_driver\\chromedriver')\n",
    "driver.get(\"https://tuoitre.vn/tin-moi-nhat.htm\")\n",
    "button = driver.find_element_by_class_name('btn-readmore')\n",
    "for x in range(100):\n",
    "    time.sleep(3)\n",
    "    button.click()"
   ]
  },
  {
   "cell_type": "code",
   "execution_count": 42,
   "metadata": {},
   "outputs": [],
   "source": [
    "element=driver.find_element_by_class_name('list-news-content')"
   ]
  },
  {
   "cell_type": "code",
   "execution_count": 43,
   "metadata": {},
   "outputs": [],
   "source": [
    "\n",
    "soup = BeautifulSoup(element.get_attribute('innerHTML'), 'html.parser')\n",
    "titles = soup.findAll('h3', class_='title-news')\n",
    "links = [link.find('a').attrs[\"href\"] for link in titles]\n",
    "category=soup.findAll('a', class_='category-name fl mgl10 mgb4 uppercase')\n",
    "category_column=[]\n",
    "for x in category:\n",
    "    category_column+=[x.text]"
   ]
  },
  {
   "cell_type": "code",
   "execution_count": 44,
   "metadata": {},
   "outputs": [],
   "source": [
    "title_column=[]\n",
    "description_column=[]\n",
    "content_column=[]\n",
    "for link in links:\n",
    "    news = requests.get(\"https://tuoitre.vn\" + link)\n",
    "    soup= BeautifulSoup(news.content, \"html.parser\")\n",
    "    try:\n",
    "        title=soup.find(\"h1\", class_=\"article-title\").text\n",
    "    except:\n",
    "        title=''\n",
    "    title_column+=[title]\n",
    "    try:\n",
    "        description=soup.find(\"h2\", class_=\"sapo\").text\n",
    "    except:\n",
    "        description=''\n",
    "    description_column+=[description]\n",
    "    body = soup.find(\"div\", id=\"main-detail-body\")\n",
    "    try:\n",
    "        content=body.findChildren(\"p\", recursive=False)\n",
    "        contents=''\n",
    "        for x in content:\n",
    "            contents+=x.text\n",
    "    except:\n",
    "        contents=''\n",
    "    content_column+=[contents]"
   ]
  },
  {
   "cell_type": "code",
   "execution_count": 45,
   "metadata": {},
   "outputs": [],
   "source": [
    "df=pd.DataFrame()"
   ]
  },
  {
   "cell_type": "code",
   "execution_count": 49,
   "metadata": {},
   "outputs": [],
   "source": [
    "df['links']=links\n",
    "df['title']=title_column\n",
    "df['description']=description_column\n",
    "df['content']=content_column\n",
    "df['class']=category_column\n",
    "df.to_csv('crawling.csv',index=False,encoding=\"utf-8\")"
   ]
  },
  {
   "cell_type": "code",
   "execution_count": null,
   "metadata": {},
   "outputs": [],
   "source": []
  }
 ],
 "metadata": {
  "kernelspec": {
   "name": "python3",
   "display_name": "Python 3.7.7 64-bit (conda)",
   "metadata": {
    "interpreter": {
     "hash": "88dea5ee6d29d589ee7f1f3809b456f7b9e9350dd2c157ef442f76177668745b"
    }
   }
  },
  "language_info": {
   "codemirror_mode": {
    "name": "ipython",
    "version": 3
   },
   "file_extension": ".py",
   "mimetype": "text/x-python",
   "name": "python",
   "nbconvert_exporter": "python",
   "pygments_lexer": "ipython3",
   "version": "3.7.7-final"
  }
 },
 "nbformat": 4,
 "nbformat_minor": 4
}