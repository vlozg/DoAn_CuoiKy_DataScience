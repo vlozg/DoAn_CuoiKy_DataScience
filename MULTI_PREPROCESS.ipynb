{
 "cells": [
  {
   "cell_type": "code",
   "execution_count": 1,
   "metadata": {},
   "outputs": [
    {
     "name": "stdout",
     "output_type": "stream",
     "text": [
      "Requirement already satisfied: pandarallel in /home/vlozg/.local/lib/python3.8/site-packages (1.5.1)\n",
      "Requirement already satisfied: dill in /home/vlozg/.local/lib/python3.8/site-packages (from pandarallel) (0.3.3)\n",
      "INFO: Pandarallel will run on 8 workers.\n",
      "INFO: Pandarallel will use Memory file system to transfer data between the main process and workers.\n"
     ]
    }
   ],
   "source": [
    "!pip3 install pandarallel\n",
    "from pandarallel import pandarallel\n",
    "pandarallel.initialize()"
   ]
  },
  {
   "cell_type": "code",
   "execution_count": 2,
   "metadata": {
    "scrolled": true
   },
   "outputs": [
    {
     "name": "stdout",
     "output_type": "stream",
     "text": [
      "Requirement already satisfied: pandas in /home/vlozg/.local/lib/python3.8/site-packages (1.2.0)\n",
      "Requirement already satisfied: pytz>=2017.3 in /home/vlozg/.local/lib/python3.8/site-packages (from pandas) (2020.5)\n",
      "Requirement already satisfied: python-dateutil>=2.7.3 in /home/vlozg/.local/lib/python3.8/site-packages (from pandas) (2.8.1)\n",
      "Requirement already satisfied: numpy>=1.16.5 in /home/vlozg/.local/lib/python3.8/site-packages (from pandas) (1.19.5)\n",
      "Requirement already satisfied: six>=1.5 in /usr/lib/python3/dist-packages (from python-dateutil>=2.7.3->pandas) (1.14.0)\n",
      "Requirement already satisfied: tqdm in /home/vlozg/.local/lib/python3.8/site-packages (4.56.0)\n",
      "Requirement already satisfied: bs4 in /home/vlozg/.local/lib/python3.8/site-packages (0.0.1)\n",
      "Requirement already satisfied: beautifulsoup4 in /home/vlozg/.local/lib/python3.8/site-packages (from bs4) (4.9.3)\n",
      "Requirement already satisfied: soupsieve>1.2; python_version >= \"3.0\" in /home/vlozg/.local/lib/python3.8/site-packages (from beautifulsoup4->bs4) (2.1)\n",
      "Requirement already up-to-date: scikit-learn in /home/vlozg/.local/lib/python3.8/site-packages (0.24.0)\n",
      "Requirement already satisfied, skipping upgrade: threadpoolctl>=2.0.0 in /home/vlozg/.local/lib/python3.8/site-packages (from scikit-learn) (2.1.0)\n",
      "Requirement already satisfied, skipping upgrade: joblib>=0.11 in /home/vlozg/.local/lib/python3.8/site-packages (from scikit-learn) (1.0.0)\n",
      "Requirement already satisfied, skipping upgrade: numpy>=1.13.3 in /home/vlozg/.local/lib/python3.8/site-packages (from scikit-learn) (1.19.5)\n",
      "Requirement already satisfied, skipping upgrade: scipy>=0.19.1 in /home/vlozg/.local/lib/python3.8/site-packages (from scikit-learn) (1.6.0)\n",
      "Requirement already satisfied: regex in /home/vlozg/.local/lib/python3.8/site-packages (2020.11.13)\n",
      "Requirement already satisfied: numpy in /home/vlozg/.local/lib/python3.8/site-packages (1.19.5)\n",
      "Requirement already satisfied: pyvi in /home/vlozg/.local/lib/python3.8/site-packages (0.1)\n",
      "Requirement already satisfied: scikit-learn in /home/vlozg/.local/lib/python3.8/site-packages (from pyvi) (0.24.0)\n",
      "Requirement already satisfied: sklearn-crfsuite in /home/vlozg/.local/lib/python3.8/site-packages (from pyvi) (0.3.6)\n",
      "Requirement already satisfied: numpy>=1.13.3 in /home/vlozg/.local/lib/python3.8/site-packages (from scikit-learn->pyvi) (1.19.5)\n",
      "Requirement already satisfied: joblib>=0.11 in /home/vlozg/.local/lib/python3.8/site-packages (from scikit-learn->pyvi) (1.0.0)\n",
      "Requirement already satisfied: threadpoolctl>=2.0.0 in /home/vlozg/.local/lib/python3.8/site-packages (from scikit-learn->pyvi) (2.1.0)\n",
      "Requirement already satisfied: scipy>=0.19.1 in /home/vlozg/.local/lib/python3.8/site-packages (from scikit-learn->pyvi) (1.6.0)\n",
      "Requirement already satisfied: tqdm>=2.0 in /home/vlozg/.local/lib/python3.8/site-packages (from sklearn-crfsuite->pyvi) (4.56.0)\n",
      "Requirement already satisfied: six in /usr/lib/python3/dist-packages (from sklearn-crfsuite->pyvi) (1.14.0)\n",
      "Requirement already satisfied: python-crfsuite>=0.8.3 in /home/vlozg/.local/lib/python3.8/site-packages (from sklearn-crfsuite->pyvi) (0.9.7)\n",
      "Requirement already satisfied: tabulate in /home/vlozg/.local/lib/python3.8/site-packages (from sklearn-crfsuite->pyvi) (0.8.7)\n",
      "Requirement already satisfied: gensim in /home/vlozg/.local/lib/python3.8/site-packages (3.8.3)\n",
      "Requirement already satisfied: six>=1.5.0 in /usr/lib/python3/dist-packages (from gensim) (1.14.0)\n",
      "Requirement already satisfied: numpy>=1.11.3 in /home/vlozg/.local/lib/python3.8/site-packages (from gensim) (1.19.5)\n",
      "Requirement already satisfied: smart-open>=1.8.1 in /home/vlozg/.local/lib/python3.8/site-packages (from gensim) (4.1.0)\n",
      "Requirement already satisfied: scipy>=0.18.1 in /home/vlozg/.local/lib/python3.8/site-packages (from gensim) (1.6.0)\n",
      "Requirement already satisfied: underthesea in /home/vlozg/.local/lib/python3.8/site-packages (1.3.1)\n",
      "Requirement already satisfied: tqdm in /home/vlozg/.local/lib/python3.8/site-packages (from underthesea) (4.56.0)\n",
      "Requirement already satisfied: transformers<=3.5.1,>=3.5.0 in /home/vlozg/.local/lib/python3.8/site-packages (from underthesea) (3.5.1)\n",
      "Requirement already satisfied: nltk in /home/vlozg/.local/lib/python3.8/site-packages (from underthesea) (3.5)\n",
      "Requirement already satisfied: joblib in /home/vlozg/.local/lib/python3.8/site-packages (from underthesea) (1.0.0)\n",
      "Requirement already satisfied: torch<=1.5.1,>=1.1.0 in /home/vlozg/.local/lib/python3.8/site-packages (from underthesea) (1.5.1)\n",
      "Requirement already satisfied: python-crfsuite>=0.9.6 in /home/vlozg/.local/lib/python3.8/site-packages (from underthesea) (0.9.7)\n",
      "Requirement already satisfied: PyYAML in /usr/lib/python3/dist-packages (from underthesea) (5.3.1)\n",
      "Requirement already satisfied: seqeval in /home/vlozg/.local/lib/python3.8/site-packages (from underthesea) (1.2.2)\n",
      "Requirement already satisfied: unidecode in /home/vlozg/.local/lib/python3.8/site-packages (from underthesea) (1.1.2)\n",
      "Requirement already satisfied: Click>=6.0 in /usr/lib/python3/dist-packages (from underthesea) (7.0)\n",
      "Requirement already satisfied: requests in /usr/lib/python3/dist-packages (from underthesea) (2.22.0)\n",
      "Requirement already satisfied: scikit-learn in /home/vlozg/.local/lib/python3.8/site-packages (from underthesea) (0.24.0)\n",
      "Requirement already satisfied: sacremoses in /home/vlozg/.local/lib/python3.8/site-packages (from transformers<=3.5.1,>=3.5.0->underthesea) (0.0.43)\n",
      "Requirement already satisfied: packaging in /home/vlozg/.local/lib/python3.8/site-packages (from transformers<=3.5.1,>=3.5.0->underthesea) (20.8)\n",
      "Requirement already satisfied: protobuf in /home/vlozg/.local/lib/python3.8/site-packages (from transformers<=3.5.1,>=3.5.0->underthesea) (3.14.0)\n",
      "Requirement already satisfied: tokenizers==0.9.3 in /home/vlozg/.local/lib/python3.8/site-packages (from transformers<=3.5.1,>=3.5.0->underthesea) (0.9.3)\n",
      "Requirement already satisfied: regex!=2019.12.17 in /home/vlozg/.local/lib/python3.8/site-packages (from transformers<=3.5.1,>=3.5.0->underthesea) (2020.11.13)\n",
      "Requirement already satisfied: sentencepiece==0.1.91 in /home/vlozg/.local/lib/python3.8/site-packages (from transformers<=3.5.1,>=3.5.0->underthesea) (0.1.91)\n",
      "Requirement already satisfied: filelock in /home/vlozg/.local/lib/python3.8/site-packages (from transformers<=3.5.1,>=3.5.0->underthesea) (3.0.12)\n",
      "Requirement already satisfied: numpy in /home/vlozg/.local/lib/python3.8/site-packages (from transformers<=3.5.1,>=3.5.0->underthesea) (1.19.5)\n",
      "Requirement already satisfied: future in /home/vlozg/.local/lib/python3.8/site-packages (from torch<=1.5.1,>=1.1.0->underthesea) (0.18.2)\n",
      "Requirement already satisfied: threadpoolctl>=2.0.0 in /home/vlozg/.local/lib/python3.8/site-packages (from scikit-learn->underthesea) (2.1.0)\n",
      "Requirement already satisfied: scipy>=0.19.1 in /home/vlozg/.local/lib/python3.8/site-packages (from scikit-learn->underthesea) (1.6.0)\n",
      "Requirement already satisfied: six in /usr/lib/python3/dist-packages (from sacremoses->transformers<=3.5.1,>=3.5.0->underthesea) (1.14.0)\n",
      "Requirement already satisfied: pyparsing>=2.0.2 in /home/vlozg/.local/lib/python3.8/site-packages (from packaging->transformers<=3.5.1,>=3.5.0->underthesea) (2.4.7)\n"
     ]
    }
   ],
   "source": [
    "!pip3 install pandas\n",
    "!pip3 install tqdm\n",
    "!pip3 install bs4\n",
    "!pip3 install -U scikit-learn\n",
    "!pip3 install regex\n",
    "!pip3 install numpy\n",
    "import pandas as pd\n",
    "import regex as re\n",
    "import time # Dùng để sleep chương trình\n",
    "from tqdm.notebook import tqdm # Hiện thanh progress cho đẹp :D\n",
    "tqdm.pandas()\n",
    "\n",
    "# Thư viện để lấy và parse HTML\n",
    "import requests\n",
    "from bs4 import BeautifulSoup\n",
    "\n",
    "# Các thư viện liên quan tới ngôn ngữ và NLP\n",
    "!pip3 install pyvi ;\n",
    "!pip3 install gensim ;\n",
    "!pip3 install underthesea ;\n",
    "from pyvi import ViTokenizer # thư viện NLP tiếng Việt\n",
    "from underthesea import word_tokenize\n",
    "import gensim\n",
    "import unicodedata\n",
    "\n",
    "# Thư viện liên quan đến machine learning của Scikit-learn\n",
    "from sklearn.model_selection import train_test_split\n",
    "from sklearn.preprocessing import OneHotEncoder, StandardScaler,LabelEncoder\n",
    "from sklearn.impute import SimpleImputer\n",
    "from sklearn.base import BaseEstimator, TransformerMixin\n",
    "from sklearn.pipeline import Pipeline, make_pipeline\n",
    "from sklearn.compose import ColumnTransformer, make_column_transformer\n",
    "from sklearn.neural_network import MLPClassifier\n",
    "\n",
    "from sklearn.feature_extraction.text import TfidfVectorizer, CountVectorizer\n",
    "from sklearn.preprocessing import FunctionTransformer"
   ]
  },
  {
   "cell_type": "code",
   "execution_count": 18,
   "metadata": {},
   "outputs": [
    {
     "name": "stdout",
     "output_type": "stream",
     "text": [
      "Requirement already satisfied: numba in /home/vlozg/.local/lib/python3.8/site-packages (0.52.0)\r\n",
      "Requirement already satisfied: llvmlite<0.36,>=0.35.0 in /home/vlozg/.local/lib/python3.8/site-packages (from numba) (0.35.0)\r\n",
      "Requirement already satisfied: setuptools in /usr/lib/python3/dist-packages (from numba) (45.2.0)\r\n",
      "Requirement already satisfied: numpy>=1.15 in /home/vlozg/.local/lib/python3.8/site-packages (from numba) (1.19.5)\r\n"
     ]
    }
   ],
   "source": [
    "!pip3 install numba\n",
    "from numba import jit, cuda\n",
    "import numba"
   ]
  },
  {
   "cell_type": "code",
   "execution_count": 3,
   "metadata": {},
   "outputs": [],
   "source": [
    "dir_4 = \"src/scraped_data/\""
   ]
  },
  {
   "cell_type": "code",
   "execution_count": 21,
   "metadata": {},
   "outputs": [],
   "source": [
    "#xoá ký tự thừa\n",
    "@numba.jit \n",
    "def remove_unnecessary(paragraph):\n",
    "    temp=re.sub(r'[^\\s\\wáàảãạăắằẳẵặâấầẩẫậéèẻẽẹêếềểễệóòỏõọôốồổỗộơớờởỡợíìỉĩịúùủũụưứừửữựýỳỷỹỵđ_]',' ',paragraph)\n",
    "    return re.sub(r'\\s+', ' ', temp).strip()"
   ]
  },
  {
   "cell_type": "code",
   "execution_count": 14,
   "metadata": {},
   "outputs": [],
   "source": [
    "with open('src/vietnamese-stopwords-dash.txt', encoding='utf-8') as f:\n",
    "    lines = f.read().splitlines()\n",
    "    \n",
    "# Danh sách stopword\n",
    "stopword = set(lines)"
   ]
  },
  {
   "cell_type": "code",
   "execution_count": 20,
   "metadata": {},
   "outputs": [],
   "source": [
    "@numba.jit\n",
    "def tokenize(sent):\n",
    "    return ViTokenizer.tokenize(sent)"
   ]
  },
  {
   "cell_type": "code",
   "execution_count": 19,
   "metadata": {},
   "outputs": [],
   "source": [
    "@numba.jit\n",
    "def remove_stopwords(line):\n",
    "    words = []\n",
    "    for word in line.strip().split():\n",
    "        if word not in stopword:\n",
    "            words.append(word)\n",
    "    return ' '.join(words)"
   ]
  },
  {
   "cell_type": "code",
   "execution_count": null,
   "metadata": {},
   "outputs": [
    {
     "name": "stdout",
     "output_type": "stream",
     "text": [
      "CPU times: user 729 ms, sys: 0 ns, total: 729 ms\n",
      "Wall time: 729 ms\n",
      "CPU times: user 16.4 s, sys: 0 ns, total: 16.4 s\n",
      "Wall time: 16.4 s\n",
      "CPU times: user 454 ms, sys: 0 ns, total: 454 ms\n",
      "Wall time: 453 ms\n",
      "103 completed\n",
      "CPU times: user 703 ms, sys: 0 ns, total: 703 ms\n",
      "Wall time: 702 ms\n",
      "CPU times: user 15.6 s, sys: 0 ns, total: 15.6 s\n",
      "Wall time: 15.6 s\n",
      "CPU times: user 441 ms, sys: 0 ns, total: 441 ms\n",
      "Wall time: 440 ms\n",
      "104 completed\n",
      "CPU times: user 750 ms, sys: 0 ns, total: 750 ms\n",
      "Wall time: 749 ms\n",
      "CPU times: user 21 s, sys: 0 ns, total: 21 s\n",
      "Wall time: 21 s\n",
      "CPU times: user 851 ms, sys: 0 ns, total: 851 ms\n",
      "Wall time: 849 ms\n",
      "105 completed\n",
      "CPU times: user 1.15 s, sys: 0 ns, total: 1.15 s\n",
      "Wall time: 1.15 s\n",
      "CPU times: user 32.8 s, sys: 0 ns, total: 32.8 s\n",
      "Wall time: 32.8 s\n",
      "CPU times: user 742 ms, sys: 0 ns, total: 742 ms\n",
      "Wall time: 740 ms\n",
      "106 completed\n",
      "CPU times: user 1.05 s, sys: 0 ns, total: 1.05 s\n",
      "Wall time: 1.05 s\n"
     ]
    }
   ],
   "source": [
    "# Import toàn bộ data (không khuyến cáo nếu máy không nhiều ram)\n",
    "for i in range(103, 200):\n",
    "    data_df = pd.read_csv(dir_4 + f'crawling_{i}.csv')\n",
    "    \n",
    "    %time data_df['content']=data_df['content'].apply(remove_unnecessary);\n",
    "    %time data_df['content']=data_df['content'].apply(ViTokenizer.tokenize);\n",
    "    %time data_df['content']=data_df['content'].apply(remove_stopwords);\n",
    "    \n",
    "    data_df.to_csv(dir_4 + f\"preprocessed_{i}.csv\", index=False)\n",
    "    print(f\"{i} completed\")"
   ]
  },
  {
   "cell_type": "code",
   "execution_count": null,
   "metadata": {},
   "outputs": [],
   "source": []
  }
 ],
 "metadata": {
  "kernelspec": {
   "display_name": "Python 3",
   "language": "python",
   "name": "python3"
  },
  "language_info": {
   "codemirror_mode": {
    "name": "ipython",
    "version": 3
   },
   "file_extension": ".py",
   "mimetype": "text/x-python",
   "name": "python",
   "nbconvert_exporter": "python",
   "pygments_lexer": "ipython3",
   "version": "3.8.5"
  },
  "toc": {
   "base_numbering": 1,
   "nav_menu": {},
   "number_sections": false,
   "sideBar": true,
   "skip_h1_title": false,
   "title_cell": "Table of Contents",
   "title_sidebar": "Contents",
   "toc_cell": false,
   "toc_position": {
    "height": "calc(100% - 180px)",
    "left": "10px",
    "top": "150px",
    "width": "306.391px"
   },
   "toc_section_display": true,
   "toc_window_display": true
  }
 },
 "nbformat": 4,
 "nbformat_minor": 4
}
