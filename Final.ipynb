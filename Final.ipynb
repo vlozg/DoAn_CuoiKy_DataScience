{
 "cells": [
  {
   "cell_type": "markdown",
   "metadata": {},
   "source": [
    "# Đồ án cuối kỳ - Phân tích chủ đề văn bản\n",
    "(Cập nhật 07/01/2021)\n",
    "\n",
    "Nhóm: 12\n",
    "\n",
    "Thành viên nhóm:\n",
    "- Vũ Đăng Hoàng Long - MSSV: 18120203\n",
    "- Nguyễn Huỳnh Đại Lợi - MSSV: 18120198"
   ]
  },
  {
   "cell_type": "markdown",
   "metadata": {},
   "source": [
    "---\n",
    "## Import thư viện"
   ]
  },
  {
   "cell_type": "code",
   "execution_count": 10,
   "metadata": {
    "scrolled": true
   },
   "outputs": [
    {
     "name": "stderr",
     "output_type": "stream",
     "text": [
      "ERROR: Invalid requirement: ''\n",
      "WARNING: You are using pip version 20.3.1; however, version 20.3.3 is available.\n",
      "You should consider upgrading via the 'c:\\users\\admin\\appdata\\local\\programs\\python\\python38\\python.exe -m pip install --upgrade pip' command.\n",
      "ERROR: Invalid requirement: ''\n",
      "WARNING: You are using pip version 20.3.1; however, version 20.3.3 is available.\n",
      "You should consider upgrading via the 'c:\\users\\admin\\appdata\\local\\programs\\python\\python38\\python.exe -m pip install --upgrade pip' command.\n"
     ]
    }
   ],
   "source": [
    "import pandas as pd\n",
    "import regex as re\n",
    "import time # Dùng để sleep chương trình\n",
    "from tqdm.notebook import tqdm # Hiện thanh progress cho đẹp :D\n",
    "\n",
    "# Thư viện để lấy và parse HTML\n",
    "import requests\n",
    "from bs4 import BeautifulSoup\n",
    "\n",
    "# Các thư viện liên quan tới ngôn ngữ và NLP\n",
    "!pip install pyvi ;\n",
    "!pip install gensim ;\n",
    "from pyvi import ViTokenizer, ViPosTagger # thư viện NLP tiếng Việt\n",
    "import gensim\n",
    "import unicodedata\n",
    "\n",
    "# Thư viện liên quan đến machine learning của Scikit-learn\n",
    "from sklearn.model_selection import train_test_split\n",
    "from sklearn.preprocessing import OneHotEncoder, StandardScaler,LabelEncoder\n",
    "from sklearn.impute import SimpleImputer\n",
    "from sklearn.base import BaseEstimator, TransformerMixin\n",
    "from sklearn.pipeline import Pipeline, make_pipeline\n",
    "from sklearn.compose import ColumnTransformer, make_column_transformer\n",
    "from sklearn.neural_network import MLPClassifier\n",
    "\n",
    "from sklearn.feature_extraction.text import TfidfVectorizer, CountVectorizer\n",
    "from sklearn.preprocessing import FunctionTransformer"
   ]
  },
  {
   "cell_type": "markdown",
   "metadata": {},
   "source": [
    "---\n",
    "## 1. Thu thập dữ liệu"
   ]
  },
  {
   "cell_type": "markdown",
   "metadata": {},
   "source": [
    "Dữ liệu trong đồ án này được thu thập toàn bộ từ trang báo mạng Tuổi Trẻ Online (https://tuoitre.vn/).\n",
    "\n",
    "Khi mới vào trang chủ, có thể thấy trang báo này phân bổ thứ tự và cấu trúc thông tin không đều, rất khó để có thể thu thập được. Tuy nhiên, may mắn là trang báo này có mục tin mới nhất chứa toàn bộ tin từ các chuyên mục và có tổ chức các mục có cấu trúc rõ ràng (Hình 1).\n",
    "\n",
    "![Hình 1](resources/tin-moi-nhat.png \"Hình 1\")\n",
    "\n",
    "Khi người dùng kéo xuống cuối trang, sẽ có nút \"Xem thêm\" (Hình 2). Người dùng nhấn vào đây và tin tức cũ hơn sẽ hiện ngay bên dưới để người dùng kéo xuống tiếp.\n",
    "\n",
    "![Hình 2](resources/xem-them.png \"Hình 2\")\n",
    "\n",
    "Thoáng nhìn qua, quy trình lướt tin tức sẽ bao gồm: Vào mục tin mới -> Kéo xuống cuối trang -> Bấm \"Xem thêm\" -> Kéo xuống cuối trang và lặp lại. Như vậy với cách làm đơn giản nhất là mô phỏng click chuột của người dùng để bấm nút xem thêm càng nhiều càng tốt, sau đó lấy file HTML của trang về và thực hiện parse (Đây chính là cách làm trong phiên bản đầu của quy trình này của nhóm). Tuy nhiên cách này rất thiếu hiệu quả bởi lẽ máy sẽ cần phải mở trình duyệt lên và mô phỏng thao tác của người dùng -> rất chậm do thời gian tải trang và tốn tài nguyên xử lý của máy tính do phải render trang web. Trong phiên bản đầu nhóm đã mất khoảng vài phút để có thể lấy được 480 tin.\n",
    "\n",
    "Nhận thấy rằng trang tin này có một đặc điểm là có thể lăn chuột vô tận, nhóm tìm hiểu và phát hiện rằng có thể cải thiện hiệu suất của quy trình này lên rất nhiều lần! Cụ thể, khi người dùng bấm vào nút \"Xem thêm\", trang web sẽ gửi yêu cầu lên server và nhận về một file HTML có cấu trúc đơn giản chứa thông tin các bài báo (Hình 3). Sau đó trình duyệt sẽ thực hiện thay đổi DOM của trang web để thêm các tin này vào bên dưới, tạo hiệu ứng lăn chuột vô tận. Do vậy, thay vì phải đợi trình duyệt render trang web, nhóm có thể request thẳng đường link giống cách trang web request lên server. Việc làm này sẽ rút ngắn rất nhiều thời gian của quá trình thu thập dữ liệu!\n",
    "\n",
    "![Hình 3](resources/xem-them-network.png \"Hình 3\")\n",
    "\n",
    "Khi sử dụng công cụ theo dõi network của trình duyệt, nhóm phát hiện ra rằng đường link request tin mới của trang web khi bấm nút xem thêm lần đầu là \"https://tuoitre.vn/timeline/0/trang-1.htm\". Rất có thể khi thay thế trang-1 thành trang-2, trang-3,... chúng ta sẽ thu được các kết quả là tin mới của các lần bấm thứ 2, thứ 3,... vào nút \"Xem thêm\" (điều này đúng, nhóm đã kiểm chứng).\n",
    "\n",
    "Đoạn code bên dưới sẽ thực hiện request vào đường link trên và thực hiện parse với BeautifulSoup như HTML bình thường để lấy đường link và chuyên mục của các tin tức. Sau đó sẽ thực hiện request trang tin chính từ đường link thu thập được và lấy các thông tin tiêu đề, mô tả và nội dung.\n",
    "\n",
    "Kết quả sẽ được in bằng hàm tail() giúp có thể nắm được số lượng data lấy được thông qua index."
   ]
  },
  {
   "cell_type": "code",
   "execution_count": 3,
   "metadata": {},
   "outputs": [],
   "source": [
    "# Thiết lập đường dần cho phần 1\n",
    "dir_1 = \"src/scraped_data_demo\""
   ]
  },
  {
   "cell_type": "code",
   "execution_count": 56,
   "metadata": {
    "scrolled": true
   },
   "outputs": [
    {
     "data": {
      "text/html": [
       "<div>\n",
       "<style scoped>\n",
       "    .dataframe tbody tr th:only-of-type {\n",
       "        vertical-align: middle;\n",
       "    }\n",
       "\n",
       "    .dataframe tbody tr th {\n",
       "        vertical-align: top;\n",
       "    }\n",
       "\n",
       "    .dataframe thead th {\n",
       "        text-align: right;\n",
       "    }\n",
       "</style>\n",
       "<table border=\"1\" class=\"dataframe\">\n",
       "  <thead>\n",
       "    <tr style=\"text-align: right;\">\n",
       "      <th></th>\n",
       "      <th>links</th>\n",
       "      <th>title</th>\n",
       "      <th>description</th>\n",
       "      <th>content</th>\n",
       "      <th>class</th>\n",
       "    </tr>\n",
       "  </thead>\n",
       "  <tbody>\n",
       "    <tr>\n",
       "      <th>15</th>\n",
       "      <td>https://tuoitre.vn/1-ca-covid-19-moi-phat-hien...</td>\n",
       "      <td>1 ca COVID-19 mới, phát hiện sau 3 lần xét ngh...</td>\n",
       "      <td>NaN</td>\n",
       "      <td>NaN</td>\n",
       "      <td>Sức khỏe</td>\n",
       "    </tr>\n",
       "    <tr>\n",
       "      <th>16</th>\n",
       "      <td>https://tuoitre.vn/lang-kinh-24g-canh-giac-voi...</td>\n",
       "      <td>Lăng kính 24g: Cảnh giác với tội phạm trộm cắp...</td>\n",
       "      <td>NaN</td>\n",
       "      <td>NaN</td>\n",
       "      <td>Cần biết</td>\n",
       "    </tr>\n",
       "    <tr>\n",
       "      <th>17</th>\n",
       "      <td>https://tuoitre.vn/game-show-cuoi-cung-chi-tai...</td>\n",
       "      <td>Gameshow cuối cùng của Chí Tài - Cơ hội đổi đờ...</td>\n",
       "      <td>NaN</td>\n",
       "      <td>NaN</td>\n",
       "      <td>Giải trí</td>\n",
       "    </tr>\n",
       "    <tr>\n",
       "      <th>18</th>\n",
       "      <td>https://tuoitre.vn/giua-kho-khan-thoi-covid-19...</td>\n",
       "      <td>Giữa khó khăn 'thời COVID-19', một doanh nghiệ...</td>\n",
       "      <td>NaN</td>\n",
       "      <td>NaN</td>\n",
       "      <td>Thời sự</td>\n",
       "    </tr>\n",
       "    <tr>\n",
       "      <th>19</th>\n",
       "      <td>https://tuoitre.vn/triet-pha-duong-day-mang-th...</td>\n",
       "      <td>Triệt phá đường dây mang thai hộ, mỗi lần 'đẻ ...</td>\n",
       "      <td>NaN</td>\n",
       "      <td>NaN</td>\n",
       "      <td>Pháp luật</td>\n",
       "    </tr>\n",
       "  </tbody>\n",
       "</table>\n",
       "</div>"
      ],
      "text/plain": [
       "                                                links  \\\n",
       "15  https://tuoitre.vn/1-ca-covid-19-moi-phat-hien...   \n",
       "16  https://tuoitre.vn/lang-kinh-24g-canh-giac-voi...   \n",
       "17  https://tuoitre.vn/game-show-cuoi-cung-chi-tai...   \n",
       "18  https://tuoitre.vn/giua-kho-khan-thoi-covid-19...   \n",
       "19  https://tuoitre.vn/triet-pha-duong-day-mang-th...   \n",
       "\n",
       "                                                title description content  \\\n",
       "15  1 ca COVID-19 mới, phát hiện sau 3 lần xét ngh...         NaN     NaN   \n",
       "16  Lăng kính 24g: Cảnh giác với tội phạm trộm cắp...         NaN     NaN   \n",
       "17  Gameshow cuối cùng của Chí Tài - Cơ hội đổi đờ...         NaN     NaN   \n",
       "18  Giữa khó khăn 'thời COVID-19', một doanh nghiệ...         NaN     NaN   \n",
       "19  Triệt phá đường dây mang thai hộ, mỗi lần 'đẻ ...         NaN     NaN   \n",
       "\n",
       "        class  \n",
       "15   Sức khỏe  \n",
       "16   Cần biết  \n",
       "17   Giải trí  \n",
       "18    Thời sự  \n",
       "19  Pháp luật  "
      ]
     },
     "execution_count": 56,
     "metadata": {},
     "output_type": "execute_result"
    }
   ],
   "source": [
    "# Thử nghiệm url đầu tiên\n",
    "url = \"https://tuoitre.vn/timeline/0/trang-1.htm\"\n",
    "\n",
    "# Lấy danh sách news_items\n",
    "html_text = requests.get(url).text\n",
    "html_tree = BeautifulSoup(html_text, 'html.parser')\n",
    "news_items = html_tree.findAll('li', class_='news-item')\n",
    "\n",
    "# Lấy ra link, title và category từ news_items\n",
    "raw_data = pd.DataFrame(columns=[\"links\",\"title\",\"description\",\"content\",\"class\"])\n",
    "for item in news_items:\n",
    "    title = item.find('h3', class_='title-news').text.replace('\\n','')\n",
    "    link = \"https://tuoitre.vn\" + item.find('a').attrs[\"href\"]\n",
    "    category = item.find('a', class_='category-name').text\n",
    "    raw_data = raw_data.append({\"links\":link, \"title\":title, \"class\":category}, ignore_index=True)\n",
    "\n",
    "raw_data.tail()"
   ]
  },
  {
   "cell_type": "code",
   "execution_count": 57,
   "metadata": {
    "scrolled": true
   },
   "outputs": [
    {
     "name": "stdout",
     "output_type": "stream",
     "text": [
      "Wall time: 2.83 s\n"
     ]
    },
    {
     "data": {
      "text/html": [
       "<div>\n",
       "<style scoped>\n",
       "    .dataframe tbody tr th:only-of-type {\n",
       "        vertical-align: middle;\n",
       "    }\n",
       "\n",
       "    .dataframe tbody tr th {\n",
       "        vertical-align: top;\n",
       "    }\n",
       "\n",
       "    .dataframe thead th {\n",
       "        text-align: right;\n",
       "    }\n",
       "</style>\n",
       "<table border=\"1\" class=\"dataframe\">\n",
       "  <thead>\n",
       "    <tr style=\"text-align: right;\">\n",
       "      <th></th>\n",
       "      <th>links</th>\n",
       "      <th>title</th>\n",
       "      <th>description</th>\n",
       "      <th>content</th>\n",
       "      <th>class</th>\n",
       "    </tr>\n",
       "  </thead>\n",
       "  <tbody>\n",
       "    <tr>\n",
       "      <th>15</th>\n",
       "      <td>https://tuoitre.vn/1-ca-covid-19-moi-phat-hien...</td>\n",
       "      <td>1 ca COVID-19 mới, phát hiện sau 3 lần xét ngh...</td>\n",
       "      <td>TTO - Sau nhiều ngày số mắc mới khá cao và dồn...</td>\n",
       "      <td>Theo Bộ Y tế, 1 ca mắc mới ngày 6-1 là ca nhập...</td>\n",
       "      <td>Sức khỏe</td>\n",
       "    </tr>\n",
       "    <tr>\n",
       "      <th>16</th>\n",
       "      <td>https://tuoitre.vn/lang-kinh-24g-canh-giac-voi...</td>\n",
       "      <td>Lăng kính 24g: Cảnh giác với tội phạm trộm cắp...</td>\n",
       "      <td></td>\n",
       "      <td></td>\n",
       "      <td>Cần biết</td>\n",
       "    </tr>\n",
       "    <tr>\n",
       "      <th>17</th>\n",
       "      <td>https://tuoitre.vn/game-show-cuoi-cung-chi-tai...</td>\n",
       "      <td>Gameshow cuối cùng của Chí Tài - Cơ hội đổi đờ...</td>\n",
       "      <td>TTO - Tối 5-1, tập đầu tiên của chương trình t...</td>\n",
       "      <td>Cơ hội đổi đời là chương trình truyền hình thự...</td>\n",
       "      <td>Giải trí</td>\n",
       "    </tr>\n",
       "    <tr>\n",
       "      <th>18</th>\n",
       "      <td>https://tuoitre.vn/giua-kho-khan-thoi-covid-19...</td>\n",
       "      <td>Giữa khó khăn 'thời COVID-19', một doanh nghiệ...</td>\n",
       "      <td>TTO - Hầu hết doanh nghiệp tại Đồng Nai duy tr...</td>\n",
       "      <td>Ngày 6-1, Sở Lao động - thương binh và xã hội ...</td>\n",
       "      <td>Thời sự</td>\n",
       "    </tr>\n",
       "    <tr>\n",
       "      <th>19</th>\n",
       "      <td>https://tuoitre.vn/triet-pha-duong-day-mang-th...</td>\n",
       "      <td>Triệt phá đường dây mang thai hộ, mỗi lần 'đẻ ...</td>\n",
       "      <td>TTO - Công an quận Long Biên (Hà Nội) vừa triệ...</td>\n",
       "      <td>Ngày 6-1, Công an quận Long Biên (Hà Nội) cho ...</td>\n",
       "      <td>Pháp luật</td>\n",
       "    </tr>\n",
       "  </tbody>\n",
       "</table>\n",
       "</div>"
      ],
      "text/plain": [
       "                                                links  \\\n",
       "15  https://tuoitre.vn/1-ca-covid-19-moi-phat-hien...   \n",
       "16  https://tuoitre.vn/lang-kinh-24g-canh-giac-voi...   \n",
       "17  https://tuoitre.vn/game-show-cuoi-cung-chi-tai...   \n",
       "18  https://tuoitre.vn/giua-kho-khan-thoi-covid-19...   \n",
       "19  https://tuoitre.vn/triet-pha-duong-day-mang-th...   \n",
       "\n",
       "                                                title  \\\n",
       "15  1 ca COVID-19 mới, phát hiện sau 3 lần xét ngh...   \n",
       "16  Lăng kính 24g: Cảnh giác với tội phạm trộm cắp...   \n",
       "17  Gameshow cuối cùng của Chí Tài - Cơ hội đổi đờ...   \n",
       "18  Giữa khó khăn 'thời COVID-19', một doanh nghiệ...   \n",
       "19  Triệt phá đường dây mang thai hộ, mỗi lần 'đẻ ...   \n",
       "\n",
       "                                          description  \\\n",
       "15  TTO - Sau nhiều ngày số mắc mới khá cao và dồn...   \n",
       "16                                                      \n",
       "17  TTO - Tối 5-1, tập đầu tiên của chương trình t...   \n",
       "18  TTO - Hầu hết doanh nghiệp tại Đồng Nai duy tr...   \n",
       "19  TTO - Công an quận Long Biên (Hà Nội) vừa triệ...   \n",
       "\n",
       "                                              content      class  \n",
       "15  Theo Bộ Y tế, 1 ca mắc mới ngày 6-1 là ca nhập...   Sức khỏe  \n",
       "16                                                      Cần biết  \n",
       "17  Cơ hội đổi đời là chương trình truyền hình thự...   Giải trí  \n",
       "18  Ngày 6-1, Sở Lao động - thương binh và xã hội ...    Thời sự  \n",
       "19  Ngày 6-1, Công an quận Long Biên (Hà Nội) cho ...  Pháp luật  "
      ]
     },
     "execution_count": 57,
     "metadata": {},
     "output_type": "execute_result"
    }
   ],
   "source": [
    "%%time\n",
    "for _, row in raw_data.iterrows():\n",
    "    news_page = requests.get(row[\"links\"]).content\n",
    "    news_tree = BeautifulSoup(news_page, \"html.parser\")\n",
    "    # Lấy mô tả\n",
    "    try:\n",
    "        row[\"description\"] = news_tree.find(\"h2\", class_=\"sapo\").text\n",
    "    except:\n",
    "        row[\"description\"] = ''\n",
    "    # Lấy nội dung\n",
    "    try:\n",
    "        body = news_tree.find(\"div\", id=\"main-detail-body\")\n",
    "        content = body.findChildren(\"p\", recursive=False)\n",
    "        row[\"content\"] = \"\"\n",
    "        for x in content:\n",
    "            row[\"content\"] += x.text\n",
    "    except:\n",
    "        row[\"content\"] = ''\n",
    "    time.sleep(0.05)\n",
    "    \n",
    "raw_data.tail()"
   ]
  },
  {
   "cell_type": "markdown",
   "metadata": {},
   "source": [
    "### Vấn đề phát sinh trong quá trình thu thập dữ liệu tự động hàng loạt"
   ]
  },
  {
   "cell_type": "markdown",
   "metadata": {},
   "source": [
    "#### Thiếu dữ liệu làm đứt quãng quá trình thu thập\n",
    "Do khối lượng dữ liệu có thể thu thập được rất lớn (ước tính lên đến hơn 500.000 tin), việc giám sát quá trình khai thác liên tục là không thể. Việc xuất hiện lỗi này đã khiến quá trình khai thác bị ngắt quãng mỗi khi xuất hiện. Nhóm đã khắc phục bằng cách đặt các khối lệnh ```try``` ```catch``` ở mỗi đoạn code parse các phần thông tin, tự động trả về rỗng nếu có lỗi.\n",
    "\n",
    "#### Lỗi TooManyRedirects: Exceeded 30 redirects\n",
    "Đây là lỗi xuất hiện khi một trang web tự điều hướng quá 30 lần (con số mặc định có thể chỉnh được).\n",
    "\n",
    "Với một số server, khi được request sẽ tùy vào thông tin header của request (như trình duyệt, cache,...), server sẽ đính kèm lệnh chuyển hướng vào response và trình duyệt sẽ dùng thông tin đó điều hướng chuyển qua trang web nhất định. Chẳng hạn, khi người dùng điện thoại truy cập vào trang facebook.com, trình duyệt sẽ tự động điều hướng chuyển người dùng tới trang m.facebook.com là trang có giao diện dành cho điện thoại. Request HTTP trong python cũng không phải ngoại lệ khi có thiết lập mặc định là sẽ tự động chuyển hướng cho đến khi không còn nhận được lệnh từ server.\n",
    "\n",
    "Khi tra cứu lỗi này trên google, nhóm nhận được các đề xuất giải quyết sau:\n",
    "- Thêm tham số ```allow_redirects=True``` vào lệnh ```requests.get```\n",
    "- Thêm tham số ```headers``` vào lệnh ```requests.get```. Tham số này chứa các thông tin mặc định của header mà trình duyệt gửi tới server.\n",
    "- Tạo một ```session``` và thay đổi thuộc tính ```max_redirect``` lên hớn 30.\n",
    "\n",
    "Với cách 1 vô nghĩa do tham số đó là mặc định sẵn, cách 3 thì không đảm bảo thay đổi bao nhiêu là đủ. Còn với cách 2, lệnh request cung cấp thêm thông tin cho server nhằm tránh tình trạng server không xác định được người dùng và rơi vào vòng lặp redirect vô tận. Tuy nhiên nhóm áp dụng và vẫn không khắc phục được. Khi thử lấy link này thì hoàn toàn không vô được.\n",
    "\n",
    "Một điều thú vị là khi debug, nhóm phát hiện rằng các link sinh ra lỗi này đều có nội dung về giáo dục (Hình 4). Khi thử tìm kiếm trang riêng có đường link https://tuyensinh.tuoitre.vn/ thì được điều hướng trở về trang https://tuoitre.vn/giao-duc/tuyen-sinh.htm. Kết luận của nhóm: rất có thể trang báo này đã có quá trình thay đổi công nghệ ở một thời điểm nhất định trong quá khứ khiến cho các trang này không truy cập được -> không chỉ trang tin giáo dục mà còn có thể nhiều trang tin khác cũng bị tương tự.\n",
    "\n",
    "![Hình 4](resources/tuyen-sinh-errors.png \"Hình 4\")\n",
    "\n",
    "Quyết định của nhóm là sẽ áp dụng cách khắc phục 2 vì nó hợp lý và áp khối ```try``` ```catch``` điền thông tin trống với các link tiếp tục bị lỗi.\n",
    "\n",
    "#### Lỗi 502 của trang web được request về\n",
    "Lỗi này đến từ phía server của trang báo và xuất hiện rất ngẫu nhiên không xác định được. Nhóm đã giải quyết bằng cách đặt vòng lặp ```while``` tại các câu lệnh ```get``` và chỉ ngừng khi quá số lần cho phép hoặc nhận phản hồi 200 tức OK. Tuy nhiên cần chú ý cho phép cả phản hồi 301 vì đây là lệnh điều hướng trang có liên quan tới lỗi ở phần trước có đề cập."
   ]
  },
  {
   "cell_type": "markdown",
   "metadata": {},
   "source": [
    "### Thiết lập đoạn code thu thập dữ liệu tự động hàng loạt"
   ]
  },
  {
   "cell_type": "code",
   "execution_count": 59,
   "metadata": {
    "scrolled": true
   },
   "outputs": [],
   "source": [
    "def single_request_scraping(index = 1, sleep_time = 0.05):\n",
    "    '''\n",
    "    Thu thập các trang tin trong mục tin mới nhất của báo Tuổi Trẻ.\n",
    "    Mỗi lần thu thập 20 tin. Sử dụng số index để thu thập các trang liên tiếp.\n",
    "    Với index = 1 tức lấy 20 trang tin mới nhất.\n",
    "\n",
    "    Lưu ý:\n",
    "        Khi lấy liên tục cần chọn thời điểm\n",
    "        vì có khả năng báo cập nhật tin tức mới sẽ làm \n",
    "        tin ở trang trước bị đẩy xuống trang sau.\n",
    "\n",
    "    Param:\n",
    "        index: số chỉ trang cần request.\n",
    "    '''\n",
    "    allow_status = [200, 301]\n",
    "    s = requests.Session()\n",
    "    s.headers['User-Agent'] = 'Mozilla/5.0 (Macintosh; Intel Mac OS X 10_9_2) AppleWebKit/537.36 (KHTML, like Gecko) Chrome/34.0.1847.131 Safari/537.36'\n",
    "    url = f\"https://tuoitre.vn/timeline/0/trang-{index}.htm\"\n",
    "\n",
    "    # Lấy danh sách news_items\n",
    "    try:\n",
    "        response = s.get(url)\n",
    "        try_left = limit_retry\n",
    "        while (response.status_code not in allow_status and try_left > 0):\n",
    "            print(f\"Loi {response.status_code} tai trang {index}\")\n",
    "            response = s.get(url)\n",
    "            try_left -= 1\n",
    "        html_text = response.text\n",
    "    except:\n",
    "        print(f\"Loi request tai trang {index}\")\n",
    "        return None\n",
    "    \n",
    "    html_tree = BeautifulSoup(html_text, 'html.parser')\n",
    "    news_items = html_tree.findAll('li', class_='news-item')\n",
    "    \n",
    "    # Kiểm tra lỗi nếu không lấy được bất cứ item nào\n",
    "    if (len(news_items) == 0):\n",
    "        print(f'Trang {index} khong lay duoc item.')\n",
    "        print(html_text)\n",
    "        return None\n",
    "    elif (len(news_items) != 20):\n",
    "        print(f\"Warning: Trang {index} chi lay duoc {len(news_items)} items.\")\n",
    "    \n",
    "    # Lấy ra link, title và category từ news_items\n",
    "    raw_data = pd.DataFrame(columns=[\"links\",\"title\",\"description\",\"content\",\"class\"])\n",
    "    for item in news_items:\n",
    "        try:\n",
    "            title = item.find('h3', class_='title-news').text.replace('\\n','')\n",
    "        except:\n",
    "            title = \"\"\n",
    "        link = \"https://tuoitre.vn\" + item.find('a').attrs[\"href\"]\n",
    "        try:\n",
    "            category = item.find('a', class_='category-name').text\n",
    "        except:\n",
    "            category = \"\"\n",
    "        raw_data = raw_data.append({\"links\":link, \"title\":title, \"class\":category}, ignore_index=True)\n",
    "    \n",
    "    # Tiến hành lấy nội dung từng link\n",
    "    for _, row in raw_data.iterrows():\n",
    "        try:\n",
    "            response = s.get(row[\"links\"])\n",
    "            try_left = limit_retry\n",
    "            while (response.status_code not in allow_status and try_left > 0):\n",
    "                print(f\"Loi {response.status_code} tai link {row['links']}\")\n",
    "                response = s.get(row[\"links\"])\n",
    "                try_left -= 1\n",
    "            news_page = response.content\n",
    "        except:\n",
    "            print(f\"Loi request tai link {row['links']}\")\n",
    "            row[\"description\"] = \"\"\n",
    "            row[\"content\"] = \"\"\n",
    "            continue\n",
    "            \n",
    "        news_tree = BeautifulSoup(news_page, \"html.parser\")\n",
    "        # Lấy mô tả\n",
    "        try:\n",
    "            row[\"description\"] = news_tree.find(\"h2\", class_=\"sapo\").text\n",
    "        except:\n",
    "            row[\"description\"] = ''\n",
    "        # Lấy nội dung\n",
    "        try:\n",
    "            body = news_tree.find(\"div\", id=\"main-detail-body\")\n",
    "            content = body.findChildren(\"p\", recursive=False)\n",
    "            row[\"content\"] = \"\"\n",
    "            for x in content:\n",
    "                row[\"content\"] += x.text\n",
    "        except:\n",
    "            row[\"content\"] = ''\n",
    "        time.sleep(sleep_time)\n",
    "    \n",
    "    return raw_data"
   ]
  },
  {
   "cell_type": "code",
   "execution_count": 52,
   "metadata": {
    "collapsed": true
   },
   "outputs": [
    {
     "name": "stdout",
     "output_type": "stream",
     "text": [
      "Page 3401 complete!\n",
      "Page 3402 complete!\n",
      "Page 3403 complete!\n",
      "Page 3404 complete!\n",
      "Page 3405 complete!\n",
      "Page 3406 complete!\n",
      "Page 3407 complete!\n",
      "Page 3408 complete!\n",
      "Page 3409 complete!\n",
      "Page 3410 complete!\n",
      "Page 3411 complete!\n",
      "Page 3412 complete!\n",
      "Page 3413 complete!\n",
      "Page 3414 complete!\n",
      "Page 3415 complete!\n",
      "Page 3416 complete!\n",
      "Page 3417 complete!\n",
      "Page 3418 complete!\n",
      "Page 3419 complete!\n",
      "Page 3420 complete!\n",
      "Page 3421 complete!\n",
      "Page 3422 complete!\n",
      "Page 3423 complete!\n",
      "Page 3424 complete!\n",
      "Page 3425 complete!\n",
      "Page 3426 complete!\n",
      "Page 3427 complete!\n",
      "Page 3428 complete!\n",
      "Page 3429 complete!\n",
      "Page 3430 complete!\n",
      "Page 3431 complete!\n",
      "Page 3432 complete!\n",
      "Page 3433 complete!\n",
      "Page 3434 complete!\n",
      "Page 3435 complete!\n",
      "Page 3436 complete!\n",
      "Page 3437 complete!\n",
      "Page 3438 complete!\n",
      "Page 3439 complete!\n",
      "Page 3440 complete!\n",
      "Page 3441 complete!\n",
      "Page 3442 complete!\n",
      "Page 3443 complete!\n",
      "Page 3444 complete!\n",
      "Page 3445 complete!\n",
      "Page 3446 complete!\n",
      "Page 3447 complete!\n",
      "Page 3448 complete!\n",
      "Page 3449 complete!\n",
      "Page 3450 complete!\n",
      "Page 3451 complete!\n",
      "Page 3452 complete!\n",
      "Page 3453 complete!\n",
      "Page 3454 complete!\n",
      "Page 3455 complete!\n",
      "Page 3456 complete!\n",
      "Page 3457 complete!\n",
      "Page 3458 complete!\n",
      "Page 3459 complete!\n",
      "Page 3460 complete!\n",
      "Page 3461 complete!\n",
      "Page 3462 complete!\n",
      "Page 3463 complete!\n",
      "Page 3464 complete!\n",
      "Page 3465 complete!\n",
      "Page 3466 complete!\n",
      "Page 3467 complete!\n",
      "Page 3468 complete!\n",
      "Page 3469 complete!\n",
      "Page 3470 complete!\n",
      "Page 3471 complete!\n",
      "Page 3472 complete!\n",
      "Page 3473 complete!\n",
      "Page 3474 complete!\n",
      "Page 3475 complete!\n",
      "Page 3476 complete!\n",
      "Page 3477 complete!\n",
      "Page 3478 complete!\n",
      "Page 3479 complete!\n",
      "Page 3480 complete!\n",
      "Page 3481 complete!\n",
      "Page 3482 complete!\n",
      "Page 3483 complete!\n",
      "Page 3484 complete!\n",
      "Page 3485 complete!\n",
      "Page 3486 complete!\n",
      "Page 3487 complete!\n",
      "Page 3488 complete!\n",
      "Page 3489 complete!\n",
      "Page 3490 complete!\n",
      "Page 3491 complete!\n",
      "Page 3492 complete!\n",
      "Page 3493 complete!\n",
      "Page 3494 complete!\n",
      "Page 3495 complete!\n",
      "Page 3496 complete!\n",
      "Page 3497 complete!\n",
      "Page 3498 complete!\n",
      "Page 3499 complete!\n",
      "Page 3500 complete!\n",
      "Page 3501 complete!\n",
      "Page 3502 complete!\n",
      "Page 3503 complete!\n",
      "Page 3504 complete!\n",
      "Page 3505 complete!\n",
      "Page 3506 complete!\n",
      "Page 3507 complete!\n",
      "Page 3508 complete!\n",
      "Page 3509 complete!\n",
      "Page 3510 complete!\n",
      "Page 3511 complete!\n",
      "Page 3512 complete!\n",
      "Page 3513 complete!\n",
      "Page 3514 complete!\n",
      "Page 3515 complete!\n",
      "Page 3516 complete!\n",
      "Page 3517 complete!\n",
      "Page 3518 complete!\n",
      "Page 3519 complete!\n",
      "Page 3520 complete!\n",
      "Page 3521 complete!\n",
      "Page 3522 complete!\n",
      "Page 3523 complete!\n",
      "Page 3524 complete!\n",
      "Page 3525 complete!\n",
      "Page 3526 complete!\n",
      "Page 3527 complete!\n",
      "Page 3528 complete!\n",
      "Page 3529 complete!\n",
      "Page 3530 complete!\n",
      "Page 3531 complete!\n",
      "Page 3532 complete!\n",
      "Page 3533 complete!\n",
      "Page 3534 complete!\n",
      "Page 3535 complete!\n",
      "Page 3536 complete!\n",
      "Page 3537 complete!\n",
      "Page 3538 complete!\n",
      "Page 3539 complete!\n",
      "Page 3540 complete!\n",
      "Page 3541 complete!\n",
      "Page 3542 complete!\n",
      "Page 3543 complete!\n",
      "Page 3544 complete!\n",
      "Page 3545 complete!\n",
      "Page 3546 complete!\n",
      "Page 3547 complete!\n",
      "Page 3548 complete!\n",
      "Page 3549 complete!\n",
      "Page 3550 complete!\n",
      "Page 3551 complete!\n",
      "Page 3552 complete!\n",
      "Page 3553 complete!\n",
      "Page 3554 complete!\n",
      "Page 3555 complete!\n",
      "Page 3556 complete!\n",
      "Page 3557 complete!\n",
      "Page 3558 complete!\n",
      "Page 3559 complete!\n",
      "Page 3560 complete!\n",
      "Page 3561 complete!\n",
      "Page 3562 complete!\n",
      "Page 3563 complete!\n",
      "Page 3564 complete!\n",
      "Page 3565 complete!\n",
      "Page 3566 complete!\n",
      "Page 3567 complete!\n",
      "Page 3568 complete!\n",
      "Page 3569 complete!\n",
      "Page 3570 complete!\n",
      "Page 3571 complete!\n",
      "Page 3572 complete!\n",
      "Page 3573 complete!\n",
      "Page 3574 complete!\n",
      "Page 3575 complete!\n",
      "Page 3576 complete!\n",
      "Page 3577 complete!\n",
      "Page 3578 complete!\n",
      "Page 3579 complete!\n",
      "Page 3580 complete!\n",
      "Page 3581 complete!\n",
      "Page 3582 complete!\n",
      "Page 3583 complete!\n",
      "Page 3584 complete!\n",
      "Page 3585 complete!\n",
      "Page 3586 complete!\n",
      "Page 3587 complete!\n",
      "Page 3588 complete!\n",
      "Page 3589 complete!\n",
      "Page 3590 complete!\n",
      "Page 3591 complete!\n",
      "Page 3592 complete!\n",
      "Page 3593 complete!\n",
      "Page 3594 complete!\n",
      "Page 3595 complete!\n",
      "Page 3596 complete!\n",
      "Page 3597 complete!\n",
      "Page 3598 complete!\n",
      "Page 3599 complete!\n",
      "Page 3600 complete!\n"
     ]
    },
    {
     "ename": "FileNotFoundError",
     "evalue": "[Errno 2] No such file or directory: 'scraped_data\\\\crawling_17.csv'",
     "output_type": "error",
     "traceback": [
      "\u001b[1;31m---------------------------------------------------------------------------\u001b[0m",
      "\u001b[1;31mFileNotFoundError\u001b[0m                         Traceback (most recent call last)",
      "\u001b[1;32m<ipython-input-52-38f316603ab7>\u001b[0m in \u001b[0;36m<module>\u001b[1;34m\u001b[0m\n\u001b[0;32m     13\u001b[0m         \u001b[0mprint\u001b[0m\u001b[1;33m(\u001b[0m\u001b[1;34mf\"Page {index} complete!\"\u001b[0m\u001b[1;33m)\u001b[0m\u001b[1;33m\u001b[0m\u001b[1;33m\u001b[0m\u001b[0m\n\u001b[0;32m     14\u001b[0m         \u001b[0mbatch_df\u001b[0m \u001b[1;33m=\u001b[0m \u001b[0mbatch_df\u001b[0m\u001b[1;33m.\u001b[0m\u001b[0mappend\u001b[0m\u001b[1;33m(\u001b[0m\u001b[0mdata\u001b[0m\u001b[1;33m)\u001b[0m\u001b[1;33m\u001b[0m\u001b[1;33m\u001b[0m\u001b[0m\n\u001b[1;32m---> 15\u001b[1;33m     \u001b[0mbatch_df\u001b[0m\u001b[1;33m.\u001b[0m\u001b[0mto_csv\u001b[0m\u001b[1;33m(\u001b[0m\u001b[1;34mf'scraped_data\\crawling_{iter_num}.csv'\u001b[0m\u001b[1;33m,\u001b[0m\u001b[0mindex\u001b[0m\u001b[1;33m=\u001b[0m\u001b[1;32mFalse\u001b[0m\u001b[1;33m,\u001b[0m\u001b[0mencoding\u001b[0m\u001b[1;33m=\u001b[0m\u001b[1;34m\"utf-8\"\u001b[0m\u001b[1;33m)\u001b[0m\u001b[1;33m\u001b[0m\u001b[1;33m\u001b[0m\u001b[0m\n\u001b[0m\u001b[0;32m     16\u001b[0m     \u001b[1;32mif\u001b[0m \u001b[1;33m(\u001b[0m\u001b[1;32mnot\u001b[0m \u001b[0mcontinue_flag\u001b[0m\u001b[1;33m)\u001b[0m\u001b[1;33m:\u001b[0m \u001b[1;32mbreak\u001b[0m\u001b[1;33m\u001b[0m\u001b[1;33m\u001b[0m\u001b[0m\n\u001b[0;32m     17\u001b[0m     \u001b[1;32melse\u001b[0m\u001b[1;33m:\u001b[0m \u001b[0miter_num\u001b[0m\u001b[1;33m+=\u001b[0m\u001b[1;36m1\u001b[0m\u001b[1;33m\u001b[0m\u001b[1;33m\u001b[0m\u001b[0m\n",
      "\u001b[1;32mc:\\users\\admin\\appdata\\local\\programs\\python\\python38\\lib\\site-packages\\pandas\\core\\generic.py\u001b[0m in \u001b[0;36mto_csv\u001b[1;34m(self, path_or_buf, sep, na_rep, float_format, columns, header, index, index_label, mode, encoding, compression, quoting, quotechar, line_terminator, chunksize, date_format, doublequote, escapechar, decimal, errors)\u001b[0m\n\u001b[0;32m   3165\u001b[0m             \u001b[0mdecimal\u001b[0m\u001b[1;33m=\u001b[0m\u001b[0mdecimal\u001b[0m\u001b[1;33m,\u001b[0m\u001b[1;33m\u001b[0m\u001b[1;33m\u001b[0m\u001b[0m\n\u001b[0;32m   3166\u001b[0m         )\n\u001b[1;32m-> 3167\u001b[1;33m         \u001b[0mformatter\u001b[0m\u001b[1;33m.\u001b[0m\u001b[0msave\u001b[0m\u001b[1;33m(\u001b[0m\u001b[1;33m)\u001b[0m\u001b[1;33m\u001b[0m\u001b[1;33m\u001b[0m\u001b[0m\n\u001b[0m\u001b[0;32m   3168\u001b[0m \u001b[1;33m\u001b[0m\u001b[0m\n\u001b[0;32m   3169\u001b[0m         \u001b[1;32mif\u001b[0m \u001b[0mpath_or_buf\u001b[0m \u001b[1;32mis\u001b[0m \u001b[1;32mNone\u001b[0m\u001b[1;33m:\u001b[0m\u001b[1;33m\u001b[0m\u001b[1;33m\u001b[0m\u001b[0m\n",
      "\u001b[1;32mc:\\users\\admin\\appdata\\local\\programs\\python\\python38\\lib\\site-packages\\pandas\\io\\formats\\csvs.py\u001b[0m in \u001b[0;36msave\u001b[1;34m(self)\u001b[0m\n\u001b[0;32m    183\u001b[0m             \u001b[0mclose\u001b[0m \u001b[1;33m=\u001b[0m \u001b[1;32mFalse\u001b[0m\u001b[1;33m\u001b[0m\u001b[1;33m\u001b[0m\u001b[0m\n\u001b[0;32m    184\u001b[0m         \u001b[1;32melse\u001b[0m\u001b[1;33m:\u001b[0m\u001b[1;33m\u001b[0m\u001b[1;33m\u001b[0m\u001b[0m\n\u001b[1;32m--> 185\u001b[1;33m             f, handles = get_handle(\n\u001b[0m\u001b[0;32m    186\u001b[0m                 \u001b[0mself\u001b[0m\u001b[1;33m.\u001b[0m\u001b[0mpath_or_buf\u001b[0m\u001b[1;33m,\u001b[0m\u001b[1;33m\u001b[0m\u001b[1;33m\u001b[0m\u001b[0m\n\u001b[0;32m    187\u001b[0m                 \u001b[0mself\u001b[0m\u001b[1;33m.\u001b[0m\u001b[0mmode\u001b[0m\u001b[1;33m,\u001b[0m\u001b[1;33m\u001b[0m\u001b[1;33m\u001b[0m\u001b[0m\n",
      "\u001b[1;32mc:\\users\\admin\\appdata\\local\\programs\\python\\python38\\lib\\site-packages\\pandas\\io\\common.py\u001b[0m in \u001b[0;36mget_handle\u001b[1;34m(path_or_buf, mode, encoding, compression, memory_map, is_text, errors)\u001b[0m\n\u001b[0;32m    491\u001b[0m         \u001b[1;32mif\u001b[0m \u001b[0mencoding\u001b[0m\u001b[1;33m:\u001b[0m\u001b[1;33m\u001b[0m\u001b[1;33m\u001b[0m\u001b[0m\n\u001b[0;32m    492\u001b[0m             \u001b[1;31m# Encoding\u001b[0m\u001b[1;33m\u001b[0m\u001b[1;33m\u001b[0m\u001b[1;33m\u001b[0m\u001b[0m\n\u001b[1;32m--> 493\u001b[1;33m             \u001b[0mf\u001b[0m \u001b[1;33m=\u001b[0m \u001b[0mopen\u001b[0m\u001b[1;33m(\u001b[0m\u001b[0mpath_or_buf\u001b[0m\u001b[1;33m,\u001b[0m \u001b[0mmode\u001b[0m\u001b[1;33m,\u001b[0m \u001b[0mencoding\u001b[0m\u001b[1;33m=\u001b[0m\u001b[0mencoding\u001b[0m\u001b[1;33m,\u001b[0m \u001b[0merrors\u001b[0m\u001b[1;33m=\u001b[0m\u001b[0merrors\u001b[0m\u001b[1;33m,\u001b[0m \u001b[0mnewline\u001b[0m\u001b[1;33m=\u001b[0m\u001b[1;34m\"\"\u001b[0m\u001b[1;33m)\u001b[0m\u001b[1;33m\u001b[0m\u001b[1;33m\u001b[0m\u001b[0m\n\u001b[0m\u001b[0;32m    494\u001b[0m         \u001b[1;32melif\u001b[0m \u001b[0mis_text\u001b[0m\u001b[1;33m:\u001b[0m\u001b[1;33m\u001b[0m\u001b[1;33m\u001b[0m\u001b[0m\n\u001b[0;32m    495\u001b[0m             \u001b[1;31m# No explicit encoding\u001b[0m\u001b[1;33m\u001b[0m\u001b[1;33m\u001b[0m\u001b[1;33m\u001b[0m\u001b[0m\n",
      "\u001b[1;31mFileNotFoundError\u001b[0m: [Errno 2] No such file or directory: 'scraped_data\\\\crawling_17.csv'"
     ]
    }
   ],
   "source": [
    "#Batch scraping\n",
    "iter_num = 1  # Số batch bắt đầu\n",
    "num = 200  # Số trang link trong 1 batch\n",
    "continue_flag = True # Cờ hiệu kết thúc vòng lặp khi xảy ra lỗi\n",
    "\n",
    "while (continue_flag):\n",
    "    '''\n",
    "    Khởi tạo dataframe rỗng. \n",
    "    Sau đó lấy đủ 1 số trang cho 1 batch.\n",
    "    Rồi export file csv.\n",
    "    '''\n",
    "    batch_df = pd.DataFrame(columns=[\"links\",\"title\",\"description\",\"content\",\"class\"])\n",
    "    for index in range(iter_num*num+1,(iter_num+1)*num+1):\n",
    "        data = single_request_scraping(index,0)\n",
    "        if (data is None):\n",
    "            continue_flag = False\n",
    "            break\n",
    "        print(f\"Page {index} complete!\")\n",
    "        batch_df = batch_df.append(data)\n",
    "    batch_df.to_csv(f'scraped_data\\crawling_{iter_num}.csv',index=False,encoding=\"utf-8\")    \n",
    "    iter_num+=1"
   ]
  },
  {
   "cell_type": "markdown",
   "metadata": {},
   "source": [
    "## 2. Khám phá dữ liệu"
   ]
  },
  {
   "cell_type": "code",
   "execution_count": 8,
   "metadata": {},
   "outputs": [],
   "source": [
    "# Thiết lập đường dẫn thư mục để dùng trong phần 2\n",
    "dir_2 = \"src/raw_scraped_data/\""
   ]
  },
  {
   "cell_type": "code",
   "execution_count": 11,
   "metadata": {},
   "outputs": [
    {
     "data": {
      "application/vnd.jupyter.widget-view+json": {
       "model_id": "019a4e4115a341cd9fbb4a133bab8e6e",
       "version_major": 2,
       "version_minor": 0
      },
      "text/plain": [
       "HBox(children=(FloatProgress(value=0.0, max=12.0), HTML(value='')))"
      ]
     },
     "metadata": {},
     "output_type": "display_data"
    },
    {
     "name": "stdout",
     "output_type": "stream",
     "text": [
      "\n"
     ]
    },
    {
     "data": {
      "text/html": [
       "<div>\n",
       "<style scoped>\n",
       "    .dataframe tbody tr th:only-of-type {\n",
       "        vertical-align: middle;\n",
       "    }\n",
       "\n",
       "    .dataframe tbody tr th {\n",
       "        vertical-align: top;\n",
       "    }\n",
       "\n",
       "    .dataframe thead th {\n",
       "        text-align: right;\n",
       "    }\n",
       "</style>\n",
       "<table border=\"1\" class=\"dataframe\">\n",
       "  <thead>\n",
       "    <tr style=\"text-align: right;\">\n",
       "      <th></th>\n",
       "      <th>links</th>\n",
       "      <th>title</th>\n",
       "      <th>description</th>\n",
       "      <th>content</th>\n",
       "      <th>class</th>\n",
       "    </tr>\n",
       "  </thead>\n",
       "  <tbody>\n",
       "    <tr>\n",
       "      <th>0</th>\n",
       "      <td>https://tuoitre.vn/tong-thong-trump-xac-nhan-k...</td>\n",
       "      <td>Tổng thống Trump xác nhận không dự lễ nhậm chứ...</td>\n",
       "      <td>TTO - Tổng thống Mỹ Donald Trump đăng tweet ch...</td>\n",
       "      <td>Sau khi đưa ra cam kết sẽ đảm bảo chuyển giao ...</td>\n",
       "      <td>Thế giới</td>\n",
       "    </tr>\n",
       "    <tr>\n",
       "      <th>1</th>\n",
       "      <td>https://tuoitre.vn/dat-nuoc-dat-niem-tin-vao-n...</td>\n",
       "      <td>Đất nước đặt niềm tin vào những học sinh xuất sắc</td>\n",
       "      <td>TT0 - Tối 8-1, Thủ tướng Chính phủ Nguyễn Xuân...</td>\n",
       "      <td>Chia sẻ tại buổi lễ, Thủ tướng Nguyễn Xuân Phú...</td>\n",
       "      <td>Giáo dục</td>\n",
       "    </tr>\n",
       "    <tr>\n",
       "      <th>2</th>\n",
       "      <td>https://tuoitre.vn/luat-su-my-phan-bien-ong-tr...</td>\n",
       "      <td>Luật sư Mỹ phản biện: Ông Trump đâu có kêu ngư...</td>\n",
       "      <td>TTO - Trên chương trình Bill Hemmer Reports củ...</td>\n",
       "      <td>Ngày 6-1, tình trạng bạo lực đã xảy ra tại tòa...</td>\n",
       "      <td>Thế giới</td>\n",
       "    </tr>\n",
       "    <tr>\n",
       "      <th>3</th>\n",
       "      <td>https://tuoitre.vn/thanh-pho-phu-quoc-se-phat-...</td>\n",
       "      <td>Thành phố Phú Quốc sẽ phát triển dựa trên 4 tr...</td>\n",
       "      <td>TTO - Tối 8-1 tại phường An Thới, chính quyền ...</td>\n",
       "      <td>Phát biểu tại buổi lễ công bố thành lập TP Phú...</td>\n",
       "      <td>Thời sự</td>\n",
       "    </tr>\n",
       "    <tr>\n",
       "      <th>4</th>\n",
       "      <td>https://tuoitre.vn/ong-trump-nguoi-ung-ho-toi-...</td>\n",
       "      <td>Ông Trump: Người ủng hộ tôi 'sẽ có tiếng nói t...</td>\n",
       "      <td>TTO - Trong nội dung đăng trên Twitter sau gần...</td>\n",
       "      <td>\"75 triệu người Mỹ yêu nước vĩ đại đã bầu cho ...</td>\n",
       "      <td>Thế giới</td>\n",
       "    </tr>\n",
       "  </tbody>\n",
       "</table>\n",
       "</div>"
      ],
      "text/plain": [
       "                                               links  \\\n",
       "0  https://tuoitre.vn/tong-thong-trump-xac-nhan-k...   \n",
       "1  https://tuoitre.vn/dat-nuoc-dat-niem-tin-vao-n...   \n",
       "2  https://tuoitre.vn/luat-su-my-phan-bien-ong-tr...   \n",
       "3  https://tuoitre.vn/thanh-pho-phu-quoc-se-phat-...   \n",
       "4  https://tuoitre.vn/ong-trump-nguoi-ung-ho-toi-...   \n",
       "\n",
       "                                               title  \\\n",
       "0  Tổng thống Trump xác nhận không dự lễ nhậm chứ...   \n",
       "1  Đất nước đặt niềm tin vào những học sinh xuất sắc   \n",
       "2  Luật sư Mỹ phản biện: Ông Trump đâu có kêu ngư...   \n",
       "3  Thành phố Phú Quốc sẽ phát triển dựa trên 4 tr...   \n",
       "4  Ông Trump: Người ủng hộ tôi 'sẽ có tiếng nói t...   \n",
       "\n",
       "                                         description  \\\n",
       "0  TTO - Tổng thống Mỹ Donald Trump đăng tweet ch...   \n",
       "1  TT0 - Tối 8-1, Thủ tướng Chính phủ Nguyễn Xuân...   \n",
       "2  TTO - Trên chương trình Bill Hemmer Reports củ...   \n",
       "3  TTO - Tối 8-1 tại phường An Thới, chính quyền ...   \n",
       "4  TTO - Trong nội dung đăng trên Twitter sau gần...   \n",
       "\n",
       "                                             content     class  \n",
       "0  Sau khi đưa ra cam kết sẽ đảm bảo chuyển giao ...  Thế giới  \n",
       "1  Chia sẻ tại buổi lễ, Thủ tướng Nguyễn Xuân Phú...  Giáo dục  \n",
       "2  Ngày 6-1, tình trạng bạo lực đã xảy ra tại tòa...  Thế giới  \n",
       "3  Phát biểu tại buổi lễ công bố thành lập TP Phú...   Thời sự  \n",
       "4  \"75 triệu người Mỹ yêu nước vĩ đại đã bầu cho ...  Thế giới  "
      ]
     },
     "execution_count": 11,
     "metadata": {},
     "output_type": "execute_result"
    }
   ],
   "source": [
    "# Import thử 12 file đầu tiên\n",
    "df = []\n",
    "for i in tqdm(range(12)):\n",
    "    df.append(pd.read_csv(dir_2 + f'crawling_{i}.csv'))\n",
    "    \n",
    "data_df=pd.concat(df)\n",
    "data_df.reset_index(drop=True, inplace=True)\n",
    "data_df.head()"
   ]
  },
  {
   "cell_type": "code",
   "execution_count": 10,
   "metadata": {},
   "outputs": [
    {
     "data": {
      "text/plain": [
       "(52000, 5)"
      ]
     },
     "execution_count": 10,
     "metadata": {},
     "output_type": "execute_result"
    }
   ],
   "source": [
    "data_df.shape"
   ]
  },
  {
   "cell_type": "code",
   "execution_count": 11,
   "metadata": {},
   "outputs": [
    {
     "data": {
      "text/plain": [
       "links          object\n",
       "title          object\n",
       "description    object\n",
       "content        object\n",
       "class          object\n",
       "dtype: object"
      ]
     },
     "execution_count": 11,
     "metadata": {},
     "output_type": "execute_result"
    }
   ],
   "source": [
    "# Các cột hiện có kiểu dữ liệu gì?\n",
    "data_df.dtypes"
   ]
  },
  {
   "cell_type": "code",
   "execution_count": 12,
   "metadata": {},
   "outputs": [
    {
     "data": {
      "text/html": [
       "<div>\n",
       "<style scoped>\n",
       "    .dataframe tbody tr th:only-of-type {\n",
       "        vertical-align: middle;\n",
       "    }\n",
       "\n",
       "    .dataframe tbody tr th {\n",
       "        vertical-align: top;\n",
       "    }\n",
       "\n",
       "    .dataframe thead th {\n",
       "        text-align: right;\n",
       "    }\n",
       "</style>\n",
       "<table border=\"1\" class=\"dataframe\">\n",
       "  <thead>\n",
       "    <tr style=\"text-align: right;\">\n",
       "      <th></th>\n",
       "      <th>links</th>\n",
       "      <th>title</th>\n",
       "      <th>description</th>\n",
       "      <th>content</th>\n",
       "      <th>class</th>\n",
       "    </tr>\n",
       "  </thead>\n",
       "  <tbody>\n",
       "    <tr>\n",
       "      <th>48880</th>\n",
       "      <td>/dang-sai-lech-vu-dong-tam-facebooker-chuong-m...</td>\n",
       "      <td>Đăng sai lệch vụ Đồng Tâm, Facebooker ‘Chương ...</td>\n",
       "      <td>TTO - Ngày 20-1, Cơ quan cảnh sát điều tra Côn...</td>\n",
       "      <td>Facebooker \"Chương May Mắn\" tên thật là Chung ...</td>\n",
       "      <td>Pháp luật</td>\n",
       "    </tr>\n",
       "    <tr>\n",
       "      <th>48879</th>\n",
       "      <td>/dang-sai-lech-vu-dong-tam-facebooker-chuong-m...</td>\n",
       "      <td>Đăng sai lệch vụ Đồng Tâm, Facebooker ‘Chương ...</td>\n",
       "      <td>TTO - Ngày 20-1, Cơ quan cảnh sát điều tra Côn...</td>\n",
       "      <td>Facebooker \"Chương May Mắn\" tên thật là Chung ...</td>\n",
       "      <td>Pháp luật</td>\n",
       "    </tr>\n",
       "    <tr>\n",
       "      <th>307</th>\n",
       "      <td>https://tuoitre.vn/1-ca-covid-19-moi-phat-hien...</td>\n",
       "      <td>1 ca COVID-19 mới, phát hiện sau 3 lần xét ngh...</td>\n",
       "      <td>TTO - Sau nhiều ngày số mắc mới khá cao và dồn...</td>\n",
       "      <td>Theo Bộ Y tế, 1 ca mắc mới ngày 6-1 là ca nhập...</td>\n",
       "      <td>Sức khỏe</td>\n",
       "    </tr>\n",
       "    <tr>\n",
       "      <th>254</th>\n",
       "      <td>https://tuoitre.vn/1-ca-covid-19-moi-phat-hien...</td>\n",
       "      <td>1 ca COVID-19 mới, phát hiện sau 3 lần xét ngh...</td>\n",
       "      <td>TTO - Sau nhiều ngày số mắc mới khá cao và dồn...</td>\n",
       "      <td>Theo Bộ Y tế, 1 ca mắc mới ngày 6-1 là ca nhập...</td>\n",
       "      <td>Sức khỏe</td>\n",
       "    </tr>\n",
       "    <tr>\n",
       "      <th>179</th>\n",
       "      <td>https://tuoitre.vn/affordable-luxury-dong-san-...</td>\n",
       "      <td>'Affordable luxury' - dòng sản phẩm đột phá về...</td>\n",
       "      <td>Apec Mandala Wyndham Mũi Né đánh dấu bước đầu ...</td>\n",
       "      <td>Apec Group và thương hiệu bất động sản mang tí...</td>\n",
       "      <td>Cần biết</td>\n",
       "    </tr>\n",
       "    <tr>\n",
       "      <th>...</th>\n",
       "      <td>...</td>\n",
       "      <td>...</td>\n",
       "      <td>...</td>\n",
       "      <td>...</td>\n",
       "      <td>...</td>\n",
       "    </tr>\n",
       "    <tr>\n",
       "      <th>229</th>\n",
       "      <td>https://tuoitre.vn/vuong-quoc-anh-ghi-nhan-hon...</td>\n",
       "      <td>Vương quốc Anh ghi nhận hơn 1.000 người chết m...</td>\n",
       "      <td>TTO - Vương quốc Anh ngày 6-1 ghi nhận thêm 1....</td>\n",
       "      <td>Theo hãng tin Reuters, trong ngày 6-1, Vương q...</td>\n",
       "      <td>Sức khỏe</td>\n",
       "    </tr>\n",
       "    <tr>\n",
       "      <th>304</th>\n",
       "      <td>https://tuoitre.vn/wall-street-journal-bac-kin...</td>\n",
       "      <td>Wall Street Journal: Bắc Kinh ép Jack Ma chia ...</td>\n",
       "      <td>TTO - Chính quyền Trung Quốc đang cố gắng buộc...</td>\n",
       "      <td>Báo Wall Street Journal nhận định Jack Ma có r...</td>\n",
       "      <td>Kinh doanh</td>\n",
       "    </tr>\n",
       "    <tr>\n",
       "      <th>251</th>\n",
       "      <td>https://tuoitre.vn/wall-street-journal-bac-kin...</td>\n",
       "      <td>Wall Street Journal: Bắc Kinh ép Jack Ma chia ...</td>\n",
       "      <td>TTO - Chính quyền Trung Quốc đang cố gắng buộc...</td>\n",
       "      <td>Báo Wall Street Journal nhận định Jack Ma có r...</td>\n",
       "      <td>Kinh doanh</td>\n",
       "    </tr>\n",
       "    <tr>\n",
       "      <th>286</th>\n",
       "      <td>https://tuoitre.vn/xu-phat-3-nguoi-75-trieu-do...</td>\n",
       "      <td>Xử phạt 3 người 75 triệu đồng vì khai thác kho...</td>\n",
       "      <td>TTO - Chủ đất và hai người tham gia lấy phần c...</td>\n",
       "      <td>Ngày 6-1, Công an tỉnh Trà Vinh tống đạt các q...</td>\n",
       "      <td>Pháp luật</td>\n",
       "    </tr>\n",
       "    <tr>\n",
       "      <th>233</th>\n",
       "      <td>https://tuoitre.vn/xu-phat-3-nguoi-75-trieu-do...</td>\n",
       "      <td>Xử phạt 3 người 75 triệu đồng vì khai thác kho...</td>\n",
       "      <td>TTO - Chủ đất và hai người tham gia lấy phần c...</td>\n",
       "      <td>Ngày 6-1, Công an tỉnh Trà Vinh tống đạt các q...</td>\n",
       "      <td>Pháp luật</td>\n",
       "    </tr>\n",
       "  </tbody>\n",
       "</table>\n",
       "<p>132 rows × 5 columns</p>\n",
       "</div>"
      ],
      "text/plain": [
       "                                                   links  \\\n",
       "48880  /dang-sai-lech-vu-dong-tam-facebooker-chuong-m...   \n",
       "48879  /dang-sai-lech-vu-dong-tam-facebooker-chuong-m...   \n",
       "307    https://tuoitre.vn/1-ca-covid-19-moi-phat-hien...   \n",
       "254    https://tuoitre.vn/1-ca-covid-19-moi-phat-hien...   \n",
       "179    https://tuoitre.vn/affordable-luxury-dong-san-...   \n",
       "...                                                  ...   \n",
       "229    https://tuoitre.vn/vuong-quoc-anh-ghi-nhan-hon...   \n",
       "304    https://tuoitre.vn/wall-street-journal-bac-kin...   \n",
       "251    https://tuoitre.vn/wall-street-journal-bac-kin...   \n",
       "286    https://tuoitre.vn/xu-phat-3-nguoi-75-trieu-do...   \n",
       "233    https://tuoitre.vn/xu-phat-3-nguoi-75-trieu-do...   \n",
       "\n",
       "                                                   title  \\\n",
       "48880  Đăng sai lệch vụ Đồng Tâm, Facebooker ‘Chương ...   \n",
       "48879  Đăng sai lệch vụ Đồng Tâm, Facebooker ‘Chương ...   \n",
       "307    1 ca COVID-19 mới, phát hiện sau 3 lần xét ngh...   \n",
       "254    1 ca COVID-19 mới, phát hiện sau 3 lần xét ngh...   \n",
       "179    'Affordable luxury' - dòng sản phẩm đột phá về...   \n",
       "...                                                  ...   \n",
       "229    Vương quốc Anh ghi nhận hơn 1.000 người chết m...   \n",
       "304    Wall Street Journal: Bắc Kinh ép Jack Ma chia ...   \n",
       "251    Wall Street Journal: Bắc Kinh ép Jack Ma chia ...   \n",
       "286    Xử phạt 3 người 75 triệu đồng vì khai thác kho...   \n",
       "233    Xử phạt 3 người 75 triệu đồng vì khai thác kho...   \n",
       "\n",
       "                                             description  \\\n",
       "48880  TTO - Ngày 20-1, Cơ quan cảnh sát điều tra Côn...   \n",
       "48879  TTO - Ngày 20-1, Cơ quan cảnh sát điều tra Côn...   \n",
       "307    TTO - Sau nhiều ngày số mắc mới khá cao và dồn...   \n",
       "254    TTO - Sau nhiều ngày số mắc mới khá cao và dồn...   \n",
       "179    Apec Mandala Wyndham Mũi Né đánh dấu bước đầu ...   \n",
       "...                                                  ...   \n",
       "229    TTO - Vương quốc Anh ngày 6-1 ghi nhận thêm 1....   \n",
       "304    TTO - Chính quyền Trung Quốc đang cố gắng buộc...   \n",
       "251    TTO - Chính quyền Trung Quốc đang cố gắng buộc...   \n",
       "286    TTO - Chủ đất và hai người tham gia lấy phần c...   \n",
       "233    TTO - Chủ đất và hai người tham gia lấy phần c...   \n",
       "\n",
       "                                                 content       class  \n",
       "48880  Facebooker \"Chương May Mắn\" tên thật là Chung ...   Pháp luật  \n",
       "48879  Facebooker \"Chương May Mắn\" tên thật là Chung ...   Pháp luật  \n",
       "307    Theo Bộ Y tế, 1 ca mắc mới ngày 6-1 là ca nhập...    Sức khỏe  \n",
       "254    Theo Bộ Y tế, 1 ca mắc mới ngày 6-1 là ca nhập...    Sức khỏe  \n",
       "179    Apec Group và thương hiệu bất động sản mang tí...    Cần biết  \n",
       "...                                                  ...         ...  \n",
       "229    Theo hãng tin Reuters, trong ngày 6-1, Vương q...    Sức khỏe  \n",
       "304    Báo Wall Street Journal nhận định Jack Ma có r...  Kinh doanh  \n",
       "251    Báo Wall Street Journal nhận định Jack Ma có r...  Kinh doanh  \n",
       "286    Ngày 6-1, Công an tỉnh Trà Vinh tống đạt các q...   Pháp luật  \n",
       "233    Ngày 6-1, Công an tỉnh Trà Vinh tống đạt các q...   Pháp luật  \n",
       "\n",
       "[132 rows x 5 columns]"
      ]
     },
     "execution_count": 12,
     "metadata": {},
     "output_type": "execute_result"
    }
   ],
   "source": [
    "data_df[data_df.duplicated(keep=False)].sort_values(by=['links'])"
   ]
  },
  {
   "cell_type": "code",
   "execution_count": 14,
   "metadata": {},
   "outputs": [
    {
     "data": {
      "text/plain": [
       "links            0\n",
       "title          244\n",
       "description    292\n",
       "content        908\n",
       "class            0\n",
       "dtype: int64"
      ]
     },
     "execution_count": 14,
     "metadata": {},
     "output_type": "execute_result"
    }
   ],
   "source": [
    "data_df.isna().sum()"
   ]
  },
  {
   "cell_type": "code",
   "execution_count": 22,
   "metadata": {},
   "outputs": [
    {
     "data": {
      "text/html": [
       "<div>\n",
       "<style scoped>\n",
       "    .dataframe tbody tr th:only-of-type {\n",
       "        vertical-align: middle;\n",
       "    }\n",
       "\n",
       "    .dataframe tbody tr th {\n",
       "        vertical-align: top;\n",
       "    }\n",
       "\n",
       "    .dataframe thead th {\n",
       "        text-align: right;\n",
       "    }\n",
       "</style>\n",
       "<table border=\"1\" class=\"dataframe\">\n",
       "  <thead>\n",
       "    <tr style=\"text-align: right;\">\n",
       "      <th></th>\n",
       "      <th>links</th>\n",
       "      <th>title</th>\n",
       "      <th>description</th>\n",
       "      <th>content</th>\n",
       "      <th>class</th>\n",
       "    </tr>\n",
       "  </thead>\n",
       "  <tbody>\n",
       "    <tr>\n",
       "      <th>29</th>\n",
       "      <td>https://tuoitre.vn/lang-kinh-24g-xe-du-ben-coc...</td>\n",
       "      <td>Lăng kính 24h: 'Xe dù, bến cóc' - vấn nạn nhiề...</td>\n",
       "      <td>NaN</td>\n",
       "      <td>NaN</td>\n",
       "      <td>Cần biết</td>\n",
       "    </tr>\n",
       "    <tr>\n",
       "      <th>123</th>\n",
       "      <td>https://tuoitre.vn/doc-bao-cung-ban-8-1-viet-n...</td>\n",
       "      <td>Đọc báo cùng bạn 8-1: Việt Nam sẽ có vắc xin d...</td>\n",
       "      <td>TTO - Chương trình hôm nay có nhiều thông tin ...</td>\n",
       "      <td>NaN</td>\n",
       "      <td>Bạn đọc làm báo</td>\n",
       "    </tr>\n",
       "    <tr>\n",
       "      <th>129</th>\n",
       "      <td>https://tuoitre.vn/video-daisuke-matsui-the-hi...</td>\n",
       "      <td>Video Daisuke Matsui thể hiện đẳng cấp ngay lầ...</td>\n",
       "      <td>NaN</td>\n",
       "      <td>NaN</td>\n",
       "      <td>Thể thao</td>\n",
       "    </tr>\n",
       "    <tr>\n",
       "      <th>137</th>\n",
       "      <td>https://tuoitre.vn/duoc-hlv-huynh-duc-kem-chat...</td>\n",
       "      <td>Được HLV Huỳnh Đức 'kèm chặt', Đức Chinh liền ...</td>\n",
       "      <td>TTO - Chiều 7-1, tiền đạo Hà Đức Chinh đã gây ...</td>\n",
       "      <td>NaN</td>\n",
       "      <td>Thể thao</td>\n",
       "    </tr>\n",
       "    <tr>\n",
       "      <th>166</th>\n",
       "      <td>https://tuoitre.vn/lang-kinh-24g-doi-no-thue-h...</td>\n",
       "      <td>Lăng kính 24g: Đòi nợ thuê 'hết đất' lộng hành</td>\n",
       "      <td>NaN</td>\n",
       "      <td>NaN</td>\n",
       "      <td>Cần biết</td>\n",
       "    </tr>\n",
       "  </tbody>\n",
       "</table>\n",
       "</div>"
      ],
      "text/plain": [
       "                                                 links  \\\n",
       "29   https://tuoitre.vn/lang-kinh-24g-xe-du-ben-coc...   \n",
       "123  https://tuoitre.vn/doc-bao-cung-ban-8-1-viet-n...   \n",
       "129  https://tuoitre.vn/video-daisuke-matsui-the-hi...   \n",
       "137  https://tuoitre.vn/duoc-hlv-huynh-duc-kem-chat...   \n",
       "166  https://tuoitre.vn/lang-kinh-24g-doi-no-thue-h...   \n",
       "\n",
       "                                                 title  \\\n",
       "29   Lăng kính 24h: 'Xe dù, bến cóc' - vấn nạn nhiề...   \n",
       "123  Đọc báo cùng bạn 8-1: Việt Nam sẽ có vắc xin d...   \n",
       "129  Video Daisuke Matsui thể hiện đẳng cấp ngay lầ...   \n",
       "137  Được HLV Huỳnh Đức 'kèm chặt', Đức Chinh liền ...   \n",
       "166     Lăng kính 24g: Đòi nợ thuê 'hết đất' lộng hành   \n",
       "\n",
       "                                           description content  \\\n",
       "29                                                 NaN     NaN   \n",
       "123  TTO - Chương trình hôm nay có nhiều thông tin ...     NaN   \n",
       "129                                                NaN     NaN   \n",
       "137  TTO - Chiều 7-1, tiền đạo Hà Đức Chinh đã gây ...     NaN   \n",
       "166                                                NaN     NaN   \n",
       "\n",
       "               class  \n",
       "29          Cần biết  \n",
       "123  Bạn đọc làm báo  \n",
       "129         Thể thao  \n",
       "137         Thể thao  \n",
       "166         Cần biết  "
      ]
     },
     "execution_count": 22,
     "metadata": {},
     "output_type": "execute_result"
    }
   ],
   "source": [
    "data_df[data_df.isna().any(axis=1)].head()"
   ]
  },
  {
   "cell_type": "code",
   "execution_count": 29,
   "metadata": {},
   "outputs": [
    {
     "data": {
      "text/plain": [
       "Thời sự                8529\n",
       "Thế giới               6211\n",
       "Kinh doanh             4589\n",
       "Thể thao               4491\n",
       "Pháp luật              4447\n",
       "Sức khỏe               4271\n",
       "Cần biết               2901\n",
       "Giáo dục               2633\n",
       "Văn hóa                1596\n",
       "Nhịp sống trẻ          1580\n",
       "Giải trí               1424\n",
       "Khoa học               1397\n",
       "Du Lịch                1334\n",
       "Bạn đọc làm báo        1086\n",
       "Công nghệ               855\n",
       "Phóng sự                709\n",
       "Doanh nghiệp            708\n",
       "Nhà đất                 655\n",
       "Giả - Thật              505\n",
       "Tuyển sinh              388\n",
       "Bình luận               372\n",
       "Tài chính               159\n",
       "Mua sắm                 145\n",
       "Xe                      135\n",
       "Xã hội                   93\n",
       "Nhịp sống số             90\n",
       "Đọc báo cùng bạn         76\n",
       "Bút Bi                   58\n",
       "Học đường                56\n",
       "Tin tức                  55\n",
       "Media                    49\n",
       "Biết để khỏe             47\n",
       "Đời sống                 43\n",
       "Dự án                    38\n",
       "Góc học tập              31\n",
       "Sách                     28\n",
       "Cơ hội du lịch           20\n",
       "Nghe gì hôm nay          17\n",
       "Đầu tư                   16\n",
       "Câu chuyện giáo dục      15\n",
       "Du học                   13\n",
       "Tư vấn                   12\n",
       "Đường dây nóng            9\n",
       "Yêu                       9\n",
       "Video                     9\n",
       "Chia sẻ                   8\n",
       "Công Nghệ                 7\n",
       "Phản hồi                  6\n",
       "Thị trường                6\n",
       "Muôn màu                  4\n",
       "Xu hướng                  4\n",
       "Dinh dưỡng                4\n",
       "Hậu trường                4\n",
       "Cộng đồng                 4\n",
       "Việc làm                  4\n",
       "Pháp lý                   3\n",
       "TV Show                   3\n",
       "Theo Gương Bác            3\n",
       "Chuyện pháp đình          3\n",
       "Thời trang                3\n",
       "Sàn diễn                  2\n",
       "Gia đình số               2\n",
       "Thường thức               2\n",
       "Thể thao vui              2\n",
       "Ăn gì                     2\n",
       "Hồ sơ                     2\n",
       "Mẹ & Bé                   2\n",
       "Tiêu điểm                 2\n",
       "Mách bạn                  2\n",
       "Thị trường 247            2\n",
       "MeKong Xanh               2\n",
       "Nhịp cầu                  2\n",
       "Âm nhạc                   2\n",
       " Điện ảnh                 1\n",
       "Môi Trường                1\n",
       "Nhân vật                  1\n",
       "Kiều bào                  1\n",
       "Name: class, dtype: int64"
      ]
     },
     "metadata": {},
     "output_type": "display_data"
    }
   ],
   "source": [
    "with pd.option_context('display.max_rows', 1000, 'display.max_columns', 2):\n",
    "    display(data_df['class'].value_counts())"
   ]
  },
  {
   "cell_type": "code",
   "execution_count": 24,
   "metadata": {},
   "outputs": [
    {
     "data": {
      "text/html": [
       "<div>\n",
       "<style scoped>\n",
       "    .dataframe tbody tr th:only-of-type {\n",
       "        vertical-align: middle;\n",
       "    }\n",
       "\n",
       "    .dataframe tbody tr th {\n",
       "        vertical-align: top;\n",
       "    }\n",
       "\n",
       "    .dataframe thead th {\n",
       "        text-align: right;\n",
       "    }\n",
       "</style>\n",
       "<table border=\"1\" class=\"dataframe\">\n",
       "  <thead>\n",
       "    <tr style=\"text-align: right;\">\n",
       "      <th></th>\n",
       "      <th>links</th>\n",
       "      <th>title</th>\n",
       "      <th>description</th>\n",
       "      <th>content</th>\n",
       "      <th>class</th>\n",
       "    </tr>\n",
       "  </thead>\n",
       "  <tbody>\n",
       "    <tr>\n",
       "      <th>0</th>\n",
       "      <td>https://tuoitre.vn/tong-thong-trump-xac-nhan-k...</td>\n",
       "      <td>Tổng thống Trump xác nhận không dự lễ nhậm chứ...</td>\n",
       "      <td>TTO - Tổng thống Mỹ Donald Trump đăng tweet ch...</td>\n",
       "      <td>Sau khi đưa ra cam kết sẽ đảm bảo chuyển giao ...</td>\n",
       "      <td>Thế giới</td>\n",
       "    </tr>\n",
       "    <tr>\n",
       "      <th>1</th>\n",
       "      <td>https://tuoitre.vn/dat-nuoc-dat-niem-tin-vao-n...</td>\n",
       "      <td>Đất nước đặt niềm tin vào những học sinh xuất sắc</td>\n",
       "      <td>TT0 - Tối 8-1, Thủ tướng Chính phủ Nguyễn Xuân...</td>\n",
       "      <td>Chia sẻ tại buổi lễ, Thủ tướng Nguyễn Xuân Phú...</td>\n",
       "      <td>Giáo dục</td>\n",
       "    </tr>\n",
       "    <tr>\n",
       "      <th>2</th>\n",
       "      <td>https://tuoitre.vn/luat-su-my-phan-bien-ong-tr...</td>\n",
       "      <td>Luật sư Mỹ phản biện: Ông Trump đâu có kêu ngư...</td>\n",
       "      <td>TTO - Trên chương trình Bill Hemmer Reports củ...</td>\n",
       "      <td>Ngày 6-1, tình trạng bạo lực đã xảy ra tại tòa...</td>\n",
       "      <td>Thế giới</td>\n",
       "    </tr>\n",
       "    <tr>\n",
       "      <th>3</th>\n",
       "      <td>https://tuoitre.vn/thanh-pho-phu-quoc-se-phat-...</td>\n",
       "      <td>Thành phố Phú Quốc sẽ phát triển dựa trên 4 tr...</td>\n",
       "      <td>TTO - Tối 8-1 tại phường An Thới, chính quyền ...</td>\n",
       "      <td>Phát biểu tại buổi lễ công bố thành lập TP Phú...</td>\n",
       "      <td>Thời sự</td>\n",
       "    </tr>\n",
       "    <tr>\n",
       "      <th>4</th>\n",
       "      <td>https://tuoitre.vn/ong-trump-nguoi-ung-ho-toi-...</td>\n",
       "      <td>Ông Trump: Người ủng hộ tôi 'sẽ có tiếng nói t...</td>\n",
       "      <td>TTO - Trong nội dung đăng trên Twitter sau gần...</td>\n",
       "      <td>\"75 triệu người Mỹ yêu nước vĩ đại đã bầu cho ...</td>\n",
       "      <td>Thế giới</td>\n",
       "    </tr>\n",
       "    <tr>\n",
       "      <th>...</th>\n",
       "      <td>...</td>\n",
       "      <td>...</td>\n",
       "      <td>...</td>\n",
       "      <td>...</td>\n",
       "      <td>...</td>\n",
       "    </tr>\n",
       "    <tr>\n",
       "      <th>51995</th>\n",
       "      <td>/tham-sat-o-thai-nguyen-nghi-pham-thua-nhan-nh...</td>\n",
       "      <td>Thảm sát ở Thái Nguyên: Nghi phạm thừa nhận nh...</td>\n",
       "      <td>TTO - Tại cơ quan công an, bước đầu nghi phạm ...</td>\n",
       "      <td>Sau khi truy bắt Hoàng Văn Chín - nghi phạm gâ...</td>\n",
       "      <td>Pháp luật</td>\n",
       "    </tr>\n",
       "    <tr>\n",
       "      <th>51996</th>\n",
       "      <td>/mobifone-dat-loi-nhuan-hon-6-000-ty-dong-tron...</td>\n",
       "      <td>MobiFone đạt lợi nhuận hơn 6.000 tỉ đồng trong...</td>\n",
       "      <td>TTO – Mức lợi nhuận trước thuế của MobiFone ướ...</td>\n",
       "      <td>Ngày 26-12, MobiFone công bố kết thúc năm 2019...</td>\n",
       "      <td>Kinh doanh</td>\n",
       "    </tr>\n",
       "    <tr>\n",
       "      <th>51997</th>\n",
       "      <td>/chuan-bi-co-le-hoi-hoa-anh-dao-tai-tp-hcm-201...</td>\n",
       "      <td>Chuẩn bị có lễ hội hoa anh đào tại TP.HCM</td>\n",
       "      <td>TTO - Làm việc với đoàn giám sát của HĐND TP.H...</td>\n",
       "      <td>Ngày 26-12, Đoàn công tác của HĐND TP.HCM đã c...</td>\n",
       "      <td>Du Lịch</td>\n",
       "    </tr>\n",
       "    <tr>\n",
       "      <th>51998</th>\n",
       "      <td>/xet-xu-vu-nu-sinh-giao-ga-bui-van-cong-lien-t...</td>\n",
       "      <td>Xét xử vụ nữ sinh giao gà: Bùi Văn Công liên t...</td>\n",
       "      <td>TTO - Được gọi lên xét hỏi, bị cáo Bùi Văn Côn...</td>\n",
       "      <td>Chiều 26-12, phiên tòa xét xử 9 bị cáo bắt cóc...</td>\n",
       "      <td>Pháp luật</td>\n",
       "    </tr>\n",
       "    <tr>\n",
       "      <th>51999</th>\n",
       "      <td>/san-khau-chuong-trinh-don-nam-moi-o-hue-bi-ph...</td>\n",
       "      <td>Sân khấu chương trình đón năm mới ở Huế bị phả...</td>\n",
       "      <td>TTO - Dư luận ở Huế đang có nhiều phản ứng trá...</td>\n",
       "      <td>Chiều 26-11, tin từ Chi cục II.6 (Cục Quản lý...</td>\n",
       "      <td>Thời sự</td>\n",
       "    </tr>\n",
       "  </tbody>\n",
       "</table>\n",
       "<p>51092 rows × 5 columns</p>\n",
       "</div>"
      ],
      "text/plain": [
       "                                                   links  \\\n",
       "0      https://tuoitre.vn/tong-thong-trump-xac-nhan-k...   \n",
       "1      https://tuoitre.vn/dat-nuoc-dat-niem-tin-vao-n...   \n",
       "2      https://tuoitre.vn/luat-su-my-phan-bien-ong-tr...   \n",
       "3      https://tuoitre.vn/thanh-pho-phu-quoc-se-phat-...   \n",
       "4      https://tuoitre.vn/ong-trump-nguoi-ung-ho-toi-...   \n",
       "...                                                  ...   \n",
       "51995  /tham-sat-o-thai-nguyen-nghi-pham-thua-nhan-nh...   \n",
       "51996  /mobifone-dat-loi-nhuan-hon-6-000-ty-dong-tron...   \n",
       "51997  /chuan-bi-co-le-hoi-hoa-anh-dao-tai-tp-hcm-201...   \n",
       "51998  /xet-xu-vu-nu-sinh-giao-ga-bui-van-cong-lien-t...   \n",
       "51999  /san-khau-chuong-trinh-don-nam-moi-o-hue-bi-ph...   \n",
       "\n",
       "                                                   title  \\\n",
       "0      Tổng thống Trump xác nhận không dự lễ nhậm chứ...   \n",
       "1      Đất nước đặt niềm tin vào những học sinh xuất sắc   \n",
       "2      Luật sư Mỹ phản biện: Ông Trump đâu có kêu ngư...   \n",
       "3      Thành phố Phú Quốc sẽ phát triển dựa trên 4 tr...   \n",
       "4      Ông Trump: Người ủng hộ tôi 'sẽ có tiếng nói t...   \n",
       "...                                                  ...   \n",
       "51995  Thảm sát ở Thái Nguyên: Nghi phạm thừa nhận nh...   \n",
       "51996  MobiFone đạt lợi nhuận hơn 6.000 tỉ đồng trong...   \n",
       "51997          Chuẩn bị có lễ hội hoa anh đào tại TP.HCM   \n",
       "51998  Xét xử vụ nữ sinh giao gà: Bùi Văn Công liên t...   \n",
       "51999  Sân khấu chương trình đón năm mới ở Huế bị phả...   \n",
       "\n",
       "                                             description  \\\n",
       "0      TTO - Tổng thống Mỹ Donald Trump đăng tweet ch...   \n",
       "1      TT0 - Tối 8-1, Thủ tướng Chính phủ Nguyễn Xuân...   \n",
       "2      TTO - Trên chương trình Bill Hemmer Reports củ...   \n",
       "3      TTO - Tối 8-1 tại phường An Thới, chính quyền ...   \n",
       "4      TTO - Trong nội dung đăng trên Twitter sau gần...   \n",
       "...                                                  ...   \n",
       "51995  TTO - Tại cơ quan công an, bước đầu nghi phạm ...   \n",
       "51996  TTO – Mức lợi nhuận trước thuế của MobiFone ướ...   \n",
       "51997  TTO - Làm việc với đoàn giám sát của HĐND TP.H...   \n",
       "51998  TTO - Được gọi lên xét hỏi, bị cáo Bùi Văn Côn...   \n",
       "51999  TTO - Dư luận ở Huế đang có nhiều phản ứng trá...   \n",
       "\n",
       "                                                 content       class  \n",
       "0      Sau khi đưa ra cam kết sẽ đảm bảo chuyển giao ...    Thế giới  \n",
       "1      Chia sẻ tại buổi lễ, Thủ tướng Nguyễn Xuân Phú...    Giáo dục  \n",
       "2      Ngày 6-1, tình trạng bạo lực đã xảy ra tại tòa...    Thế giới  \n",
       "3      Phát biểu tại buổi lễ công bố thành lập TP Phú...     Thời sự  \n",
       "4      \"75 triệu người Mỹ yêu nước vĩ đại đã bầu cho ...    Thế giới  \n",
       "...                                                  ...         ...  \n",
       "51995  Sau khi truy bắt Hoàng Văn Chín - nghi phạm gâ...   Pháp luật  \n",
       "51996  Ngày 26-12, MobiFone công bố kết thúc năm 2019...  Kinh doanh  \n",
       "51997  Ngày 26-12, Đoàn công tác của HĐND TP.HCM đã c...     Du Lịch  \n",
       "51998  Chiều 26-12, phiên tòa xét xử 9 bị cáo bắt cóc...   Pháp luật  \n",
       "51999   Chiều 26-11, tin từ Chi cục II.6 (Cục Quản lý...     Thời sự  \n",
       "\n",
       "[51092 rows x 5 columns]"
      ]
     },
     "execution_count": 24,
     "metadata": {},
     "output_type": "execute_result"
    }
   ],
   "source": [
    "data_df.drop(['links'],axis=1,inplace=True)\n",
    "data_df.dropna(axis=0, how=\"any\", inplace=True)\n",
    "data_df['description']=data_df['description'].str.replace(\"TTO - \",'')\n",
    "data_df['description']=data_df['description'].str.replace(\"TTO – \",'')"
   ]
  },
  {
   "cell_type": "code",
   "execution_count": null,
   "metadata": {},
   "outputs": [],
   "source": [
    "# Đưa toàn bộ dữ liệu qua hàm này để chuẩn hóa lại\n",
    "def covert_unicode(txt):\n",
    "    if (type(txt) is not str):\n",
    "        return txt\n",
    "    return unicodedata.normalize('NFC', txt)"
   ]
  },
  {
   "cell_type": "code",
   "execution_count": null,
   "metadata": {},
   "outputs": [],
   "source": [
    "bang_nguyen_am = [['a', 'à', 'á', 'ả', 'ã', 'ạ', 'a'],\n",
    "                  ['ă', 'ằ', 'ắ', 'ẳ', 'ẵ', 'ặ', 'aw'],\n",
    "                  ['â', 'ầ', 'ấ', 'ẩ', 'ẫ', 'ậ', 'aa'],\n",
    "                  ['e', 'è', 'é', 'ẻ', 'ẽ', 'ẹ', 'e'],\n",
    "                  ['ê', 'ề', 'ế', 'ể', 'ễ', 'ệ', 'ee'],\n",
    "                  ['i', 'ì', 'í', 'ỉ', 'ĩ', 'ị', 'i'],\n",
    "                  ['o', 'ò', 'ó', 'ỏ', 'õ', 'ọ', 'o'],\n",
    "                  ['ô', 'ồ', 'ố', 'ổ', 'ỗ', 'ộ', 'oo'],\n",
    "                  ['ơ', 'ờ', 'ớ', 'ở', 'ỡ', 'ợ', 'ow'],\n",
    "                  ['u', 'ù', 'ú', 'ủ', 'ũ', 'ụ', 'u'],\n",
    "                  ['ư', 'ừ', 'ứ', 'ử', 'ữ', 'ự', 'uw'],\n",
    "                  ['y', 'ỳ', 'ý', 'ỷ', 'ỹ', 'ỵ', 'y']]\n",
    "bang_ky_tu_dau = ['', 'f', 's', 'r', 'x', 'j']\n",
    "\n",
    "nguyen_am_to_ids = {}\n",
    "\n",
    "for i in range(len(bang_nguyen_am)):\n",
    "    for j in range(len(bang_nguyen_am[i]) - 1):\n",
    "        nguyen_am_to_ids[bang_nguyen_am[i][j]] = (i, j)\n",
    "\n",
    "def chuan_hoa_dau_tu_tieng_viet(word):\n",
    "    if not is_valid_vietnam_word(word):\n",
    "        return word\n",
    "\n",
    "    chars = list(word)\n",
    "    dau_cau = 0\n",
    "    nguyen_am_index = []\n",
    "    qu_or_gi = False\n",
    "    \n",
    "    # Tách dấu ra khỏi từ và lưu lại vị trí nguyên âm\n",
    "    for index, char in enumerate(chars):\n",
    "        x, y = nguyen_am_to_ids.get(char, (-1, -1))\n",
    "        if x == -1: # Phụ âm thì bỏ qua\n",
    "            continue\n",
    "        elif x == 9:  # check qu\n",
    "            if index != 0 and chars[index - 1] == 'q':\n",
    "                chars[index] = 'u'\n",
    "                qu_or_gi = True\n",
    "        elif x == 5:  # check gi\n",
    "            if index != 0 and chars[index - 1] == 'g':\n",
    "                chars[index] = 'i'\n",
    "                qu_or_gi = True\n",
    "                \n",
    "        if y != 0: # Nếu có dấu\n",
    "            dau_cau = y\n",
    "            chars[index] = bang_nguyen_am[x][0]\n",
    "        if not qu_or_gi or index != 1:\n",
    "            nguyen_am_index.append(index)\n",
    "            \n",
    "    if len(nguyen_am_index) < 2:\n",
    "        if qu_or_gi:\n",
    "            # Trường hợp chữ \"gì\"\n",
    "            if len(chars) == 2:\n",
    "                x, y = nguyen_am_to_ids.get(chars[1])\n",
    "                chars[1] = bang_nguyen_am[x][dau_cau]\n",
    "            else:\n",
    "                x, y = nguyen_am_to_ids.get(chars[2], (-1, -1))\n",
    "                if x != -1:\n",
    "                    chars[2] = bang_nguyen_am[x][dau_cau]\n",
    "                else:\n",
    "                    chars[1] = bang_nguyen_am[5][dau_cau] if chars[1] == 'i' else bang_nguyen_am[9][dau_cau]\n",
    "            return ''.join(chars)\n",
    "        return word\n",
    "\n",
    "    for index in nguyen_am_index:\n",
    "        x, y = nguyen_am_to_ids[chars[index]]\n",
    "        if x == 4 or x == 8:  # ê, ơ\n",
    "            chars[index] = bang_nguyen_am[x][dau_cau]\n",
    "            return ''.join(chars)\n",
    "\n",
    "    if len(nguyen_am_index) == 2:\n",
    "        if nguyen_am_index[-1] == len(chars) - 1:\n",
    "            x, y = nguyen_am_to_ids[chars[nguyen_am_index[0]]]\n",
    "            chars[nguyen_am_index[0]] = bang_nguyen_am[x][dau_cau]\n",
    "        else:\n",
    "            x, y = nguyen_am_to_ids[chars[nguyen_am_index[1]]]\n",
    "            chars[nguyen_am_index[1]] = bang_nguyen_am[x][dau_cau]\n",
    "    else:\n",
    "        x, y = nguyen_am_to_ids[chars[nguyen_am_index[1]]]\n",
    "    return ''.join(chars)\n",
    "\n",
    "\n",
    "def is_valid_vietnam_word(word):\n",
    "    # Từ hợp lệ là từ không có phụ âm bị kẹp giữa nguyên âm\n",
    "    chars = list(word)\n",
    "    nguyen_am_index = -1\n",
    "    for index, char in enumerate(chars):\n",
    "        x, _ = nguyen_am_to_ids.get(char, (-1, -1))\n",
    "        if x != -1:\n",
    "            if nguyen_am_index == -1:\n",
    "                nguyen_am_index = index\n",
    "            else:\n",
    "                if (index - nguyen_am_index) != 1:\n",
    "                    return False\n",
    "                nguyen_am_index = index\n",
    "    return True\n",
    "\n",
    "\n",
    "def chuan_hoa_dau_cau_tieng_viet(sentence):\n",
    "    \"\"\"\n",
    "    Chuyển câu tiếng việt về chuẩn gõ dấu kiểu cũ.\n",
    "    :param sentence:\n",
    "    :return:\n",
    "    \"\"\"\n",
    "    if (type(sentence) is not str):\n",
    "        return sentence\n",
    "    \n",
    "    words = sentence.split()\n",
    "    for index, word in enumerate(words):\n",
    "        # Tách chữ có dính dấu ngăn cách câu để chuẩn hóa\n",
    "        cw = re.sub(r'(^\\p{P}*)([\\p{L}.]*\\p{L}+)(\\p{P}*$)', r'\\1/\\2/\\3', word).split('/')\n",
    "        # print(cw)\n",
    "        # Chuẩn hóa nếu chữ không có vấn đề (thường fail khi chưa tách thành công các từ)\n",
    "        if len(cw) == 3:\n",
    "            cw[1] = chuan_hoa_dau_tu_tieng_viet(cw[1])\n",
    "            words[index] = ''.join(cw)\n",
    "    return ' '.join(words)"
   ]
  },
  {
   "cell_type": "code",
   "execution_count": null,
   "metadata": {},
   "outputs": [],
   "source": [
    "total_files = 218\n",
    "text_attrs = [\"title\",\"description\",\"content\",\"class\"]\n",
    "\n",
    "for index in tqdm(range(total_files)):\n",
    "    df=pd.read_csv(f'scraped_data/crawling_{index}.csv')\n",
    "    # Xóa dòng thiếu\n",
    "    df=df[~((df['title'].isnull())|\n",
    "                  (df['description'].isnull())|\n",
    "                  (df['content'].isnull()))]\n",
    "    for attr in text_attrs:\n",
    "        df[attr]=df[attr].apply(covert_unicode)\n",
    "        df[attr]=df[attr].str.lower()\n",
    "        df[attr]=df[attr].apply(chuan_hoa_dau_cau_tieng_viet)\n",
    "    df.to_csv(f'scraped_data/crawling_{index}.csv', index=False)"
   ]
  },
  {
   "cell_type": "code",
   "execution_count": null,
   "metadata": {},
   "outputs": [],
   "source": [
    "def lower_character(a):\n",
    "    return a.lower()\n",
    "data_df['content']=data_df['content'].apply(lower_character)\n",
    "#xoá ký tự thừa\n",
    "def remove_unnecessary(paragraph):\n",
    "    temp=re.sub(r'[^\\s\\wáàảãạăắằẳẵặâấầẩẫậéèẻẽẹêếềểễệóòỏõọôốồổỗộơớờởỡợíìỉĩịúùủũụưứừửữựýỳỷỹỵđ_]',' ',paragraph)\n",
    "    return re.sub(r'\\s+', ' ', temp).strip()\n",
    "\n",
    "data_df['content']=data_df['content'].apply(remove_unnecessary)"
   ]
  },
  {
   "cell_type": "code",
   "execution_count": null,
   "metadata": {},
   "outputs": [],
   "source": [
    "with open('vietnamese-stopwords-dash.txt', encoding='utf-8') as f:\n",
    "    lines = f.read().splitlines()\n",
    "    \n",
    "lines"
   ]
  },
  {
   "cell_type": "code",
   "execution_count": null,
   "metadata": {},
   "outputs": [],
   "source": [
    "# Danh sách stopword\n",
    "stopword = set(lines)\n",
    " \n",
    "def remove_stopwords(line):\n",
    "    words = []\n",
    "    for word in line.strip().split():\n",
    "        if word not in stopword:\n",
    "            words.append(word)\n",
    "    return ' '.join(words)\n",
    "\n",
    "data_df['content']=data_df['content'].apply(remove_stopwords)"
   ]
  },
  {
   "cell_type": "code",
   "execution_count": null,
   "metadata": {},
   "outputs": [],
   "source": [
    "data_df['content']=data_df['content'].apply(ViTokenizer.tokenize)"
   ]
  },
  {
   "cell_type": "code",
   "execution_count": null,
   "metadata": {},
   "outputs": [],
   "source": [
    "y_sr = data_df[\"class\"] # sr là viết tắt của series\n",
    "X_df = data_df[\"content\"]\n",
    "train_X_df, val_X_df, train_y_sr, val_y_sr = train_test_split(X_df, y_sr, test_size=0.3,stratify=y_sr, random_state=0)"
   ]
  },
  {
   "cell_type": "code",
   "execution_count": null,
   "metadata": {
    "code_folding": []
   },
   "outputs": [],
   "source": [
    "def remove_stopwords(line):\n",
    "    words = []\n",
    "    for word in line.strip().split():\n",
    "        if word not in stopwords:\n",
    "            words.append(word)\n",
    "    return ' '.join(words)\n"
   ]
  },
  {
   "cell_type": "code",
   "execution_count": null,
   "metadata": {},
   "outputs": [],
   "source": [
    "train_X_df=train_X_df.apply(remove_stopwords)\n",
    "val_X_df=val_X_df.apply(remove_stopwords)"
   ]
  },
  {
   "cell_type": "markdown",
   "metadata": {},
   "source": [
    "# Feature Engineering đưa dữ liệu dạng văn bản đã được xử lý về dạng vector thuộc tính có dạng số học bằng TF-IDF Vectors ở mức Word level "
   ]
  },
  {
   "cell_type": "code",
   "execution_count": null,
   "metadata": {},
   "outputs": [],
   "source": [
    "# word level - we choose max number of words equal to 30000 except all words (100k+ words)\n",
    "tfidf_vect = TfidfVectorizer(analyzer='word', max_features=30000)\n",
    "tfidf_vect.fit(train_X_df) # learn vocabulary and idf from training set\n",
    "train_X_tfidf =  tfidf_vect.transform(train_X_df)\n",
    "# assume that we don't have test set before\n",
    "val_X_tfidf =  tfidf_vect.transform(val_X_df)"
   ]
  },
  {
   "cell_type": "code",
   "execution_count": null,
   "metadata": {},
   "outputs": [],
   "source": [
    "from sklearn.decomposition import TruncatedSVD\n",
    "\n",
    "svd = TruncatedSVD(n_components=300, random_state=42)\n",
    "svd.fit(train_X_tfidf)\n",
    "\n",
    "\n",
    "train_X_tfidf_svd = svd.transform(train_X_tfidf)\n",
    "val_X_tfidf_svd = svd.transform(val_X_tfidf)"
   ]
  },
  {
   "cell_type": "code",
   "execution_count": 66,
   "metadata": {},
   "outputs": [
    {
     "data": {
      "text/plain": [
       "array([[ 0.20030094,  0.18793731, -0.12534865, ..., -0.00110729,\n",
       "        -0.0142511 , -0.01850076],\n",
       "       [ 0.11525002, -0.0581487 , -0.02183506, ...,  0.03544429,\n",
       "        -0.01520727,  0.01627132],\n",
       "       [ 0.18858558, -0.08719651, -0.08031146, ..., -0.01831743,\n",
       "        -0.00367883,  0.00197929],\n",
       "       ...,\n",
       "       [ 0.12423795,  0.09512202, -0.07983218, ...,  0.02051833,\n",
       "         0.00683792,  0.02198647],\n",
       "       [ 0.12335633, -0.00665921, -0.05612389, ...,  0.06285094,\n",
       "        -0.01132967,  0.0136735 ],\n",
       "       [ 0.19979618, -0.01186973,  0.0662302 , ...,  0.01725242,\n",
       "        -0.02033546,  0.00591102]])"
      ]
     },
     "execution_count": 66,
     "metadata": {},
     "output_type": "execute_result"
    }
   ],
   "source": [
    "train_X_tfidf_svd"
   ]
  },
  {
   "cell_type": "markdown",
   "metadata": {},
   "source": [
    "# Xây dựng mô hình"
   ]
  },
  {
   "cell_type": "code",
   "execution_count": 37,
   "metadata": {},
   "outputs": [
    {
     "data": {
      "text/plain": [
       "array(['cần biết', 'giáo dục', 'kinh doanh', 'nhịp sống trẻ', 'pháp luật',\n",
       "       'sức khỏe', 'thế giới', 'thể thao', 'thời sự', 'văn hóa'],\n",
       "      dtype=object)"
      ]
     },
     "execution_count": 37,
     "metadata": {},
     "output_type": "execute_result"
    }
   ],
   "source": [
    "encoder =LabelEncoder()\n",
    "train_y_sr_n = encoder.fit_transform(train_y_sr)\n",
    "val_y_sr_n = encoder.fit_transform(val_y_sr)"
   ]
  },
  {
   "cell_type": "markdown",
   "metadata": {},
   "source": [
    "# Logistic Regression"
   ]
  },
  {
   "cell_type": "code",
   "execution_count": 72,
   "metadata": {},
   "outputs": [
    {
     "name": "stderr",
     "output_type": "stream",
     "text": [
      "C:\\Users\\Admin\\anaconda3\\lib\\site-packages\\sklearn\\linear_model\\logistic.py:432: FutureWarning: Default solver will be changed to 'lbfgs' in 0.22. Specify a solver to silence this warning.\n",
      "  FutureWarning)\n",
      "C:\\Users\\Admin\\anaconda3\\lib\\site-packages\\sklearn\\linear_model\\logistic.py:469: FutureWarning: Default multi_class will be changed to 'auto' in 0.22. Specify the multi_class option to silence this warning.\n",
      "  \"this warning.\", FutureWarning)\n"
     ]
    },
    {
     "data": {
      "text/plain": [
       "LogisticRegression(C=1.0, class_weight=None, dual=False, fit_intercept=True,\n",
       "                   intercept_scaling=1, l1_ratio=None, max_iter=100,\n",
       "                   multi_class='warn', n_jobs=None, penalty='l2',\n",
       "                   random_state=None, solver='warn', tol=0.0001, verbose=0,\n",
       "                   warm_start=False)"
      ]
     },
     "execution_count": 72,
     "metadata": {},
     "output_type": "execute_result"
    }
   ],
   "source": [
    "from sklearn.linear_model import LogisticRegression\n",
    "log_reg_model=LogisticRegression()\n",
    "log_reg_model.fit(train_X_tfidf_svd,train_y_sr_n)\n"
   ]
  },
  {
   "cell_type": "markdown",
   "metadata": {},
   "source": [
    "### Độ chính xác tập training"
   ]
  },
  {
   "cell_type": "code",
   "execution_count": 73,
   "metadata": {},
   "outputs": [
    {
     "data": {
      "text/plain": [
       "0.8335266303862967"
      ]
     },
     "execution_count": 73,
     "metadata": {},
     "output_type": "execute_result"
    }
   ],
   "source": [
    "log_reg_model.score(train_X_tfidf_svd,train_y_sr_n)"
   ]
  },
  {
   "cell_type": "markdown",
   "metadata": {},
   "source": [
    "### Độ chính xác tập valuation"
   ]
  },
  {
   "cell_type": "code",
   "execution_count": 74,
   "metadata": {},
   "outputs": [],
   "source": [
    "prediction=log_reg_model.predict(val_X_tfidf_svd)"
   ]
  },
  {
   "cell_type": "code",
   "execution_count": 77,
   "metadata": {},
   "outputs": [
    {
     "data": {
      "text/plain": [
       "0.8116545265348596"
      ]
     },
     "execution_count": 77,
     "metadata": {},
     "output_type": "execute_result"
    }
   ],
   "source": [
    "1 - (prediction != val_y_sr_n).mean()"
   ]
  },
  {
   "cell_type": "markdown",
   "metadata": {},
   "source": [
    "# Support Vector Machine (SVM)"
   ]
  },
  {
   "cell_type": "code",
   "execution_count": 80,
   "metadata": {},
   "outputs": [
    {
     "name": "stderr",
     "output_type": "stream",
     "text": [
      "C:\\Users\\Admin\\anaconda3\\lib\\site-packages\\sklearn\\svm\\base.py:193: FutureWarning: The default value of gamma will change from 'auto' to 'scale' in version 0.22 to account better for unscaled features. Set gamma explicitly to 'auto' or 'scale' to avoid this warning.\n",
      "  \"avoid this warning.\", FutureWarning)\n"
     ]
    },
    {
     "data": {
      "text/plain": [
       "SVC(C=1.0, cache_size=200, class_weight=None, coef0=0.0,\n",
       "    decision_function_shape='ovr', degree=3, gamma='auto_deprecated',\n",
       "    kernel='rbf', max_iter=-1, probability=False, random_state=None,\n",
       "    shrinking=True, tol=0.001, verbose=False)"
      ]
     },
     "execution_count": 80,
     "metadata": {},
     "output_type": "execute_result"
    }
   ],
   "source": [
    "from sklearn.svm import SVC\n",
    "svm_classifier=SVC()\n",
    "svm_classifier.fit(train_X_tfidf_svd,train_y_sr_n)"
   ]
  },
  {
   "cell_type": "markdown",
   "metadata": {},
   "source": [
    "### Độ chính xác tập training"
   ]
  },
  {
   "cell_type": "code",
   "execution_count": 81,
   "metadata": {},
   "outputs": [
    {
     "data": {
      "text/plain": [
       "0.27085377821393525"
      ]
     },
     "execution_count": 81,
     "metadata": {},
     "output_type": "execute_result"
    }
   ],
   "source": [
    "svm_classifier.score(train_X_tfidf_svd,train_y_sr_n)"
   ]
  },
  {
   "cell_type": "markdown",
   "metadata": {},
   "source": [
    "### Độ chính xác tập valuation"
   ]
  },
  {
   "cell_type": "code",
   "execution_count": 82,
   "metadata": {},
   "outputs": [
    {
     "data": {
      "text/plain": [
       "0.2663891779396462"
      ]
     },
     "execution_count": 82,
     "metadata": {},
     "output_type": "execute_result"
    }
   ],
   "source": [
    "prediction=svm_classifier.predict(val_X_tfidf_svd)\n",
    "1 - (prediction != val_y_sr_n).mean()"
   ]
  },
  {
   "cell_type": "markdown",
   "metadata": {},
   "source": [
    "# MLPClassifier"
   ]
  },
  {
   "cell_type": "code",
   "execution_count": 84,
   "metadata": {},
   "outputs": [
    {
     "data": {
      "text/plain": [
       "MLPClassifier(activation='tanh', alpha=0.0001, batch_size='auto', beta_1=0.9,\n",
       "              beta_2=0.999, early_stopping=False, epsilon=1e-08,\n",
       "              hidden_layer_sizes=20, learning_rate='constant',\n",
       "              learning_rate_init=0.001, max_iter=2500, momentum=0.9,\n",
       "              n_iter_no_change=10, nesterovs_momentum=True, power_t=0.5,\n",
       "              random_state=0, shuffle=True, solver='lbfgs', tol=0.0001,\n",
       "              validation_fraction=0.1, verbose=False, warm_start=False)"
      ]
     },
     "execution_count": 84,
     "metadata": {},
     "output_type": "execute_result"
    }
   ],
   "source": [
    "mlp_classifier=MLPClassifier(hidden_layer_sizes=(20), activation='tanh',\n",
    "                                 solver='lbfgs', random_state=0, max_iter=2500)\n",
    "mlp_classifier.fit(train_X_tfidf_svd,train_y_sr_n)"
   ]
  },
  {
   "cell_type": "markdown",
   "metadata": {},
   "source": [
    "### Độ chính xác tập training"
   ]
  },
  {
   "cell_type": "code",
   "execution_count": 85,
   "metadata": {},
   "outputs": [
    {
     "data": {
      "text/plain": [
       "1.0"
      ]
     },
     "execution_count": 85,
     "metadata": {},
     "output_type": "execute_result"
    }
   ],
   "source": [
    "mlp_classifier.score(train_X_tfidf_svd,train_y_sr_n)"
   ]
  },
  {
   "cell_type": "markdown",
   "metadata": {},
   "source": [
    "### Độ chính xác tập valuation"
   ]
  },
  {
   "cell_type": "code",
   "execution_count": 86,
   "metadata": {},
   "outputs": [
    {
     "data": {
      "text/plain": [
       "0.7835587929240375"
      ]
     },
     "execution_count": 86,
     "metadata": {},
     "output_type": "execute_result"
    }
   ],
   "source": [
    "prediction=mlp_classifier.predict(val_X_tfidf_svd)\n",
    "1 - (prediction != val_y_sr_n).mean()"
   ]
  }
 ],
 "metadata": {
  "kernelspec": {
   "display_name": "Python 3",
   "language": "python",
   "name": "python3"
  },
  "language_info": {
   "codemirror_mode": {
    "name": "ipython",
    "version": 3
   },
   "file_extension": ".py",
   "mimetype": "text/x-python",
   "name": "python",
   "nbconvert_exporter": "python",
   "pygments_lexer": "ipython3",
   "version": "3.8.5"
  },
  "toc": {
   "base_numbering": 1,
   "nav_menu": {},
   "number_sections": false,
   "sideBar": true,
   "skip_h1_title": false,
   "title_cell": "Table of Contents",
   "title_sidebar": "Contents",
   "toc_cell": false,
   "toc_position": {},
   "toc_section_display": true,
   "toc_window_display": true
  }
 },
 "nbformat": 4,
 "nbformat_minor": 4
}
