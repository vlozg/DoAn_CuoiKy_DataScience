{
 "cells": [
  {
   "cell_type": "markdown",
   "metadata": {},
   "source": [
    "# Đồ án cuối kỳ - Phân tích chủ đề văn bản\n",
    "(Cập nhật 07/01/2021)\n",
    "\n",
    "Nhóm: 12\n",
    "\n",
    "Thành viên nhóm:\n",
    "- Vũ Đăng Hoàng Long - MSSV: 18120203\n",
    "- Nguyễn Huỳnh Đại Lợi - MSSV: 18120198"
   ]
  },
  {
   "cell_type": "markdown",
   "metadata": {},
   "source": [
    "---\n",
    "# Giới thiệu đồ án"
   ]
  },
  {
   "cell_type": "markdown",
   "metadata": {},
   "source": [
    "Chủ đề: Nhận diện chủ đề của một đoạn văn bản bất kỳ.\n",
    "\n",
    "Input: một đoạn văn bản bất kỳ.\n",
    "\n",
    "Output: một trong 18 phân lớp sau:\n",
    "\n",
    "| | | |\n",
    "| :- | :- | :- |\n",
    "| 1. thời sự quốc tế | 2. thời sự trong nước | 3. du lịch |\n",
    "| 4. kinh doanh | 5. giải trí | 6. công nghệ |\n",
    "| 7. nhà đất | 8. sức khỏe | 9. giáo dục |\n",
    "| 10. khoa học | 11. thể thao | 12. văn hóa |\n",
    "| 13. pháp luật | 14. yêu | 15. xe |\n",
    "| 16. thời trang | 17. nhịp sống trẻ | 18. ăn gì |\n",
    "\n",
    "Nguồn dữ liệu: tất cả bài báo thu thập từ trang báo điện tử Tuổi trẻ Online (https://tuoitre.vn/).\n",
    "\n",
    "Mục đích:\n",
    "- Khách quan: phục vụ việc nhận diện chủ đề một cách tự động.\n",
    "- Chủ quan: lọc các bài viết trên mạng xã hội theo chủ đề mà em quan tâm để tránh lãng phí thời gian lướt facebook chỉ để tìm chủ đề mà em quan tâm 🥴."
   ]
  },
  {
   "cell_type": "markdown",
   "metadata": {},
   "source": [
    "---\n",
    "# Phần đồ án\n",
    "\n",
    "## Cài đặt thư viện\n",
    "\n",
    "(có thể bỏ qua cell ở đây nếu cài rồi)"
   ]
  },
  {
   "cell_type": "code",
   "execution_count": 1,
   "metadata": {},
   "outputs": [],
   "source": [
    "%%capture\n",
    "# Cài đặt thư viện cần thiết\n",
    "!pip3 install pandas;\n",
    "!pip3 install tqdm;\n",
    "!pip3 install bs4;\n",
    "!pip3 install regex;\n",
    "!pip3 install numpy;\n",
    "!pip3 install pyvi;\n",
    "!pip3 install gensim;\n",
    "!pip3 install matplotlib;\n",
    "!pip3 install seaborn;\n",
    "!pip3 install -U scikit-learn;"
   ]
  },
  {
   "cell_type": "markdown",
   "metadata": {},
   "source": [
    "## Import thư viện"
   ]
  },
  {
   "cell_type": "code",
   "execution_count": 171,
   "metadata": {},
   "outputs": [
    {
     "name": "stderr",
     "output_type": "stream",
     "text": [
      "c:\\users\\admin\\appdata\\local\\programs\\python\\python38\\lib\\site-packages\\tqdm\\std.py:668: FutureWarning: The Panel class is removed from pandas. Accessing it from the top-level namespace will also be removed in the next version\n",
      "  from pandas import Panel\n"
     ]
    }
   ],
   "source": [
    "%matplotlib inline\n",
    "import matplotlib.pyplot as plt\n",
    "import seaborn as sns\n",
    "\n",
    "import pandas as pd\n",
    "import numpy as np\n",
    "import regex as re\n",
    "import time # Dùng để sleep chương trình\n",
    "from tqdm.notebook import tqdm # Hiện thanh progress cho đẹp :D\n",
    "tqdm.pandas()\n",
    "\n",
    "# Thư viện để request và parse HTML\n",
    "import requests\n",
    "from bs4 import BeautifulSoup\n",
    "\n",
    "# Các thư viện liên quan tới ngôn ngữ và NLP\n",
    "from pyvi import ViTokenizer # Thư viện NLP tiếng Việt\n",
    "import gensim\n",
    "import unicodedata # Thư viện unicode\n",
    "\n",
    "# Thư viện liên quan của Scikit-learn\n",
    "from sklearn.model_selection import train_test_split\n",
    "from sklearn.metrics import plot_confusion_matrix\n",
    "from sklearn.preprocessing import StandardScaler, LabelEncoder\n",
    "\n",
    "from sklearn.feature_extraction.text import TfidfVectorizer, CountVectorizer\n",
    "from sklearn.decomposition import TruncatedSVD\n",
    "\n",
    "# Tạo pipeline\n",
    "from sklearn.preprocessing import FunctionTransformer\n",
    "from sklearn.base import BaseEstimator, TransformerMixin\n",
    "from sklearn.pipeline import Pipeline\n",
    "from sklearn.compose import make_column_transformer, make_column_selector\n",
    "\n",
    "# Các mô hình học\n",
    "from sklearn.naive_bayes import MultinomialNB\n",
    "from sklearn.linear_model import LogisticRegression\n",
    "from sklearn.neural_network import MLPClassifier\n",
    "from sklearn.ensemble import BaggingClassifier # Phương pháp bagging"
   ]
  },
  {
   "cell_type": "markdown",
   "metadata": {},
   "source": [
    "---\n",
    "## 1. Thu thập dữ liệu"
   ]
  },
  {
   "cell_type": "code",
   "execution_count": 3,
   "metadata": {},
   "outputs": [],
   "source": [
    "# Thiết lập đường dẫn cho phần 1\n",
    "dir_1 = \"src/scraped_data/\""
   ]
  },
  {
   "cell_type": "markdown",
   "metadata": {},
   "source": [
    "Dữ liệu trong đồ án này được thu thập toàn bộ từ trang báo mạng Tuổi Trẻ Online (https://tuoitre.vn/).\n",
    "\n",
    "Khi mới vào trang chủ, có thể thấy trang báo này phân bổ thứ tự và cấu trúc thông tin không đều, rất khó để có thể thu thập được. Tuy nhiên, may mắn là trang báo này có mục tin mới nhất chứa toàn bộ tin từ các chuyên mục và có tổ chức các mục có cấu trúc rõ ràng (Hình 1).\n",
    "\n",
    "![Hình 1](resources/tin-moi-nhat.png \"Hình 1\")\n",
    "\n",
    "Khi người dùng kéo xuống cuối trang, sẽ có nút \"Xem thêm\" (Hình 2). Người dùng nhấn vào đây và tin tức cũ hơn sẽ hiện ngay bên dưới để người dùng kéo xuống tiếp.\n",
    "\n",
    "![Hình 2](resources/xem-them.png \"Hình 2\")\n",
    "\n",
    "Thoáng nhìn qua, quy trình lướt tin tức sẽ bao gồm: Vào mục tin mới -> Kéo xuống cuối trang -> Bấm \"Xem thêm\" -> Kéo xuống cuối trang và lặp lại. Như vậy với cách làm đơn giản nhất là mô phỏng click chuột của người dùng để bấm nút xem thêm càng nhiều càng tốt, sau đó lấy file HTML của trang về và thực hiện parse (Đây chính là cách làm trong phiên bản đầu của quy trình này của nhóm). Tuy nhiên cách này rất thiếu hiệu quả bởi lẽ máy sẽ cần phải mở trình duyệt lên và mô phỏng thao tác của người dùng -> rất chậm do thời gian tải trang và tốn tài nguyên xử lý của máy tính do phải render trang web. Trong phiên bản đầu nhóm đã mất khoảng vài phút để có thể lấy được 480 tin.\n",
    "\n",
    "Nhận thấy rằng trang tin này có một đặc điểm là có thể lăn chuột vô tận, nhóm tìm hiểu và phát hiện rằng có thể cải thiện hiệu suất của quy trình này lên rất nhiều lần! Cụ thể, khi người dùng bấm vào nút \"Xem thêm\", trang web sẽ gửi yêu cầu lên server và nhận về một file HTML có cấu trúc đơn giản chứa thông tin các bài báo (Hình 3). Sau đó trình duyệt sẽ thực hiện thay đổi DOM của trang web để thêm các tin này vào bên dưới, tạo hiệu ứng lăn chuột vô tận. Do vậy, thay vì phải đợi trình duyệt render trang web, nhóm có thể request thẳng đường link giống cách trang web request lên server. Việc làm này sẽ rút ngắn rất nhiều thời gian của quá trình thu thập dữ liệu!\n",
    "\n",
    "![Hình 3](resources/xem-them-network.png \"Hình 3\")\n",
    "\n",
    "Khi sử dụng công cụ theo dõi network của trình duyệt, nhóm phát hiện ra rằng đường link request tin mới của trang web khi bấm nút xem thêm lần đầu là \"https://tuoitre.vn/timeline/0/trang-1.htm\". Rất có thể khi thay thế trang-1 thành trang-2, trang-3,... chúng ta sẽ thu được các kết quả là tin mới của các lần bấm thứ 2, thứ 3,... vào nút \"Xem thêm\" (điều này đúng, nhóm đã kiểm chứng).\n",
    "\n",
    "Đoạn code bên dưới sẽ thực hiện request vào đường link trên và thực hiện parse với BeautifulSoup như HTML bình thường để lấy đường link và chuyên mục của các tin tức. Sau đó sẽ thực hiện request trang tin chính từ đường link thu thập được và lấy các thông tin tiêu đề, mô tả và nội dung.\n",
    "\n",
    "Kết quả sẽ được in bằng hàm tail() giúp có thể nắm được số lượng data lấy được thông qua index."
   ]
  },
  {
   "cell_type": "code",
   "execution_count": 4,
   "metadata": {
    "scrolled": true
   },
   "outputs": [
    {
     "data": {
      "text/html": [
       "<div>\n",
       "<style scoped>\n",
       "    .dataframe tbody tr th:only-of-type {\n",
       "        vertical-align: middle;\n",
       "    }\n",
       "\n",
       "    .dataframe tbody tr th {\n",
       "        vertical-align: top;\n",
       "    }\n",
       "\n",
       "    .dataframe thead th {\n",
       "        text-align: right;\n",
       "    }\n",
       "</style>\n",
       "<table border=\"1\" class=\"dataframe\">\n",
       "  <thead>\n",
       "    <tr style=\"text-align: right;\">\n",
       "      <th></th>\n",
       "      <th>links</th>\n",
       "      <th>title</th>\n",
       "      <th>description</th>\n",
       "      <th>content</th>\n",
       "      <th>class</th>\n",
       "    </tr>\n",
       "  </thead>\n",
       "  <tbody>\n",
       "    <tr>\n",
       "      <th>15</th>\n",
       "      <td>https://tuoitre.vn/nghe-nhan-minh-xa-chuyen-hu...</td>\n",
       "      <td>Nghệ nhân Minh Xa chuyển hướng trồng phong...</td>\n",
       "      <td>NaN</td>\n",
       "      <td>NaN</td>\n",
       "      <td>Cần biết</td>\n",
       "    </tr>\n",
       "    <tr>\n",
       "      <th>16</th>\n",
       "      <td>https://tuoitre.vn/gia-thit-heo-co-tang-nhung-...</td>\n",
       "      <td>Giá thịt heo có tăng nhưng không đột biến như ...</td>\n",
       "      <td>NaN</td>\n",
       "      <td>NaN</td>\n",
       "      <td>Kinh doanh</td>\n",
       "    </tr>\n",
       "    <tr>\n",
       "      <th>17</th>\n",
       "      <td>https://tuoitre.vn/tp-hcm-du-kien-chi-gan-13-t...</td>\n",
       "      <td>TP.HCM dự kiến chi gần 13 tỉ vớt rác trên sông...</td>\n",
       "      <td>NaN</td>\n",
       "      <td>NaN</td>\n",
       "      <td>Thời sự</td>\n",
       "    </tr>\n",
       "    <tr>\n",
       "      <th>18</th>\n",
       "      <td>https://tuoitre.vn/trung-quoc-tim-cach-that-ch...</td>\n",
       "      <td>Trung Quốc tìm cách thắt chặt quan hệ với Phil...</td>\n",
       "      <td>NaN</td>\n",
       "      <td>NaN</td>\n",
       "      <td>Thế giới</td>\n",
       "    </tr>\n",
       "    <tr>\n",
       "      <th>19</th>\n",
       "      <td>https://tuoitre.vn/de-phong-thuyen-vien-nho-vo...</td>\n",
       "      <td>Đề phòng thuyền viên nhớ vợ... trốn khai báo y...</td>\n",
       "      <td>NaN</td>\n",
       "      <td>NaN</td>\n",
       "      <td>Sức khỏe</td>\n",
       "    </tr>\n",
       "  </tbody>\n",
       "</table>\n",
       "</div>"
      ],
      "text/plain": [
       "                                                links  \\\n",
       "15  https://tuoitre.vn/nghe-nhan-minh-xa-chuyen-hu...   \n",
       "16  https://tuoitre.vn/gia-thit-heo-co-tang-nhung-...   \n",
       "17  https://tuoitre.vn/tp-hcm-du-kien-chi-gan-13-t...   \n",
       "18  https://tuoitre.vn/trung-quoc-tim-cach-that-ch...   \n",
       "19  https://tuoitre.vn/de-phong-thuyen-vien-nho-vo...   \n",
       "\n",
       "                                                title description content  \\\n",
       "15  Nghệ nhân Minh Xa chuyển hướng trồng phong...         NaN     NaN   \n",
       "16  Giá thịt heo có tăng nhưng không đột biến như ...         NaN     NaN   \n",
       "17  TP.HCM dự kiến chi gần 13 tỉ vớt rác trên sông...         NaN     NaN   \n",
       "18  Trung Quốc tìm cách thắt chặt quan hệ với Phil...         NaN     NaN   \n",
       "19  Đề phòng thuyền viên nhớ vợ... trốn khai báo y...         NaN     NaN   \n",
       "\n",
       "         class  \n",
       "15    Cần biết  \n",
       "16  Kinh doanh  \n",
       "17     Thời sự  \n",
       "18    Thế giới  \n",
       "19    Sức khỏe  "
      ]
     },
     "execution_count": 4,
     "metadata": {},
     "output_type": "execute_result"
    }
   ],
   "source": [
    "# Thử nghiệm url đầu tiên\n",
    "url = \"https://tuoitre.vn/timeline/0/trang-1.htm\"\n",
    "\n",
    "# Lấy danh sách news_items\n",
    "html_text = requests.get(url).text\n",
    "html_tree = BeautifulSoup(html_text, 'html.parser')\n",
    "news_items = html_tree.findAll('li', class_='news-item')\n",
    "\n",
    "# Lấy ra link, title và category từ news_items\n",
    "raw_data = pd.DataFrame(columns=[\"links\",\"title\",\"description\",\"content\",\"class\"])\n",
    "for item in news_items:\n",
    "    title = item.find('h3', class_='title-news').text.replace('\\n','')\n",
    "    link = \"https://tuoitre.vn\" + item.find('a').attrs[\"href\"]\n",
    "    category = item.find('a', class_='category-name').text\n",
    "    raw_data = raw_data.append({\"links\":link, \"title\":title, \"class\":category}, ignore_index=True)\n",
    "\n",
    "raw_data.tail()"
   ]
  },
  {
   "cell_type": "code",
   "execution_count": 5,
   "metadata": {
    "scrolled": true
   },
   "outputs": [
    {
     "name": "stdout",
     "output_type": "stream",
     "text": [
      "Wall time: 4.01 s\n"
     ]
    },
    {
     "data": {
      "text/html": [
       "<div>\n",
       "<style scoped>\n",
       "    .dataframe tbody tr th:only-of-type {\n",
       "        vertical-align: middle;\n",
       "    }\n",
       "\n",
       "    .dataframe tbody tr th {\n",
       "        vertical-align: top;\n",
       "    }\n",
       "\n",
       "    .dataframe thead th {\n",
       "        text-align: right;\n",
       "    }\n",
       "</style>\n",
       "<table border=\"1\" class=\"dataframe\">\n",
       "  <thead>\n",
       "    <tr style=\"text-align: right;\">\n",
       "      <th></th>\n",
       "      <th>links</th>\n",
       "      <th>title</th>\n",
       "      <th>description</th>\n",
       "      <th>content</th>\n",
       "      <th>class</th>\n",
       "    </tr>\n",
       "  </thead>\n",
       "  <tbody>\n",
       "    <tr>\n",
       "      <th>15</th>\n",
       "      <td>https://tuoitre.vn/nghe-nhan-minh-xa-chuyen-hu...</td>\n",
       "      <td>Nghệ nhân Minh Xa chuyển hướng trồng phong...</td>\n",
       "      <td>Tốt nghiệp đại học xây dựng, đang có côn...</td>\n",
       "      <td>Nghệ nhân Minh Xa (tên thật là Nguyễn Xuân...</td>\n",
       "      <td>Cần biết</td>\n",
       "    </tr>\n",
       "    <tr>\n",
       "      <th>16</th>\n",
       "      <td>https://tuoitre.vn/gia-thit-heo-co-tang-nhung-...</td>\n",
       "      <td>Giá thịt heo có tăng nhưng không đột biến như ...</td>\n",
       "      <td>TTO - Nhu cầu thịt heo tăng cao để phục vụ chế...</td>\n",
       "      <td>Tại cuộc họp báo cung cấp thông tin nguồn cung...</td>\n",
       "      <td>Kinh doanh</td>\n",
       "    </tr>\n",
       "    <tr>\n",
       "      <th>17</th>\n",
       "      <td>https://tuoitre.vn/tp-hcm-du-kien-chi-gan-13-t...</td>\n",
       "      <td>TP.HCM dự kiến chi gần 13 tỉ vớt rác trên sông...</td>\n",
       "      <td>TTO - Sau thời gian thí điểm, Sở GTVT TP.HCM c...</td>\n",
       "      <td>Cụ thể, việc vớt rác được thực hiện bằng 1 tàu...</td>\n",
       "      <td>Thời sự</td>\n",
       "    </tr>\n",
       "    <tr>\n",
       "      <th>18</th>\n",
       "      <td>https://tuoitre.vn/trung-quoc-tim-cach-that-ch...</td>\n",
       "      <td>Trung Quốc tìm cách thắt chặt quan hệ với Phil...</td>\n",
       "      <td>TTO - Bộ trưởng Ngoại giao Trung Quốc Vương Ng...</td>\n",
       "      <td>Theo Đài CGTN, ông Vương sẽ thảo luận với ngườ...</td>\n",
       "      <td>Thế giới</td>\n",
       "    </tr>\n",
       "    <tr>\n",
       "      <th>19</th>\n",
       "      <td>https://tuoitre.vn/de-phong-thuyen-vien-nho-vo...</td>\n",
       "      <td>Đề phòng thuyền viên nhớ vợ... trốn khai báo y...</td>\n",
       "      <td>TTO - Đó là cảnh báo của đoàn công tác của Ban...</td>\n",
       "      <td>Chiều tối 14-1, đoàn công tác của Ban Chỉ đạo ...</td>\n",
       "      <td>Sức khỏe</td>\n",
       "    </tr>\n",
       "  </tbody>\n",
       "</table>\n",
       "</div>"
      ],
      "text/plain": [
       "                                                links  \\\n",
       "15  https://tuoitre.vn/nghe-nhan-minh-xa-chuyen-hu...   \n",
       "16  https://tuoitre.vn/gia-thit-heo-co-tang-nhung-...   \n",
       "17  https://tuoitre.vn/tp-hcm-du-kien-chi-gan-13-t...   \n",
       "18  https://tuoitre.vn/trung-quoc-tim-cach-that-ch...   \n",
       "19  https://tuoitre.vn/de-phong-thuyen-vien-nho-vo...   \n",
       "\n",
       "                                                title  \\\n",
       "15  Nghệ nhân Minh Xa chuyển hướng trồng phong...   \n",
       "16  Giá thịt heo có tăng nhưng không đột biến như ...   \n",
       "17  TP.HCM dự kiến chi gần 13 tỉ vớt rác trên sông...   \n",
       "18  Trung Quốc tìm cách thắt chặt quan hệ với Phil...   \n",
       "19  Đề phòng thuyền viên nhớ vợ... trốn khai báo y...   \n",
       "\n",
       "                                          description  \\\n",
       "15  Tốt nghiệp đại học xây dựng, đang có côn...   \n",
       "16  TTO - Nhu cầu thịt heo tăng cao để phục vụ chế...   \n",
       "17  TTO - Sau thời gian thí điểm, Sở GTVT TP.HCM c...   \n",
       "18  TTO - Bộ trưởng Ngoại giao Trung Quốc Vương Ng...   \n",
       "19  TTO - Đó là cảnh báo của đoàn công tác của Ban...   \n",
       "\n",
       "                                              content       class  \n",
       "15  Nghệ nhân Minh Xa (tên thật là Nguyễn Xuân...    Cần biết  \n",
       "16  Tại cuộc họp báo cung cấp thông tin nguồn cung...  Kinh doanh  \n",
       "17  Cụ thể, việc vớt rác được thực hiện bằng 1 tàu...     Thời sự  \n",
       "18  Theo Đài CGTN, ông Vương sẽ thảo luận với ngườ...    Thế giới  \n",
       "19  Chiều tối 14-1, đoàn công tác của Ban Chỉ đạo ...    Sức khỏe  "
      ]
     },
     "execution_count": 5,
     "metadata": {},
     "output_type": "execute_result"
    }
   ],
   "source": [
    "%%time\n",
    "for _, row in raw_data.iterrows():\n",
    "    news_page = requests.get(row[\"links\"]).content\n",
    "    news_tree = BeautifulSoup(news_page, \"html.parser\")\n",
    "    # Lấy mô tả\n",
    "    try:\n",
    "        row[\"description\"] = news_tree.find(\"h2\", class_=\"sapo\").text\n",
    "    except:\n",
    "        row[\"description\"] = ''\n",
    "    # Lấy nội dung\n",
    "    try:\n",
    "        body = news_tree.find(\"div\", id=\"main-detail-body\")\n",
    "        content = body.findChildren(\"p\", recursive=False)\n",
    "        row[\"content\"] = \"\"\n",
    "        for x in content:\n",
    "            row[\"content\"] += x.text\n",
    "    except:\n",
    "        row[\"content\"] = ''\n",
    "    time.sleep(0.05)\n",
    "    \n",
    "raw_data.tail()"
   ]
  },
  {
   "cell_type": "markdown",
   "metadata": {},
   "source": [
    "### Vấn đề phát sinh trong quá trình thu thập dữ liệu tự động hàng loạt"
   ]
  },
  {
   "cell_type": "markdown",
   "metadata": {},
   "source": [
    "#### Thiếu dữ liệu làm đứt quãng quá trình thu thập\n",
    "Do khối lượng dữ liệu có thể thu thập được rất lớn (ước tính lên đến hơn 500.000 tin), việc giám sát quá trình khai thác liên tục là không thể. Việc xuất hiện lỗi này đã khiến quá trình khai thác bị ngắt quãng mỗi khi xuất hiện. Nhóm đã khắc phục bằng cách đặt các khối lệnh ```try``` ```catch``` ở mỗi đoạn code parse các phần thông tin, tự động trả về rỗng nếu có lỗi.\n",
    "\n",
    "#### Lỗi TooManyRedirects: Exceeded 30 redirects\n",
    "Đây là lỗi xuất hiện khi một trang web tự điều hướng quá 30 lần (con số mặc định có thể chỉnh được).\n",
    "\n",
    "Với một số server, khi được request sẽ tùy vào thông tin header của request (như trình duyệt, cache,...), server sẽ đính kèm lệnh chuyển hướng vào response và trình duyệt sẽ dùng thông tin đó điều hướng chuyển qua trang web nhất định. Chẳng hạn, khi người dùng điện thoại truy cập vào trang facebook.com, trình duyệt sẽ tự động điều hướng chuyển người dùng tới trang m.facebook.com là trang có giao diện dành cho điện thoại. Request HTTP trong python cũng không phải ngoại lệ khi có thiết lập mặc định là sẽ tự động chuyển hướng cho đến khi không còn nhận được lệnh từ server.\n",
    "\n",
    "Khi tra cứu lỗi này trên google, nhóm nhận được các đề xuất giải quyết sau:\n",
    "- Thêm tham số ```allow_redirects=True``` vào lệnh ```requests.get```\n",
    "- Thêm tham số ```headers``` vào lệnh ```requests.get```. Tham số này chứa các thông tin mặc định của header mà trình duyệt gửi tới server.\n",
    "- Tạo một ```session``` và thay đổi thuộc tính ```max_redirect``` lên hớn 30.\n",
    "\n",
    "Với cách 1 vô nghĩa do tham số đó là mặc định sẵn, cách 3 thì không đảm bảo thay đổi bao nhiêu là đủ. Còn với cách 2, lệnh request cung cấp thêm thông tin cho server nhằm tránh tình trạng server không xác định được người dùng và rơi vào vòng lặp redirect vô tận. Tuy nhiên nhóm áp dụng và vẫn không khắc phục được. Khi thử lấy link này thì hoàn toàn không vô được.\n",
    "\n",
    "Một điều thú vị là khi debug, nhóm phát hiện rằng các link sinh ra lỗi này đều có nội dung về giáo dục (Hình 4). Khi thử tìm kiếm trang riêng có đường link https://tuyensinh.tuoitre.vn/ thì được điều hướng trở về trang https://tuoitre.vn/giao-duc/tuyen-sinh.htm. Kết luận của nhóm: rất có thể trang báo này đã có quá trình thay đổi công nghệ ở một thời điểm nhất định trong quá khứ khiến cho các trang này không truy cập được -> không chỉ trang tin giáo dục mà còn có thể nhiều trang tin khác cũng bị tương tự.\n",
    "\n",
    "![Hình 4](resources/tuyen-sinh-errors.png \"Hình 4\")\n",
    "\n",
    "Quyết định của nhóm là sẽ áp dụng cách khắc phục 2 vì nó hợp lý và áp khối ```try``` ```catch``` điền thông tin trống với các link tiếp tục bị lỗi.\n",
    "\n",
    "#### Lỗi 502 của trang web được request về\n",
    "Lỗi này đến từ phía server của trang báo và xuất hiện rất ngẫu nhiên không xác định được. Nhóm đã giải quyết bằng cách đặt vòng lặp ```while``` tại các câu lệnh ```get``` và chỉ ngừng khi quá số lần cho phép hoặc nhận phản hồi 200 tức OK. Tuy nhiên cần chú ý cho phép cả phản hồi 301 vì đây là lệnh điều hướng trang có liên quan tới lỗi ở phần trước có đề cập."
   ]
  },
  {
   "cell_type": "markdown",
   "metadata": {},
   "source": [
    "### Thiết lập đoạn code thu thập dữ liệu tự động hàng loạt\n",
    "\n",
    "(Đoạn code dưới đây dùng cho tác vụ thu thập hàng loạt mà nhóm đã thực hiện chạy trên notebook khác)"
   ]
  },
  {
   "cell_type": "code",
   "execution_count": 6,
   "metadata": {
    "scrolled": true
   },
   "outputs": [],
   "source": [
    "def single_request_scraping(index = 1, limit_retry = 100, sleep_time = 0.05):\n",
    "    '''\n",
    "    Thu thập các trang tin trong mục tin mới nhất của báo Tuổi Trẻ.\n",
    "    Mỗi lần thu thập 20 tin. Sử dụng số index để thu thập các trang liên tiếp.\n",
    "    Với index = 1 tức lấy 20 trang tin mới nhất.\n",
    "\n",
    "    Lưu ý:\n",
    "        Khi lấy liên tục cần chọn thời điểm\n",
    "        vì có khả năng báo cập nhật tin tức mới sẽ làm \n",
    "        tin ở trang trước bị đẩy xuống trang sau.\n",
    "\n",
    "    Param:\n",
    "        index: số chỉ trang cần request.\n",
    "    '''\n",
    "    allow_status = [200, 301]\n",
    "    s = requests.Session()\n",
    "    s.headers['User-Agent'] = 'Mozilla/5.0 (Macintosh; Intel Mac OS X 10_9_2) AppleWebKit/537.36 (KHTML, like Gecko) Chrome/34.0.1847.131 Safari/537.36'\n",
    "    url = f\"https://tuoitre.vn/timeline/0/trang-{index}.htm\"\n",
    "\n",
    "    # Lấy danh sách news_items\n",
    "    try:\n",
    "        response = s.get(url)\n",
    "        try_left = limit_retry\n",
    "        while (response.status_code not in allow_status and try_left > 0):\n",
    "            print(f\"Loi {response.status_code} tai trang {index}\")\n",
    "            response = s.get(url)\n",
    "            try_left -= 1\n",
    "        html_text = response.text\n",
    "    except:\n",
    "        print(f\"Loi request tai trang {index}\")\n",
    "        return None\n",
    "    \n",
    "    html_tree = BeautifulSoup(html_text, 'html.parser')\n",
    "    news_items = html_tree.findAll('li', class_='news-item')\n",
    "    \n",
    "    # Kiểm tra lỗi nếu không lấy được bất cứ item nào\n",
    "    if (len(news_items) == 0):\n",
    "        print(f'Trang {index} khong lay duoc item.')\n",
    "        print(html_text)\n",
    "        return None\n",
    "    elif (len(news_items) != 20):\n",
    "        print(f\"Warning: Trang {index} chi lay duoc {len(news_items)} items.\")\n",
    "    \n",
    "    # Lấy ra link, title và category từ news_items\n",
    "    raw_data = pd.DataFrame(columns=[\"links\",\"title\",\"description\",\"content\",\"class\"])\n",
    "    for item in news_items:\n",
    "        try:\n",
    "            title = item.find('h3', class_='title-news').text.replace('\\n','')\n",
    "        except:\n",
    "            title = \"\"\n",
    "        link = \"https://tuoitre.vn\" + item.find('a').attrs[\"href\"]\n",
    "        try:\n",
    "            category = item.find('a', class_='category-name').text\n",
    "        except:\n",
    "            category = \"\"\n",
    "        raw_data = raw_data.append({\"links\":link, \"title\":title, \"class\":category}, ignore_index=True)\n",
    "    \n",
    "    # Tiến hành lấy nội dung từng link\n",
    "    for _, row in raw_data.iterrows():\n",
    "        try:\n",
    "            response = s.get(row[\"links\"])\n",
    "            try_left = limit_retry\n",
    "            while (response.status_code not in allow_status and try_left > 0):\n",
    "                print(f\"Loi {response.status_code} tai link {row['links']}\")\n",
    "                response = s.get(row[\"links\"])\n",
    "                try_left -= 1\n",
    "            news_page = response.content\n",
    "        except:\n",
    "            print(f\"Loi request tai link {row['links']}\")\n",
    "            row[\"description\"] = \"\"\n",
    "            row[\"content\"] = \"\"\n",
    "            continue\n",
    "            \n",
    "        news_tree = BeautifulSoup(news_page, \"html.parser\")\n",
    "        # Lấy mô tả\n",
    "        try:\n",
    "            row[\"description\"] = news_tree.find(\"h2\", class_=\"sapo\").text\n",
    "        except:\n",
    "            row[\"description\"] = ''\n",
    "        # Lấy nội dung\n",
    "        try:\n",
    "            body = news_tree.find(\"div\", id=\"main-detail-body\")\n",
    "            content = body.findChildren(\"p\", recursive=False)\n",
    "            row[\"content\"] = \"\"\n",
    "            for x in content:\n",
    "                row[\"content\"] += x.text\n",
    "        except:\n",
    "            row[\"content\"] = ''\n",
    "        time.sleep(sleep_time)\n",
    "    \n",
    "    return raw_data"
   ]
  },
  {
   "cell_type": "code",
   "execution_count": 7,
   "metadata": {},
   "outputs": [],
   "source": [
    "#Batch scraping\n",
    "def batch_scraping(num = 200, output_dir = \"\"):\n",
    "    '''\n",
    "    Thực hiện thu thập toàn bộ dữ liệu trên trang tuoitre.vn\n",
    "    \n",
    "    Param:\n",
    "        num: số lượng trang request cho 1 batch (1 trang = 20 bài báo). Mặc định 4000 bài báo.\n",
    "    '''\n",
    "    iter_num = 0  # Số batch bắt đầu\n",
    "    continue_flag = True # Cờ hiệu kết thúc vòng lặp khi xảy ra lỗi\n",
    "\n",
    "    while (continue_flag):\n",
    "        \n",
    "        '''\n",
    "        Khởi tạo dataframe rỗng. \n",
    "        Sau đó lấy đủ 1 số trang cho 1 batch.\n",
    "        Rồi export file csv.\n",
    "        '''\n",
    "        batch_df = pd.DataFrame(columns=[\"links\",\"title\",\"description\",\"content\",\"class\"])\n",
    "        for index in range(iter_num*num+1,(iter_num+1)*num+1):\n",
    "            data = single_request_scraping(index)\n",
    "            if (data is None):\n",
    "                continue_flag = False\n",
    "                break\n",
    "            print(f\"Page {index} complete!\")\n",
    "            batch_df = batch_df.append(data)\n",
    "        batch_df.to_csv(output_dir + f'crawling_{iter_num}.csv',index=False,encoding=\"utf-8\")    \n",
    "        iter_num+=1"
   ]
  },
  {
   "cell_type": "code",
   "execution_count": 8,
   "metadata": {},
   "outputs": [],
   "source": [
    "#batch_scraping(output_dir = dir_1)"
   ]
  },
  {
   "cell_type": "markdown",
   "metadata": {},
   "source": [
    "---\n",
    "## 2. Khám phá dữ liệu"
   ]
  },
  {
   "cell_type": "code",
   "execution_count": 9,
   "metadata": {},
   "outputs": [],
   "source": [
    "# Thiết lập đường dẫn thư mục để dùng trong phần 2\n",
    "dir_2 = \"src/raw_scraped_data_demo/\""
   ]
  },
  {
   "cell_type": "markdown",
   "metadata": {},
   "source": [
    "Trong phần này nhóm sẽ khám phá các đặc tính của dữ liệu đã thu thập được ở bên trên. Do khối lượng dữ liệu lớn, nhóm chỉ đọc 12 batchs dữ liệu đầu tiên để khám phá và đưa ra hướng cho tiền xử lý. Một số thông tin thống kê cần chạy trên toàn bộ dữ liệu sẽ được thực hiện riêng và cho kết quả ra một file riêng biệt."
   ]
  },
  {
   "cell_type": "markdown",
   "metadata": {},
   "source": [
    "### Đọc 12 file đầu"
   ]
  },
  {
   "cell_type": "code",
   "execution_count": 10,
   "metadata": {},
   "outputs": [
    {
     "data": {
      "application/vnd.jupyter.widget-view+json": {
       "model_id": "2d82bc1ebd6349ac8821e1a119d2822b",
       "version_major": 2,
       "version_minor": 0
      },
      "text/plain": [
       "HBox(children=(FloatProgress(value=0.0, max=12.0), HTML(value='')))"
      ]
     },
     "metadata": {},
     "output_type": "display_data"
    },
    {
     "name": "stdout",
     "output_type": "stream",
     "text": [
      "\n"
     ]
    },
    {
     "data": {
      "text/html": [
       "<div>\n",
       "<style scoped>\n",
       "    .dataframe tbody tr th:only-of-type {\n",
       "        vertical-align: middle;\n",
       "    }\n",
       "\n",
       "    .dataframe tbody tr th {\n",
       "        vertical-align: top;\n",
       "    }\n",
       "\n",
       "    .dataframe thead th {\n",
       "        text-align: right;\n",
       "    }\n",
       "</style>\n",
       "<table border=\"1\" class=\"dataframe\">\n",
       "  <thead>\n",
       "    <tr style=\"text-align: right;\">\n",
       "      <th></th>\n",
       "      <th>links</th>\n",
       "      <th>title</th>\n",
       "      <th>description</th>\n",
       "      <th>content</th>\n",
       "      <th>class</th>\n",
       "    </tr>\n",
       "  </thead>\n",
       "  <tbody>\n",
       "    <tr>\n",
       "      <th>0</th>\n",
       "      <td>https://tuoitre.vn/tong-thong-trump-xac-nhan-k...</td>\n",
       "      <td>Tổng thống Trump xác nhận không dự lễ nhậm chứ...</td>\n",
       "      <td>TTO - Tổng thống Mỹ Donald Trump đăng tweet ch...</td>\n",
       "      <td>Sau khi đưa ra cam kết sẽ đảm bảo chuyển giao ...</td>\n",
       "      <td>Thế giới</td>\n",
       "    </tr>\n",
       "    <tr>\n",
       "      <th>1</th>\n",
       "      <td>https://tuoitre.vn/dat-nuoc-dat-niem-tin-vao-n...</td>\n",
       "      <td>Đất nước đặt niềm tin vào những học sinh xuất sắc</td>\n",
       "      <td>TT0 - Tối 8-1, Thủ tướng Chính phủ Nguyễn Xuân...</td>\n",
       "      <td>Chia sẻ tại buổi lễ, Thủ tướng Nguyễn Xuân Phú...</td>\n",
       "      <td>Giáo dục</td>\n",
       "    </tr>\n",
       "    <tr>\n",
       "      <th>2</th>\n",
       "      <td>https://tuoitre.vn/luat-su-my-phan-bien-ong-tr...</td>\n",
       "      <td>Luật sư Mỹ phản biện: Ông Trump đâu có kêu ngư...</td>\n",
       "      <td>TTO - Trên chương trình Bill Hemmer Reports củ...</td>\n",
       "      <td>Ngày 6-1, tình trạng bạo lực đã xảy ra tại tòa...</td>\n",
       "      <td>Thế giới</td>\n",
       "    </tr>\n",
       "    <tr>\n",
       "      <th>3</th>\n",
       "      <td>https://tuoitre.vn/thanh-pho-phu-quoc-se-phat-...</td>\n",
       "      <td>Thành phố Phú Quốc sẽ phát triển dựa trên 4 tr...</td>\n",
       "      <td>TTO - Tối 8-1 tại phường An Thới, chính quyền ...</td>\n",
       "      <td>Phát biểu tại buổi lễ công bố thành lập TP Phú...</td>\n",
       "      <td>Thời sự</td>\n",
       "    </tr>\n",
       "    <tr>\n",
       "      <th>4</th>\n",
       "      <td>https://tuoitre.vn/ong-trump-nguoi-ung-ho-toi-...</td>\n",
       "      <td>Ông Trump: Người ủng hộ tôi 'sẽ có tiếng nói t...</td>\n",
       "      <td>TTO - Trong nội dung đăng trên Twitter sau gần...</td>\n",
       "      <td>\"75 triệu người Mỹ yêu nước vĩ đại đã bầu cho ...</td>\n",
       "      <td>Thế giới</td>\n",
       "    </tr>\n",
       "  </tbody>\n",
       "</table>\n",
       "</div>"
      ],
      "text/plain": [
       "                                               links  \\\n",
       "0  https://tuoitre.vn/tong-thong-trump-xac-nhan-k...   \n",
       "1  https://tuoitre.vn/dat-nuoc-dat-niem-tin-vao-n...   \n",
       "2  https://tuoitre.vn/luat-su-my-phan-bien-ong-tr...   \n",
       "3  https://tuoitre.vn/thanh-pho-phu-quoc-se-phat-...   \n",
       "4  https://tuoitre.vn/ong-trump-nguoi-ung-ho-toi-...   \n",
       "\n",
       "                                               title  \\\n",
       "0  Tổng thống Trump xác nhận không dự lễ nhậm chứ...   \n",
       "1  Đất nước đặt niềm tin vào những học sinh xuất sắc   \n",
       "2  Luật sư Mỹ phản biện: Ông Trump đâu có kêu ngư...   \n",
       "3  Thành phố Phú Quốc sẽ phát triển dựa trên 4 tr...   \n",
       "4  Ông Trump: Người ủng hộ tôi 'sẽ có tiếng nói t...   \n",
       "\n",
       "                                         description  \\\n",
       "0  TTO - Tổng thống Mỹ Donald Trump đăng tweet ch...   \n",
       "1  TT0 - Tối 8-1, Thủ tướng Chính phủ Nguyễn Xuân...   \n",
       "2  TTO - Trên chương trình Bill Hemmer Reports củ...   \n",
       "3  TTO - Tối 8-1 tại phường An Thới, chính quyền ...   \n",
       "4  TTO - Trong nội dung đăng trên Twitter sau gần...   \n",
       "\n",
       "                                             content     class  \n",
       "0  Sau khi đưa ra cam kết sẽ đảm bảo chuyển giao ...  Thế giới  \n",
       "1  Chia sẻ tại buổi lễ, Thủ tướng Nguyễn Xuân Phú...  Giáo dục  \n",
       "2  Ngày 6-1, tình trạng bạo lực đã xảy ra tại tòa...  Thế giới  \n",
       "3  Phát biểu tại buổi lễ công bố thành lập TP Phú...   Thời sự  \n",
       "4  \"75 triệu người Mỹ yêu nước vĩ đại đã bầu cho ...  Thế giới  "
      ]
     },
     "execution_count": 10,
     "metadata": {},
     "output_type": "execute_result"
    }
   ],
   "source": [
    "# Import thử 12 file đầu tiên\n",
    "df = []\n",
    "for i in tqdm(range(12)):\n",
    "    df.append(pd.read_csv(dir_2 + f'crawling_{i}.csv'))\n",
    "    \n",
    "data_df=pd.concat(df)\n",
    "data_df.reset_index(drop=True, inplace=True)\n",
    "data_df.head()"
   ]
  },
  {
   "cell_type": "markdown",
   "metadata": {},
   "source": [
    "### Kích thước và kiểu dữ liệu của các cột\n",
    "\n",
    "Theo ước tính trong bước thu thập, file đầu tiên (\"crawling_0.csv\") sẽ có 8000 dòng còn các file còn lại sẽ có 4000 dòng.<br>Tổng cộng tất cả là 8000 ✕ 1 + 4000 ✕ 11 = 52000. Về kiểu dữ liệu thì các cột sẽ có kiểu string."
   ]
  },
  {
   "cell_type": "code",
   "execution_count": 11,
   "metadata": {},
   "outputs": [
    {
     "data": {
      "text/plain": [
       "(52000, 5)"
      ]
     },
     "execution_count": 11,
     "metadata": {},
     "output_type": "execute_result"
    }
   ],
   "source": [
    "data_df.shape"
   ]
  },
  {
   "cell_type": "code",
   "execution_count": 12,
   "metadata": {},
   "outputs": [
    {
     "data": {
      "text/plain": [
       "links          object\n",
       "title          object\n",
       "description    object\n",
       "content        object\n",
       "class          object\n",
       "dtype: object"
      ]
     },
     "execution_count": 12,
     "metadata": {},
     "output_type": "execute_result"
    }
   ],
   "source": [
    "# Các cột hiện có kiểu dữ liệu gì?\n",
    "data_df.dtypes"
   ]
  },
  {
   "cell_type": "markdown",
   "metadata": {},
   "source": [
    "### Kiểm tra dữ liệu trùng"
   ]
  },
  {
   "cell_type": "code",
   "execution_count": 13,
   "metadata": {},
   "outputs": [
    {
     "data": {
      "text/html": [
       "<div>\n",
       "<style scoped>\n",
       "    .dataframe tbody tr th:only-of-type {\n",
       "        vertical-align: middle;\n",
       "    }\n",
       "\n",
       "    .dataframe tbody tr th {\n",
       "        vertical-align: top;\n",
       "    }\n",
       "\n",
       "    .dataframe thead th {\n",
       "        text-align: right;\n",
       "    }\n",
       "</style>\n",
       "<table border=\"1\" class=\"dataframe\">\n",
       "  <thead>\n",
       "    <tr style=\"text-align: right;\">\n",
       "      <th></th>\n",
       "      <th>links</th>\n",
       "      <th>title</th>\n",
       "      <th>description</th>\n",
       "      <th>content</th>\n",
       "      <th>class</th>\n",
       "    </tr>\n",
       "  </thead>\n",
       "  <tbody>\n",
       "    <tr>\n",
       "      <th>48880</th>\n",
       "      <td>/dang-sai-lech-vu-dong-tam-facebooker-chuong-m...</td>\n",
       "      <td>Đăng sai lệch vụ Đồng Tâm, Facebooker ‘Chương ...</td>\n",
       "      <td>TTO - Ngày 20-1, Cơ quan cảnh sát điều tra Côn...</td>\n",
       "      <td>Facebooker \"Chương May Mắn\" tên thật là Chung ...</td>\n",
       "      <td>Pháp luật</td>\n",
       "    </tr>\n",
       "    <tr>\n",
       "      <th>48879</th>\n",
       "      <td>/dang-sai-lech-vu-dong-tam-facebooker-chuong-m...</td>\n",
       "      <td>Đăng sai lệch vụ Đồng Tâm, Facebooker ‘Chương ...</td>\n",
       "      <td>TTO - Ngày 20-1, Cơ quan cảnh sát điều tra Côn...</td>\n",
       "      <td>Facebooker \"Chương May Mắn\" tên thật là Chung ...</td>\n",
       "      <td>Pháp luật</td>\n",
       "    </tr>\n",
       "    <tr>\n",
       "      <th>307</th>\n",
       "      <td>https://tuoitre.vn/1-ca-covid-19-moi-phat-hien...</td>\n",
       "      <td>1 ca COVID-19 mới, phát hiện sau 3 lần xét ngh...</td>\n",
       "      <td>TTO - Sau nhiều ngày số mắc mới khá cao và dồn...</td>\n",
       "      <td>Theo Bộ Y tế, 1 ca mắc mới ngày 6-1 là ca nhập...</td>\n",
       "      <td>Sức khỏe</td>\n",
       "    </tr>\n",
       "    <tr>\n",
       "      <th>254</th>\n",
       "      <td>https://tuoitre.vn/1-ca-covid-19-moi-phat-hien...</td>\n",
       "      <td>1 ca COVID-19 mới, phát hiện sau 3 lần xét ngh...</td>\n",
       "      <td>TTO - Sau nhiều ngày số mắc mới khá cao và dồn...</td>\n",
       "      <td>Theo Bộ Y tế, 1 ca mắc mới ngày 6-1 là ca nhập...</td>\n",
       "      <td>Sức khỏe</td>\n",
       "    </tr>\n",
       "    <tr>\n",
       "      <th>179</th>\n",
       "      <td>https://tuoitre.vn/affordable-luxury-dong-san-...</td>\n",
       "      <td>'Affordable luxury' - dòng sản phẩm đột phá về...</td>\n",
       "      <td>Apec Mandala Wyndham Mũi Né đánh dấu bước đầu ...</td>\n",
       "      <td>Apec Group và thương hiệu bất động sản mang tí...</td>\n",
       "      <td>Cần biết</td>\n",
       "    </tr>\n",
       "    <tr>\n",
       "      <th>...</th>\n",
       "      <td>...</td>\n",
       "      <td>...</td>\n",
       "      <td>...</td>\n",
       "      <td>...</td>\n",
       "      <td>...</td>\n",
       "    </tr>\n",
       "    <tr>\n",
       "      <th>229</th>\n",
       "      <td>https://tuoitre.vn/vuong-quoc-anh-ghi-nhan-hon...</td>\n",
       "      <td>Vương quốc Anh ghi nhận hơn 1.000 người chết m...</td>\n",
       "      <td>TTO - Vương quốc Anh ngày 6-1 ghi nhận thêm 1....</td>\n",
       "      <td>Theo hãng tin Reuters, trong ngày 6-1, Vương q...</td>\n",
       "      <td>Sức khỏe</td>\n",
       "    </tr>\n",
       "    <tr>\n",
       "      <th>304</th>\n",
       "      <td>https://tuoitre.vn/wall-street-journal-bac-kin...</td>\n",
       "      <td>Wall Street Journal: Bắc Kinh ép Jack Ma chia ...</td>\n",
       "      <td>TTO - Chính quyền Trung Quốc đang cố gắng buộc...</td>\n",
       "      <td>Báo Wall Street Journal nhận định Jack Ma có r...</td>\n",
       "      <td>Kinh doanh</td>\n",
       "    </tr>\n",
       "    <tr>\n",
       "      <th>251</th>\n",
       "      <td>https://tuoitre.vn/wall-street-journal-bac-kin...</td>\n",
       "      <td>Wall Street Journal: Bắc Kinh ép Jack Ma chia ...</td>\n",
       "      <td>TTO - Chính quyền Trung Quốc đang cố gắng buộc...</td>\n",
       "      <td>Báo Wall Street Journal nhận định Jack Ma có r...</td>\n",
       "      <td>Kinh doanh</td>\n",
       "    </tr>\n",
       "    <tr>\n",
       "      <th>286</th>\n",
       "      <td>https://tuoitre.vn/xu-phat-3-nguoi-75-trieu-do...</td>\n",
       "      <td>Xử phạt 3 người 75 triệu đồng vì khai thác kho...</td>\n",
       "      <td>TTO - Chủ đất và hai người tham gia lấy phần c...</td>\n",
       "      <td>Ngày 6-1, Công an tỉnh Trà Vinh tống đạt các q...</td>\n",
       "      <td>Pháp luật</td>\n",
       "    </tr>\n",
       "    <tr>\n",
       "      <th>233</th>\n",
       "      <td>https://tuoitre.vn/xu-phat-3-nguoi-75-trieu-do...</td>\n",
       "      <td>Xử phạt 3 người 75 triệu đồng vì khai thác kho...</td>\n",
       "      <td>TTO - Chủ đất và hai người tham gia lấy phần c...</td>\n",
       "      <td>Ngày 6-1, Công an tỉnh Trà Vinh tống đạt các q...</td>\n",
       "      <td>Pháp luật</td>\n",
       "    </tr>\n",
       "  </tbody>\n",
       "</table>\n",
       "<p>132 rows × 5 columns</p>\n",
       "</div>"
      ],
      "text/plain": [
       "                                                   links  \\\n",
       "48880  /dang-sai-lech-vu-dong-tam-facebooker-chuong-m...   \n",
       "48879  /dang-sai-lech-vu-dong-tam-facebooker-chuong-m...   \n",
       "307    https://tuoitre.vn/1-ca-covid-19-moi-phat-hien...   \n",
       "254    https://tuoitre.vn/1-ca-covid-19-moi-phat-hien...   \n",
       "179    https://tuoitre.vn/affordable-luxury-dong-san-...   \n",
       "...                                                  ...   \n",
       "229    https://tuoitre.vn/vuong-quoc-anh-ghi-nhan-hon...   \n",
       "304    https://tuoitre.vn/wall-street-journal-bac-kin...   \n",
       "251    https://tuoitre.vn/wall-street-journal-bac-kin...   \n",
       "286    https://tuoitre.vn/xu-phat-3-nguoi-75-trieu-do...   \n",
       "233    https://tuoitre.vn/xu-phat-3-nguoi-75-trieu-do...   \n",
       "\n",
       "                                                   title  \\\n",
       "48880  Đăng sai lệch vụ Đồng Tâm, Facebooker ‘Chương ...   \n",
       "48879  Đăng sai lệch vụ Đồng Tâm, Facebooker ‘Chương ...   \n",
       "307    1 ca COVID-19 mới, phát hiện sau 3 lần xét ngh...   \n",
       "254    1 ca COVID-19 mới, phát hiện sau 3 lần xét ngh...   \n",
       "179    'Affordable luxury' - dòng sản phẩm đột phá về...   \n",
       "...                                                  ...   \n",
       "229    Vương quốc Anh ghi nhận hơn 1.000 người chết m...   \n",
       "304    Wall Street Journal: Bắc Kinh ép Jack Ma chia ...   \n",
       "251    Wall Street Journal: Bắc Kinh ép Jack Ma chia ...   \n",
       "286    Xử phạt 3 người 75 triệu đồng vì khai thác kho...   \n",
       "233    Xử phạt 3 người 75 triệu đồng vì khai thác kho...   \n",
       "\n",
       "                                             description  \\\n",
       "48880  TTO - Ngày 20-1, Cơ quan cảnh sát điều tra Côn...   \n",
       "48879  TTO - Ngày 20-1, Cơ quan cảnh sát điều tra Côn...   \n",
       "307    TTO - Sau nhiều ngày số mắc mới khá cao và dồn...   \n",
       "254    TTO - Sau nhiều ngày số mắc mới khá cao và dồn...   \n",
       "179    Apec Mandala Wyndham Mũi Né đánh dấu bước đầu ...   \n",
       "...                                                  ...   \n",
       "229    TTO - Vương quốc Anh ngày 6-1 ghi nhận thêm 1....   \n",
       "304    TTO - Chính quyền Trung Quốc đang cố gắng buộc...   \n",
       "251    TTO - Chính quyền Trung Quốc đang cố gắng buộc...   \n",
       "286    TTO - Chủ đất và hai người tham gia lấy phần c...   \n",
       "233    TTO - Chủ đất và hai người tham gia lấy phần c...   \n",
       "\n",
       "                                                 content       class  \n",
       "48880  Facebooker \"Chương May Mắn\" tên thật là Chung ...   Pháp luật  \n",
       "48879  Facebooker \"Chương May Mắn\" tên thật là Chung ...   Pháp luật  \n",
       "307    Theo Bộ Y tế, 1 ca mắc mới ngày 6-1 là ca nhập...    Sức khỏe  \n",
       "254    Theo Bộ Y tế, 1 ca mắc mới ngày 6-1 là ca nhập...    Sức khỏe  \n",
       "179    Apec Group và thương hiệu bất động sản mang tí...    Cần biết  \n",
       "...                                                  ...         ...  \n",
       "229    Theo hãng tin Reuters, trong ngày 6-1, Vương q...    Sức khỏe  \n",
       "304    Báo Wall Street Journal nhận định Jack Ma có r...  Kinh doanh  \n",
       "251    Báo Wall Street Journal nhận định Jack Ma có r...  Kinh doanh  \n",
       "286    Ngày 6-1, Công an tỉnh Trà Vinh tống đạt các q...   Pháp luật  \n",
       "233    Ngày 6-1, Công an tỉnh Trà Vinh tống đạt các q...   Pháp luật  \n",
       "\n",
       "[132 rows x 5 columns]"
      ]
     },
     "execution_count": 13,
     "metadata": {},
     "output_type": "execute_result"
    }
   ],
   "source": [
    "data_df[data_df.duplicated(keep=False)].sort_values(by=['links'])"
   ]
  },
  {
   "cell_type": "markdown",
   "metadata": {},
   "source": [
    "Các dữ liệu trùng có index cách nhau không quá lớn. Như vậy rất có thể xuất hiện dữ liệu trùng là do trang web cập nhật bài báo mới, làm dữ liệu trong lúc thu thập bị đẩy xuống gây trùng lắp."
   ]
  },
  {
   "cell_type": "markdown",
   "metadata": {},
   "source": [
    "### Kiểm tra dữ liệu thiếu"
   ]
  },
  {
   "cell_type": "code",
   "execution_count": 14,
   "metadata": {},
   "outputs": [
    {
     "data": {
      "text/plain": [
       "links            0\n",
       "title          244\n",
       "description    292\n",
       "content        908\n",
       "class            0\n",
       "dtype: int64"
      ]
     },
     "execution_count": 14,
     "metadata": {},
     "output_type": "execute_result"
    }
   ],
   "source": [
    "data_df.isna().sum()"
   ]
  },
  {
   "cell_type": "code",
   "execution_count": 15,
   "metadata": {},
   "outputs": [
    {
     "data": {
      "text/html": [
       "<div>\n",
       "<style scoped>\n",
       "    .dataframe tbody tr th:only-of-type {\n",
       "        vertical-align: middle;\n",
       "    }\n",
       "\n",
       "    .dataframe tbody tr th {\n",
       "        vertical-align: top;\n",
       "    }\n",
       "\n",
       "    .dataframe thead th {\n",
       "        text-align: right;\n",
       "    }\n",
       "</style>\n",
       "<table border=\"1\" class=\"dataframe\">\n",
       "  <thead>\n",
       "    <tr style=\"text-align: right;\">\n",
       "      <th></th>\n",
       "      <th>links</th>\n",
       "      <th>title</th>\n",
       "      <th>description</th>\n",
       "      <th>content</th>\n",
       "      <th>class</th>\n",
       "    </tr>\n",
       "  </thead>\n",
       "  <tbody>\n",
       "    <tr>\n",
       "      <th>29</th>\n",
       "      <td>https://tuoitre.vn/lang-kinh-24g-xe-du-ben-coc...</td>\n",
       "      <td>Lăng kính 24h: 'Xe dù, bến cóc' - vấn nạn nhiề...</td>\n",
       "      <td>NaN</td>\n",
       "      <td>NaN</td>\n",
       "      <td>Cần biết</td>\n",
       "    </tr>\n",
       "    <tr>\n",
       "      <th>123</th>\n",
       "      <td>https://tuoitre.vn/doc-bao-cung-ban-8-1-viet-n...</td>\n",
       "      <td>Đọc báo cùng bạn 8-1: Việt Nam sẽ có vắc xin d...</td>\n",
       "      <td>TTO - Chương trình hôm nay có nhiều thông tin ...</td>\n",
       "      <td>NaN</td>\n",
       "      <td>Bạn đọc làm báo</td>\n",
       "    </tr>\n",
       "    <tr>\n",
       "      <th>129</th>\n",
       "      <td>https://tuoitre.vn/video-daisuke-matsui-the-hi...</td>\n",
       "      <td>Video Daisuke Matsui thể hiện đẳng cấp ngay lầ...</td>\n",
       "      <td>NaN</td>\n",
       "      <td>NaN</td>\n",
       "      <td>Thể thao</td>\n",
       "    </tr>\n",
       "    <tr>\n",
       "      <th>137</th>\n",
       "      <td>https://tuoitre.vn/duoc-hlv-huynh-duc-kem-chat...</td>\n",
       "      <td>Được HLV Huỳnh Đức 'kèm chặt', Đức Chinh liền ...</td>\n",
       "      <td>TTO - Chiều 7-1, tiền đạo Hà Đức Chinh đã gây ...</td>\n",
       "      <td>NaN</td>\n",
       "      <td>Thể thao</td>\n",
       "    </tr>\n",
       "    <tr>\n",
       "      <th>166</th>\n",
       "      <td>https://tuoitre.vn/lang-kinh-24g-doi-no-thue-h...</td>\n",
       "      <td>Lăng kính 24g: Đòi nợ thuê 'hết đất' lộng hành</td>\n",
       "      <td>NaN</td>\n",
       "      <td>NaN</td>\n",
       "      <td>Cần biết</td>\n",
       "    </tr>\n",
       "  </tbody>\n",
       "</table>\n",
       "</div>"
      ],
      "text/plain": [
       "                                                 links  \\\n",
       "29   https://tuoitre.vn/lang-kinh-24g-xe-du-ben-coc...   \n",
       "123  https://tuoitre.vn/doc-bao-cung-ban-8-1-viet-n...   \n",
       "129  https://tuoitre.vn/video-daisuke-matsui-the-hi...   \n",
       "137  https://tuoitre.vn/duoc-hlv-huynh-duc-kem-chat...   \n",
       "166  https://tuoitre.vn/lang-kinh-24g-doi-no-thue-h...   \n",
       "\n",
       "                                                 title  \\\n",
       "29   Lăng kính 24h: 'Xe dù, bến cóc' - vấn nạn nhiề...   \n",
       "123  Đọc báo cùng bạn 8-1: Việt Nam sẽ có vắc xin d...   \n",
       "129  Video Daisuke Matsui thể hiện đẳng cấp ngay lầ...   \n",
       "137  Được HLV Huỳnh Đức 'kèm chặt', Đức Chinh liền ...   \n",
       "166     Lăng kính 24g: Đòi nợ thuê 'hết đất' lộng hành   \n",
       "\n",
       "                                           description content  \\\n",
       "29                                                 NaN     NaN   \n",
       "123  TTO - Chương trình hôm nay có nhiều thông tin ...     NaN   \n",
       "129                                                NaN     NaN   \n",
       "137  TTO - Chiều 7-1, tiền đạo Hà Đức Chinh đã gây ...     NaN   \n",
       "166                                                NaN     NaN   \n",
       "\n",
       "               class  \n",
       "29          Cần biết  \n",
       "123  Bạn đọc làm báo  \n",
       "129         Thể thao  \n",
       "137         Thể thao  \n",
       "166         Cần biết  "
      ]
     },
     "execution_count": 15,
     "metadata": {},
     "output_type": "execute_result"
    }
   ],
   "source": [
    "data_df[data_df.isna().any(axis=1)].head()"
   ]
  },
  {
   "cell_type": "markdown",
   "metadata": {},
   "source": [
    "Dữ liệu có vẻ bị thiếu ngẫu nhiên ở mỗi thuộc tính. Tuy nhiên thuộc tính *Content* bị thiếu nhiều nhất trong khi đây cũng là thuộc tính quan trọng nhất. Do vậy, hướng tiền xử lý các dữ liệu bị thiếu là loại bỏ tất cả các dòng có dữ liệu bị thiếu."
   ]
  },
  {
   "cell_type": "markdown",
   "metadata": {},
   "source": [
    "---\n",
    "## 3. Tiền xử lý bước đầu"
   ]
  },
  {
   "cell_type": "markdown",
   "metadata": {},
   "source": [
    "Trong phần tìm hiểu sau sẽ cần các thông tin tổng quá về toàn bộ dữ liệu. Để tiện lợi, nhóm sẽ tiền xử lý trước trên toàn bộ dữ liệu."
   ]
  },
  {
   "cell_type": "markdown",
   "metadata": {},
   "source": [
    "### Thử nghiệm xóa dữ liệu thiếu và trùng trước trên dữ liệu hiện tại"
   ]
  },
  {
   "cell_type": "code",
   "execution_count": 16,
   "metadata": {},
   "outputs": [
    {
     "data": {
      "text/html": [
       "<div>\n",
       "<style scoped>\n",
       "    .dataframe tbody tr th:only-of-type {\n",
       "        vertical-align: middle;\n",
       "    }\n",
       "\n",
       "    .dataframe tbody tr th {\n",
       "        vertical-align: top;\n",
       "    }\n",
       "\n",
       "    .dataframe thead th {\n",
       "        text-align: right;\n",
       "    }\n",
       "</style>\n",
       "<table border=\"1\" class=\"dataframe\">\n",
       "  <thead>\n",
       "    <tr style=\"text-align: right;\">\n",
       "      <th></th>\n",
       "      <th>links</th>\n",
       "      <th>title</th>\n",
       "      <th>description</th>\n",
       "      <th>content</th>\n",
       "      <th>class</th>\n",
       "    </tr>\n",
       "  </thead>\n",
       "  <tbody>\n",
       "    <tr>\n",
       "      <th>0</th>\n",
       "      <td>https://tuoitre.vn/tong-thong-trump-xac-nhan-k...</td>\n",
       "      <td>Tổng thống Trump xác nhận không dự lễ nhậm chứ...</td>\n",
       "      <td>TTO - Tổng thống Mỹ Donald Trump đăng tweet ch...</td>\n",
       "      <td>Sau khi đưa ra cam kết sẽ đảm bảo chuyển giao ...</td>\n",
       "      <td>Thế giới</td>\n",
       "    </tr>\n",
       "    <tr>\n",
       "      <th>1</th>\n",
       "      <td>https://tuoitre.vn/dat-nuoc-dat-niem-tin-vao-n...</td>\n",
       "      <td>Đất nước đặt niềm tin vào những học sinh xuất sắc</td>\n",
       "      <td>TT0 - Tối 8-1, Thủ tướng Chính phủ Nguyễn Xuân...</td>\n",
       "      <td>Chia sẻ tại buổi lễ, Thủ tướng Nguyễn Xuân Phú...</td>\n",
       "      <td>Giáo dục</td>\n",
       "    </tr>\n",
       "    <tr>\n",
       "      <th>2</th>\n",
       "      <td>https://tuoitre.vn/luat-su-my-phan-bien-ong-tr...</td>\n",
       "      <td>Luật sư Mỹ phản biện: Ông Trump đâu có kêu ngư...</td>\n",
       "      <td>TTO - Trên chương trình Bill Hemmer Reports củ...</td>\n",
       "      <td>Ngày 6-1, tình trạng bạo lực đã xảy ra tại tòa...</td>\n",
       "      <td>Thế giới</td>\n",
       "    </tr>\n",
       "    <tr>\n",
       "      <th>3</th>\n",
       "      <td>https://tuoitre.vn/thanh-pho-phu-quoc-se-phat-...</td>\n",
       "      <td>Thành phố Phú Quốc sẽ phát triển dựa trên 4 tr...</td>\n",
       "      <td>TTO - Tối 8-1 tại phường An Thới, chính quyền ...</td>\n",
       "      <td>Phát biểu tại buổi lễ công bố thành lập TP Phú...</td>\n",
       "      <td>Thời sự</td>\n",
       "    </tr>\n",
       "    <tr>\n",
       "      <th>4</th>\n",
       "      <td>https://tuoitre.vn/ong-trump-nguoi-ung-ho-toi-...</td>\n",
       "      <td>Ông Trump: Người ủng hộ tôi 'sẽ có tiếng nói t...</td>\n",
       "      <td>TTO - Trong nội dung đăng trên Twitter sau gần...</td>\n",
       "      <td>\"75 triệu người Mỹ yêu nước vĩ đại đã bầu cho ...</td>\n",
       "      <td>Thế giới</td>\n",
       "    </tr>\n",
       "    <tr>\n",
       "      <th>...</th>\n",
       "      <td>...</td>\n",
       "      <td>...</td>\n",
       "      <td>...</td>\n",
       "      <td>...</td>\n",
       "      <td>...</td>\n",
       "    </tr>\n",
       "    <tr>\n",
       "      <th>51995</th>\n",
       "      <td>/tham-sat-o-thai-nguyen-nghi-pham-thua-nhan-nh...</td>\n",
       "      <td>Thảm sát ở Thái Nguyên: Nghi phạm thừa nhận nh...</td>\n",
       "      <td>TTO - Tại cơ quan công an, bước đầu nghi phạm ...</td>\n",
       "      <td>Sau khi truy bắt Hoàng Văn Chín - nghi phạm gâ...</td>\n",
       "      <td>Pháp luật</td>\n",
       "    </tr>\n",
       "    <tr>\n",
       "      <th>51996</th>\n",
       "      <td>/mobifone-dat-loi-nhuan-hon-6-000-ty-dong-tron...</td>\n",
       "      <td>MobiFone đạt lợi nhuận hơn 6.000 tỉ đồng trong...</td>\n",
       "      <td>TTO – Mức lợi nhuận trước thuế của MobiFone ướ...</td>\n",
       "      <td>Ngày 26-12, MobiFone công bố kết thúc năm 2019...</td>\n",
       "      <td>Kinh doanh</td>\n",
       "    </tr>\n",
       "    <tr>\n",
       "      <th>51997</th>\n",
       "      <td>/chuan-bi-co-le-hoi-hoa-anh-dao-tai-tp-hcm-201...</td>\n",
       "      <td>Chuẩn bị có lễ hội hoa anh đào tại TP.HCM</td>\n",
       "      <td>TTO - Làm việc với đoàn giám sát của HĐND TP.H...</td>\n",
       "      <td>Ngày 26-12, Đoàn công tác của HĐND TP.HCM đã c...</td>\n",
       "      <td>Du Lịch</td>\n",
       "    </tr>\n",
       "    <tr>\n",
       "      <th>51998</th>\n",
       "      <td>/xet-xu-vu-nu-sinh-giao-ga-bui-van-cong-lien-t...</td>\n",
       "      <td>Xét xử vụ nữ sinh giao gà: Bùi Văn Công liên t...</td>\n",
       "      <td>TTO - Được gọi lên xét hỏi, bị cáo Bùi Văn Côn...</td>\n",
       "      <td>Chiều 26-12, phiên tòa xét xử 9 bị cáo bắt cóc...</td>\n",
       "      <td>Pháp luật</td>\n",
       "    </tr>\n",
       "    <tr>\n",
       "      <th>51999</th>\n",
       "      <td>/san-khau-chuong-trinh-don-nam-moi-o-hue-bi-ph...</td>\n",
       "      <td>Sân khấu chương trình đón năm mới ở Huế bị phả...</td>\n",
       "      <td>TTO - Dư luận ở Huế đang có nhiều phản ứng trá...</td>\n",
       "      <td>Chiều 26-11, tin từ Chi cục II.6 (Cục Quản lý...</td>\n",
       "      <td>Thời sự</td>\n",
       "    </tr>\n",
       "  </tbody>\n",
       "</table>\n",
       "<p>51030 rows × 5 columns</p>\n",
       "</div>"
      ],
      "text/plain": [
       "                                                   links  \\\n",
       "0      https://tuoitre.vn/tong-thong-trump-xac-nhan-k...   \n",
       "1      https://tuoitre.vn/dat-nuoc-dat-niem-tin-vao-n...   \n",
       "2      https://tuoitre.vn/luat-su-my-phan-bien-ong-tr...   \n",
       "3      https://tuoitre.vn/thanh-pho-phu-quoc-se-phat-...   \n",
       "4      https://tuoitre.vn/ong-trump-nguoi-ung-ho-toi-...   \n",
       "...                                                  ...   \n",
       "51995  /tham-sat-o-thai-nguyen-nghi-pham-thua-nhan-nh...   \n",
       "51996  /mobifone-dat-loi-nhuan-hon-6-000-ty-dong-tron...   \n",
       "51997  /chuan-bi-co-le-hoi-hoa-anh-dao-tai-tp-hcm-201...   \n",
       "51998  /xet-xu-vu-nu-sinh-giao-ga-bui-van-cong-lien-t...   \n",
       "51999  /san-khau-chuong-trinh-don-nam-moi-o-hue-bi-ph...   \n",
       "\n",
       "                                                   title  \\\n",
       "0      Tổng thống Trump xác nhận không dự lễ nhậm chứ...   \n",
       "1      Đất nước đặt niềm tin vào những học sinh xuất sắc   \n",
       "2      Luật sư Mỹ phản biện: Ông Trump đâu có kêu ngư...   \n",
       "3      Thành phố Phú Quốc sẽ phát triển dựa trên 4 tr...   \n",
       "4      Ông Trump: Người ủng hộ tôi 'sẽ có tiếng nói t...   \n",
       "...                                                  ...   \n",
       "51995  Thảm sát ở Thái Nguyên: Nghi phạm thừa nhận nh...   \n",
       "51996  MobiFone đạt lợi nhuận hơn 6.000 tỉ đồng trong...   \n",
       "51997          Chuẩn bị có lễ hội hoa anh đào tại TP.HCM   \n",
       "51998  Xét xử vụ nữ sinh giao gà: Bùi Văn Công liên t...   \n",
       "51999  Sân khấu chương trình đón năm mới ở Huế bị phả...   \n",
       "\n",
       "                                             description  \\\n",
       "0      TTO - Tổng thống Mỹ Donald Trump đăng tweet ch...   \n",
       "1      TT0 - Tối 8-1, Thủ tướng Chính phủ Nguyễn Xuân...   \n",
       "2      TTO - Trên chương trình Bill Hemmer Reports củ...   \n",
       "3      TTO - Tối 8-1 tại phường An Thới, chính quyền ...   \n",
       "4      TTO - Trong nội dung đăng trên Twitter sau gần...   \n",
       "...                                                  ...   \n",
       "51995  TTO - Tại cơ quan công an, bước đầu nghi phạm ...   \n",
       "51996  TTO – Mức lợi nhuận trước thuế của MobiFone ướ...   \n",
       "51997  TTO - Làm việc với đoàn giám sát của HĐND TP.H...   \n",
       "51998  TTO - Được gọi lên xét hỏi, bị cáo Bùi Văn Côn...   \n",
       "51999  TTO - Dư luận ở Huế đang có nhiều phản ứng trá...   \n",
       "\n",
       "                                                 content       class  \n",
       "0      Sau khi đưa ra cam kết sẽ đảm bảo chuyển giao ...    Thế giới  \n",
       "1      Chia sẻ tại buổi lễ, Thủ tướng Nguyễn Xuân Phú...    Giáo dục  \n",
       "2      Ngày 6-1, tình trạng bạo lực đã xảy ra tại tòa...    Thế giới  \n",
       "3      Phát biểu tại buổi lễ công bố thành lập TP Phú...     Thời sự  \n",
       "4      \"75 triệu người Mỹ yêu nước vĩ đại đã bầu cho ...    Thế giới  \n",
       "...                                                  ...         ...  \n",
       "51995  Sau khi truy bắt Hoàng Văn Chín - nghi phạm gâ...   Pháp luật  \n",
       "51996  Ngày 26-12, MobiFone công bố kết thúc năm 2019...  Kinh doanh  \n",
       "51997  Ngày 26-12, Đoàn công tác của HĐND TP.HCM đã c...     Du Lịch  \n",
       "51998  Chiều 26-12, phiên tòa xét xử 9 bị cáo bắt cóc...   Pháp luật  \n",
       "51999   Chiều 26-11, tin từ Chi cục II.6 (Cục Quản lý...     Thời sự  \n",
       "\n",
       "[51030 rows x 5 columns]"
      ]
     },
     "execution_count": 16,
     "metadata": {},
     "output_type": "execute_result"
    }
   ],
   "source": [
    "data_df.drop_duplicates(inplace=True)\n",
    "data_df.dropna(axis=0, how=\"any\", inplace=True)\n",
    "data_df"
   ]
  },
  {
   "cell_type": "markdown",
   "metadata": {},
   "source": [
    "### Chuẩn hóa unicode"
   ]
  },
  {
   "cell_type": "markdown",
   "metadata": {},
   "source": [
    "(nguồn: https://fontviet.com/khac-biet-giua-unicode-to-hop-va-unicode-dung-san/)\n",
    "<blockquote>\n",
    "    Trong Unicode, ký tự tổ hợp còn có thể được tổ hợp từ những thành phần nhỏ hơn như ký tự ASCII, ký tự dấu nguyên âm và ký tự dấu thanh.<br><br>\n",
    "    Ví dụ để hiển thị chữ ễ gồm có 2 cách:<br>\n",
    "    - Kết hợp ê + dấu   ̃ (tổ hợp là phương pháp cũ)<br>\n",
    "    - Dựng sẵn ễ trong bản chữ unicode (dựng sẵn)\n",
    "</blockquote>"
   ]
  },
  {
   "cell_type": "code",
   "execution_count": 17,
   "metadata": {},
   "outputs": [],
   "source": [
    "# Đưa toàn bộ dữ liệu qua hàm này để chuẩn hóa lại\n",
    "def covert_unicode(txt):\n",
    "    if (type(txt) is not str):\n",
    "        return txt\n",
    "    return unicodedata.normalize('NFC', txt)"
   ]
  },
  {
   "cell_type": "markdown",
   "metadata": {},
   "source": [
    "### Chuẩn hóa dấu tiếng việt\n",
    "(nguồn: https://gist.github.com/nguyenvanhieuvn/72ccf3ddf7d179b281fdae6c0b84942b)\n",
    "<blockquote>\n",
    "Kiểu gõ dấu khác nhau thì bạn nhìn mắt thường cũng sẽ thấy được sự khác nhau: òa với oà lần lượt là kiểu gõ cũ (phổ biến hơn) và kiểu gõ mới. Chi tiết về vấn đề này bạn có thể tham khảo tại Wikipedia.\n",
    "</blockquote>"
   ]
  },
  {
   "cell_type": "code",
   "execution_count": 18,
   "metadata": {},
   "outputs": [],
   "source": [
    "bang_nguyen_am = [['a', 'à', 'á', 'ả', 'ã', 'ạ', 'a'],\n",
    "                  ['ă', 'ằ', 'ắ', 'ẳ', 'ẵ', 'ặ', 'aw'],\n",
    "                  ['â', 'ầ', 'ấ', 'ẩ', 'ẫ', 'ậ', 'aa'],\n",
    "                  ['e', 'è', 'é', 'ẻ', 'ẽ', 'ẹ', 'e'],\n",
    "                  ['ê', 'ề', 'ế', 'ể', 'ễ', 'ệ', 'ee'],\n",
    "                  ['i', 'ì', 'í', 'ỉ', 'ĩ', 'ị', 'i'],\n",
    "                  ['o', 'ò', 'ó', 'ỏ', 'õ', 'ọ', 'o'],\n",
    "                  ['ô', 'ồ', 'ố', 'ổ', 'ỗ', 'ộ', 'oo'],\n",
    "                  ['ơ', 'ờ', 'ớ', 'ở', 'ỡ', 'ợ', 'ow'],\n",
    "                  ['u', 'ù', 'ú', 'ủ', 'ũ', 'ụ', 'u'],\n",
    "                  ['ư', 'ừ', 'ứ', 'ử', 'ữ', 'ự', 'uw'],\n",
    "                  ['y', 'ỳ', 'ý', 'ỷ', 'ỹ', 'ỵ', 'y']]\n",
    "bang_ky_tu_dau = ['', 'f', 's', 'r', 'x', 'j']\n",
    "\n",
    "nguyen_am_to_ids = {}\n",
    "\n",
    "for i in range(len(bang_nguyen_am)):\n",
    "    for j in range(len(bang_nguyen_am[i]) - 1):\n",
    "        nguyen_am_to_ids[bang_nguyen_am[i][j]] = (i, j)\n",
    "\n",
    "def chuan_hoa_dau_tu_tieng_viet(word):\n",
    "    if not is_valid_vietnam_word(word):\n",
    "        return word\n",
    "\n",
    "    chars = list(word)\n",
    "    dau_cau = 0\n",
    "    nguyen_am_index = []\n",
    "    qu_or_gi = False\n",
    "    \n",
    "    # Tách dấu ra khỏi từ và lưu lại vị trí nguyên âm\n",
    "    for index, char in enumerate(chars):\n",
    "        x, y = nguyen_am_to_ids.get(char, (-1, -1))\n",
    "        if x == -1: # Phụ âm thì bỏ qua\n",
    "            continue\n",
    "        elif x == 9:  # check qu\n",
    "            if index != 0 and chars[index - 1] == 'q':\n",
    "                chars[index] = 'u'\n",
    "                qu_or_gi = True\n",
    "        elif x == 5:  # check gi\n",
    "            if index != 0 and chars[index - 1] == 'g':\n",
    "                chars[index] = 'i'\n",
    "                qu_or_gi = True\n",
    "                \n",
    "        if y != 0: # Nếu có dấu\n",
    "            dau_cau = y\n",
    "            chars[index] = bang_nguyen_am[x][0]\n",
    "        if not qu_or_gi or index != 1:\n",
    "            nguyen_am_index.append(index)\n",
    "            \n",
    "    if len(nguyen_am_index) < 2:\n",
    "        if qu_or_gi:\n",
    "            # Trường hợp chữ \"gì\"\n",
    "            if len(chars) == 2:\n",
    "                x, y = nguyen_am_to_ids.get(chars[1])\n",
    "                chars[1] = bang_nguyen_am[x][dau_cau]\n",
    "            else:\n",
    "                x, y = nguyen_am_to_ids.get(chars[2], (-1, -1))\n",
    "                if x != -1:\n",
    "                    chars[2] = bang_nguyen_am[x][dau_cau]\n",
    "                else:\n",
    "                    chars[1] = bang_nguyen_am[5][dau_cau] if chars[1] == 'i' else bang_nguyen_am[9][dau_cau]\n",
    "            return ''.join(chars)\n",
    "        return word\n",
    "\n",
    "    for index in nguyen_am_index:\n",
    "        x, y = nguyen_am_to_ids[chars[index]]\n",
    "        if x == 4 or x == 8:  # ê, ơ\n",
    "            chars[index] = bang_nguyen_am[x][dau_cau]\n",
    "            return ''.join(chars)\n",
    "\n",
    "    if len(nguyen_am_index) == 2:\n",
    "        if nguyen_am_index[-1] == len(chars) - 1:\n",
    "            x, y = nguyen_am_to_ids[chars[nguyen_am_index[0]]]\n",
    "            chars[nguyen_am_index[0]] = bang_nguyen_am[x][dau_cau]\n",
    "        else:\n",
    "            x, y = nguyen_am_to_ids[chars[nguyen_am_index[1]]]\n",
    "            chars[nguyen_am_index[1]] = bang_nguyen_am[x][dau_cau]\n",
    "    else:\n",
    "        x, y = nguyen_am_to_ids[chars[nguyen_am_index[1]]]\n",
    "    return ''.join(chars)\n",
    "\n",
    "\n",
    "def is_valid_vietnam_word(word):\n",
    "    # Từ hợp lệ là từ không có phụ âm bị kẹp giữa nguyên âm\n",
    "    chars = list(word)\n",
    "    nguyen_am_index = -1\n",
    "    for index, char in enumerate(chars):\n",
    "        x, _ = nguyen_am_to_ids.get(char, (-1, -1))\n",
    "        if x != -1:\n",
    "            if nguyen_am_index == -1:\n",
    "                nguyen_am_index = index\n",
    "            else:\n",
    "                if (index - nguyen_am_index) != 1:\n",
    "                    return False\n",
    "                nguyen_am_index = index\n",
    "    return True\n",
    "\n",
    "\n",
    "def chuan_hoa_dau_cau_tieng_viet(sentence):\n",
    "    \"\"\"\n",
    "    Chuyển câu tiếng việt về chuẩn gõ dấu kiểu cũ.\n",
    "    :param sentence:\n",
    "    :return:\n",
    "    \"\"\"\n",
    "    if (type(sentence) is not str):\n",
    "        return sentence\n",
    "    \n",
    "    words = sentence.split()\n",
    "    for index, word in enumerate(words):\n",
    "        # Tách chữ có dính dấu ngăn cách câu để chuẩn hóa\n",
    "        cw = re.sub(r'(^\\p{P}*)([\\p{L}.]*\\p{L}+)(\\p{P}*$)', r'\\1/\\2/\\3', word).split('/')\n",
    "        # print(cw)\n",
    "        # Chuẩn hóa nếu chữ không có vấn đề (thường fail khi chưa tách thành công các từ)\n",
    "        if len(cw) == 3:\n",
    "            cw[1] = chuan_hoa_dau_tu_tieng_viet(cw[1])\n",
    "            words[index] = ''.join(cw)\n",
    "    return ' '.join(words)"
   ]
  },
  {
   "cell_type": "markdown",
   "metadata": {},
   "source": [
    "### Đoạn code thực hiện xóa và chuẩn hóa hàng loạt trên toàn dữ liệu"
   ]
  },
  {
   "cell_type": "code",
   "execution_count": 19,
   "metadata": {},
   "outputs": [],
   "source": [
    "def batch_prepreprocess():\n",
    "    total_files = 218\n",
    "    text_attrs = [\"title\",\"description\",\"content\",\"class\"]\n",
    "    prev_df = None\n",
    "    \n",
    "    for index in tqdm(range(total_files)):\n",
    "        df=pd.read_csv(f'src/scraped_data/crawling_{index}.csv')\n",
    "        # Xóa dòng thiếu\n",
    "        df.dropna(axis=0, how=\"any\", inplace=True)\n",
    "        # Xóa dòng trùng\n",
    "        df.drop_duplicates(inplace=True)\n",
    "        # Xóa dòng trùng với file trước\n",
    "        if (prev_df is not None):\n",
    "            df = df.merge(prev_df, how='outer', indicator=True).loc[lambda x : x['_merge'] == 'left_only']\n",
    "            df.drop(['_merge'],axis=1,inplace=True)\n",
    "        # Chuẩn hóa unicode và dấu\n",
    "        for attr in text_attrs:\n",
    "            df[attr]=df[attr].apply(covert_unicode)\n",
    "            df[attr]=df[attr].str.lower()\n",
    "            df[attr]=df[attr].apply(chuan_hoa_dau_cau_tieng_viet)\n",
    "        df.to_csv(f'src/scraped_data/crawling_{index}.csv', index=False)\n",
    "        prev_df = df\n",
    "        \n",
    "    print(\"done.\")"
   ]
  },
  {
   "cell_type": "code",
   "execution_count": 20,
   "metadata": {},
   "outputs": [],
   "source": [
    "#batch_prepreprocess()"
   ]
  },
  {
   "cell_type": "markdown",
   "metadata": {},
   "source": [
    "## 4. Tiếp tục khám phá"
   ]
  },
  {
   "cell_type": "markdown",
   "metadata": {},
   "source": [
    "Trong phần này nhóm sẽ thực hiện thống kê trên toàn bộ dữ liệu, cụ thể là thống kê tổng số phân lớp của dữ liệu."
   ]
  },
  {
   "cell_type": "markdown",
   "metadata": {},
   "source": [
    "### Đoạn code thực hiện thống kê trên toàn dữ liệu"
   ]
  },
  {
   "cell_type": "code",
   "execution_count": 21,
   "metadata": {},
   "outputs": [],
   "source": [
    "dir_4 = \"src/scraped_data/\""
   ]
  },
  {
   "cell_type": "code",
   "execution_count": 22,
   "metadata": {},
   "outputs": [
    {
     "data": {
      "application/vnd.jupyter.widget-view+json": {
       "model_id": "f6b2c862b27541688d73f762c69abd37",
       "version_major": 2,
       "version_minor": 0
      },
      "text/plain": [
       "HBox(children=(FloatProgress(value=0.0, max=218.0), HTML(value='')))"
      ]
     },
     "metadata": {},
     "output_type": "display_data"
    },
    {
     "name": "stdout",
     "output_type": "stream",
     "text": [
      "\n"
     ]
    }
   ],
   "source": [
    "# Đọc từng file và cộng dồn vào series\n",
    "class_stat = pd.Series(dtype='int64')\n",
    "for i in tqdm(range(218)):\n",
    "    df = pd.read_csv(dir_4 + f'crawling_{i}.csv')\n",
    "    class_stat = class_stat.add(df['class'].value_counts(), fill_value=0)\n",
    "\n",
    "# Sort lại và chuyển về int\n",
    "class_stat = class_stat.sort_values(ascending=False).astype('int64')"
   ]
  },
  {
   "cell_type": "code",
   "execution_count": 23,
   "metadata": {},
   "outputs": [],
   "source": [
    "# Lưu ra file để tiện xem\n",
    "class_stat.to_csv(dir_4 + \"class_statistic.csv\",encoding=\"utf-8\", header=False)"
   ]
  },
  {
   "cell_type": "markdown",
   "metadata": {},
   "source": [
    "### Thông kê phân lớp của toàn dữ liệu"
   ]
  },
  {
   "cell_type": "code",
   "execution_count": 24,
   "metadata": {},
   "outputs": [
    {
     "data": {
      "text/html": [
       "<div>\n",
       "<style scoped>\n",
       "    .dataframe tbody tr th:only-of-type {\n",
       "        vertical-align: middle;\n",
       "    }\n",
       "\n",
       "    .dataframe tbody tr th {\n",
       "        vertical-align: top;\n",
       "    }\n",
       "\n",
       "    .dataframe thead th {\n",
       "        text-align: right;\n",
       "    }\n",
       "</style>\n",
       "<table border=\"1\" class=\"dataframe\">\n",
       "  <thead>\n",
       "    <tr style=\"text-align: right;\">\n",
       "      <th></th>\n",
       "      <th>class</th>\n",
       "      <th>count</th>\n",
       "    </tr>\n",
       "  </thead>\n",
       "  <tbody>\n",
       "    <tr>\n",
       "      <th>0</th>\n",
       "      <td>xã hội</td>\n",
       "      <td>107988</td>\n",
       "    </tr>\n",
       "    <tr>\n",
       "      <th>1</th>\n",
       "      <td>thế giới</td>\n",
       "      <td>78925</td>\n",
       "    </tr>\n",
       "    <tr>\n",
       "      <th>2</th>\n",
       "      <td>thể thao</td>\n",
       "      <td>69875</td>\n",
       "    </tr>\n",
       "    <tr>\n",
       "      <th>3</th>\n",
       "      <td>kinh doanh</td>\n",
       "      <td>53261</td>\n",
       "    </tr>\n",
       "    <tr>\n",
       "      <th>4</th>\n",
       "      <td>văn hóa</td>\n",
       "      <td>43199</td>\n",
       "    </tr>\n",
       "    <tr>\n",
       "      <th>...</th>\n",
       "      <td>...</td>\n",
       "      <td>...</td>\n",
       "    </tr>\n",
       "    <tr>\n",
       "      <th>123</th>\n",
       "      <td>kết nối</td>\n",
       "      <td>2</td>\n",
       "    </tr>\n",
       "    <tr>\n",
       "      <th>124</th>\n",
       "      <td>tầm nhìn</td>\n",
       "      <td>2</td>\n",
       "    </tr>\n",
       "    <tr>\n",
       "      <th>125</th>\n",
       "      <td>khám phá</td>\n",
       "      <td>2</td>\n",
       "    </tr>\n",
       "    <tr>\n",
       "      <th>126</th>\n",
       "      <td>chuyện thành phố</td>\n",
       "      <td>1</td>\n",
       "    </tr>\n",
       "    <tr>\n",
       "      <th>127</th>\n",
       "      <td>cuộc thi viết</td>\n",
       "      <td>1</td>\n",
       "    </tr>\n",
       "  </tbody>\n",
       "</table>\n",
       "<p>128 rows × 2 columns</p>\n",
       "</div>"
      ],
      "text/plain": [
       "                class   count\n",
       "0              xã hội  107988\n",
       "1            thế giới   78925\n",
       "2            thể thao   69875\n",
       "3          kinh doanh   53261\n",
       "4             văn hóa   43199\n",
       "..                ...     ...\n",
       "123           kết nối       2\n",
       "124          tầm nhìn       2\n",
       "125          khám phá       2\n",
       "126  chuyện thành phố       1\n",
       "127     cuộc thi viết       1\n",
       "\n",
       "[128 rows x 2 columns]"
      ]
     },
     "execution_count": 24,
     "metadata": {},
     "output_type": "execute_result"
    }
   ],
   "source": [
    "class_stat = pd.read_csv(dir_4 + \"class_statistic.csv\", header=None)\n",
    "class_stat.columns = [\"class\", \"count\"]\n",
    "class_stat"
   ]
  },
  {
   "cell_type": "markdown",
   "metadata": {},
   "source": [
    "Có thể thấy ở đây xuất hiện rất nhiều phân lớp (127 lớp), trong đó có khoảng 15 lớp có dưới 100 mẫu. Trong các lớp này xuất hiện một số lớp có chủ đề không rõ ràng (chẳng hạn như *\"tầm nhìn\"*) hay lớp có chủ đề không phù hợp với mục đích của nhóm (*\"cuộc thi viết\"*).\n",
    "\n",
    "Nhóm quyết định sẽ loại bỏ toàn bộ phân lớp có dưới 500 mẫu. Sau đó sẽ tiến hành điều tra các phân lớp không phù hợp và đưa ra hướng giải quyết (loại bỏ hoặc chuyển phân lớp sang phân lớp khác phù hợp hơn).\n",
    "\n",
    "Mục tiêu của nhóm sau khi điều tra là giảm được số phân lớp xuống trong khoảng 10-15 lớp."
   ]
  },
  {
   "cell_type": "code",
   "execution_count": 25,
   "metadata": {},
   "outputs": [
    {
     "data": {
      "text/html": [
       "<div>\n",
       "<style scoped>\n",
       "    .dataframe tbody tr th:only-of-type {\n",
       "        vertical-align: middle;\n",
       "    }\n",
       "\n",
       "    .dataframe tbody tr th {\n",
       "        vertical-align: top;\n",
       "    }\n",
       "\n",
       "    .dataframe thead th {\n",
       "        text-align: right;\n",
       "    }\n",
       "</style>\n",
       "<table border=\"1\" class=\"dataframe\">\n",
       "  <thead>\n",
       "    <tr style=\"text-align: right;\">\n",
       "      <th></th>\n",
       "      <th>class</th>\n",
       "      <th>count</th>\n",
       "    </tr>\n",
       "  </thead>\n",
       "  <tbody>\n",
       "    <tr>\n",
       "      <th>0</th>\n",
       "      <td>xã hội</td>\n",
       "      <td>107988</td>\n",
       "    </tr>\n",
       "    <tr>\n",
       "      <th>1</th>\n",
       "      <td>thế giới</td>\n",
       "      <td>78925</td>\n",
       "    </tr>\n",
       "    <tr>\n",
       "      <th>2</th>\n",
       "      <td>thể thao</td>\n",
       "      <td>69875</td>\n",
       "    </tr>\n",
       "    <tr>\n",
       "      <th>3</th>\n",
       "      <td>kinh doanh</td>\n",
       "      <td>53261</td>\n",
       "    </tr>\n",
       "    <tr>\n",
       "      <th>4</th>\n",
       "      <td>văn hóa</td>\n",
       "      <td>43199</td>\n",
       "    </tr>\n",
       "    <tr>\n",
       "      <th>5</th>\n",
       "      <td>nhịp sống trẻ</td>\n",
       "      <td>40813</td>\n",
       "    </tr>\n",
       "    <tr>\n",
       "      <th>6</th>\n",
       "      <td>pháp luật</td>\n",
       "      <td>38785</td>\n",
       "    </tr>\n",
       "    <tr>\n",
       "      <th>7</th>\n",
       "      <td>sức khỏe</td>\n",
       "      <td>30409</td>\n",
       "    </tr>\n",
       "    <tr>\n",
       "      <th>8</th>\n",
       "      <td>giáo dục</td>\n",
       "      <td>28048</td>\n",
       "    </tr>\n",
       "    <tr>\n",
       "      <th>9</th>\n",
       "      <td>cần biết</td>\n",
       "      <td>25922</td>\n",
       "    </tr>\n",
       "    <tr>\n",
       "      <th>10</th>\n",
       "      <td>thời sự</td>\n",
       "      <td>24749</td>\n",
       "    </tr>\n",
       "    <tr>\n",
       "      <th>11</th>\n",
       "      <td>bạn đọc làm báo</td>\n",
       "      <td>22581</td>\n",
       "    </tr>\n",
       "    <tr>\n",
       "      <th>12</th>\n",
       "      <td>nhịp sống số</td>\n",
       "      <td>17914</td>\n",
       "    </tr>\n",
       "    <tr>\n",
       "      <th>13</th>\n",
       "      <td>tuyển sinh</td>\n",
       "      <td>13173</td>\n",
       "    </tr>\n",
       "    <tr>\n",
       "      <th>14</th>\n",
       "      <td>du lịch</td>\n",
       "      <td>12447</td>\n",
       "    </tr>\n",
       "    <tr>\n",
       "      <th>15</th>\n",
       "      <td>phóng sự</td>\n",
       "      <td>10072</td>\n",
       "    </tr>\n",
       "    <tr>\n",
       "      <th>16</th>\n",
       "      <td>nhà đất</td>\n",
       "      <td>9349</td>\n",
       "    </tr>\n",
       "    <tr>\n",
       "      <th>17</th>\n",
       "      <td>yêu</td>\n",
       "      <td>8922</td>\n",
       "    </tr>\n",
       "    <tr>\n",
       "      <th>18</th>\n",
       "      <td>điện ảnh</td>\n",
       "      <td>8262</td>\n",
       "    </tr>\n",
       "    <tr>\n",
       "      <th>19</th>\n",
       "      <td>tài chính</td>\n",
       "      <td>7544</td>\n",
       "    </tr>\n",
       "    <tr>\n",
       "      <th>20</th>\n",
       "      <td>âm nhạc</td>\n",
       "      <td>6822</td>\n",
       "    </tr>\n",
       "    <tr>\n",
       "      <th>21</th>\n",
       "      <td>tuôi trẻ cuôi tuần</td>\n",
       "      <td>6142</td>\n",
       "    </tr>\n",
       "    <tr>\n",
       "      <th>22</th>\n",
       "      <td>khoa học</td>\n",
       "      <td>6078</td>\n",
       "    </tr>\n",
       "    <tr>\n",
       "      <th>23</th>\n",
       "      <td>bình luận</td>\n",
       "      <td>5970</td>\n",
       "    </tr>\n",
       "    <tr>\n",
       "      <th>24</th>\n",
       "      <td>giải trí</td>\n",
       "      <td>5936</td>\n",
       "    </tr>\n",
       "    <tr>\n",
       "      <th>25</th>\n",
       "      <td>muôn màu</td>\n",
       "      <td>3989</td>\n",
       "    </tr>\n",
       "    <tr>\n",
       "      <th>26</th>\n",
       "      <td>tv show</td>\n",
       "      <td>3698</td>\n",
       "    </tr>\n",
       "    <tr>\n",
       "      <th>27</th>\n",
       "      <td>phản hồi</td>\n",
       "      <td>3446</td>\n",
       "    </tr>\n",
       "    <tr>\n",
       "      <th>28</th>\n",
       "      <td>công nghệ</td>\n",
       "      <td>2911</td>\n",
       "    </tr>\n",
       "    <tr>\n",
       "      <th>29</th>\n",
       "      <td>xe</td>\n",
       "      <td>2823</td>\n",
       "    </tr>\n",
       "    <tr>\n",
       "      <th>30</th>\n",
       "      <td>phòng mạch</td>\n",
       "      <td>2401</td>\n",
       "    </tr>\n",
       "    <tr>\n",
       "      <th>31</th>\n",
       "      <td>ăn gì</td>\n",
       "      <td>2286</td>\n",
       "    </tr>\n",
       "    <tr>\n",
       "      <th>32</th>\n",
       "      <td>doanh nghiệp</td>\n",
       "      <td>2222</td>\n",
       "    </tr>\n",
       "    <tr>\n",
       "      <th>33</th>\n",
       "      <td>thủ thuật</td>\n",
       "      <td>1935</td>\n",
       "    </tr>\n",
       "    <tr>\n",
       "      <th>34</th>\n",
       "      <td>biết để khỏe</td>\n",
       "      <td>1917</td>\n",
       "    </tr>\n",
       "    <tr>\n",
       "      <th>35</th>\n",
       "      <td>học đường</td>\n",
       "      <td>1851</td>\n",
       "    </tr>\n",
       "    <tr>\n",
       "      <th>36</th>\n",
       "      <td>thư giãn</td>\n",
       "      <td>1709</td>\n",
       "    </tr>\n",
       "    <tr>\n",
       "      <th>37</th>\n",
       "      <td>thời trang</td>\n",
       "      <td>1605</td>\n",
       "    </tr>\n",
       "    <tr>\n",
       "      <th>38</th>\n",
       "      <td>kiều bào</td>\n",
       "      <td>1462</td>\n",
       "    </tr>\n",
       "    <tr>\n",
       "      <th>39</th>\n",
       "      <td>văn hóa - giải trí</td>\n",
       "      <td>1343</td>\n",
       "    </tr>\n",
       "    <tr>\n",
       "      <th>40</th>\n",
       "      <td>smarthome</td>\n",
       "      <td>1290</td>\n",
       "    </tr>\n",
       "    <tr>\n",
       "      <th>41</th>\n",
       "      <td>giả - thật</td>\n",
       "      <td>1172</td>\n",
       "    </tr>\n",
       "    <tr>\n",
       "      <th>42</th>\n",
       "      <td>đời sống</td>\n",
       "      <td>843</td>\n",
       "    </tr>\n",
       "    <tr>\n",
       "      <th>43</th>\n",
       "      <td>đi chơi</td>\n",
       "      <td>761</td>\n",
       "    </tr>\n",
       "    <tr>\n",
       "      <th>44</th>\n",
       "      <td>mách bạn</td>\n",
       "      <td>760</td>\n",
       "    </tr>\n",
       "    <tr>\n",
       "      <th>45</th>\n",
       "      <td>đường dây nóng</td>\n",
       "      <td>705</td>\n",
       "    </tr>\n",
       "    <tr>\n",
       "      <th>46</th>\n",
       "      <td>mẹ &amp; bé</td>\n",
       "      <td>699</td>\n",
       "    </tr>\n",
       "    <tr>\n",
       "      <th>47</th>\n",
       "      <td>vấn đề - sự kiện</td>\n",
       "      <td>696</td>\n",
       "    </tr>\n",
       "    <tr>\n",
       "      <th>48</th>\n",
       "      <td>câu chuyện giáo dục</td>\n",
       "      <td>601</td>\n",
       "    </tr>\n",
       "    <tr>\n",
       "      <th>49</th>\n",
       "      <td>tư vấn</td>\n",
       "      <td>600</td>\n",
       "    </tr>\n",
       "    <tr>\n",
       "      <th>50</th>\n",
       "      <td>hồ sơ</td>\n",
       "      <td>549</td>\n",
       "    </tr>\n",
       "    <tr>\n",
       "      <th>51</th>\n",
       "      <td>thời sự quốc tế</td>\n",
       "      <td>536</td>\n",
       "    </tr>\n",
       "    <tr>\n",
       "      <th>52</th>\n",
       "      <td>chuyên đề</td>\n",
       "      <td>535</td>\n",
       "    </tr>\n",
       "  </tbody>\n",
       "</table>\n",
       "</div>"
      ],
      "text/plain": [
       "                  class   count\n",
       "0                xã hội  107988\n",
       "1              thế giới   78925\n",
       "2              thể thao   69875\n",
       "3            kinh doanh   53261\n",
       "4               văn hóa   43199\n",
       "5         nhịp sống trẻ   40813\n",
       "6             pháp luật   38785\n",
       "7              sức khỏe   30409\n",
       "8              giáo dục   28048\n",
       "9              cần biết   25922\n",
       "10              thời sự   24749\n",
       "11      bạn đọc làm báo   22581\n",
       "12         nhịp sống số   17914\n",
       "13           tuyển sinh   13173\n",
       "14              du lịch   12447\n",
       "15             phóng sự   10072\n",
       "16              nhà đất    9349\n",
       "17                  yêu    8922\n",
       "18             điện ảnh    8262\n",
       "19            tài chính    7544\n",
       "20              âm nhạc    6822\n",
       "21   tuôi trẻ cuôi tuần    6142\n",
       "22             khoa học    6078\n",
       "23            bình luận    5970\n",
       "24             giải trí    5936\n",
       "25             muôn màu    3989\n",
       "26              tv show    3698\n",
       "27             phản hồi    3446\n",
       "28            công nghệ    2911\n",
       "29                   xe    2823\n",
       "30           phòng mạch    2401\n",
       "31                ăn gì    2286\n",
       "32         doanh nghiệp    2222\n",
       "33            thủ thuật    1935\n",
       "34         biết để khỏe    1917\n",
       "35            học đường    1851\n",
       "36             thư giãn    1709\n",
       "37           thời trang    1605\n",
       "38             kiều bào    1462\n",
       "39   văn hóa - giải trí    1343\n",
       "40            smarthome    1290\n",
       "41           giả - thật    1172\n",
       "42             đời sống     843\n",
       "43              đi chơi     761\n",
       "44             mách bạn     760\n",
       "45       đường dây nóng     705\n",
       "46              mẹ & bé     699\n",
       "47     vấn đề - sự kiện     696\n",
       "48  câu chuyện giáo dục     601\n",
       "49               tư vấn     600\n",
       "50                hồ sơ     549\n",
       "51      thời sự quốc tế     536\n",
       "52            chuyên đề     535"
      ]
     },
     "metadata": {},
     "output_type": "display_data"
    }
   ],
   "source": [
    "# Phân lớp có số mẫu lớn hơn 500\n",
    "with pd.option_context('display.max_rows', 1000, 'display.max_columns', 2):\n",
    "    display(class_stat[class_stat['count'] > 500])"
   ]
  },
  {
   "cell_type": "markdown",
   "metadata": {},
   "source": [
    "### Điều tra phân lớp"
   ]
  },
  {
   "cell_type": "markdown",
   "metadata": {},
   "source": [
    "Các phân lớp sau sẽ nằm trong diện điều tra của nhóm:\n",
    "\n",
    "Phân lớp trùng lắp:\n",
    "- thế giới, thời sự quốc tế\n",
    "- xã hội, thời sự, phóng sự\n",
    "- du lịch, đi chơi\n",
    "- kinh doanh, tài chính, doanh nghiệp\n",
    "- âm nhạc, giải trí, điện ảnh, tv show, văn hóa - giải trí\n",
    "- nhịp sống số, khoa học, công nghệ, smarthome\n",
    "- sức khỏe, phòng mạch, ăn gì, biết để khỏe\n",
    "- giáo dục, tuyển sinh, học đường, câu chuyện giáo dục\n",
    "    \n",
    "Phân lớp không rõ ràng hoặc không phù hợp mục đích:\n",
    "\n",
    "| | | |\n",
    "| :- | :- | :- |\n",
    "| nhịp sống trẻ | cần biết | bạn đọc làm báo |\n",
    "| tuôi trẻ cuôi tuần | bình luận | muôn màu |\n",
    "| phản hồi | thủ thuật | thư giãn |\n",
    "| kiều bào | giả - thật | đời sống |\n",
    "| mách bạn | đường dây nóng | mẹ & bé |\n",
    "| vấn đề - sự kiện | tư vấn | hồ sơ |\n",
    "| chuyên đề |"
   ]
  },
  {
   "cell_type": "markdown",
   "metadata": {},
   "source": [
    "### Xử lý các phân lớp trùng lắp"
   ]
  },
  {
   "cell_type": "markdown",
   "metadata": {},
   "source": [
    "Sau khi kiểm tra, nhóm thấy các phân lớp đã liệt kê bên trên có nội dung tương tự nhau nên sẽ gom chung lại như sau:\n",
    "- thế giới, thời sự quốc tế -> thời sự quốc tế.\n",
    "- xã hội, thời sự, phóng sự -> thời sự trong nước.\n",
    "- du lịch, đi chơi ->  du lịch.\n",
    "- kinh doanh, tài chính, doanh nghiệp -> kinh doanh.\n",
    "- âm nhạc, giải trí, tv show, điện ảnh -> giải trí.\n",
    "- nhịp sống số, công nghệ -> công nghệ.\n",
    "- nhà đất, smarthome -> nhà đất (ban đầu nhóm nghĩ smarthome thuộc về công nghệ nhưng khi điều tra thì không phải).\n",
    "- sức khỏe, phòng mạch, biết để khỏe -> sức khỏe.\n",
    "- giáo dục, tuyển sinh, học đường, câu chuyện giáo dục -> giáo dục.\n",
    "\n",
    "Một số lớp sau không được gom nhóm ở bên trên:\n",
    "- Lớp *văn hóa - giải trí* khó phân định giữa *văn hóa* hay *giải trí*, tuy nhiên do số lượng mẫu chỉ khoảng 1300, nhóm quyết định loại bỏ.\n",
    "- Lớp *khoa học* chứa thông tin liên quan đến các ngành khoa học khác như sinh học, hóa học,... trong khi *nhịp sống số* và *công nghệ* chủ yếu chứ tin liên quan tới công nghệ thông tin. Nhóm quyết định tách lớp *khoa học* riêng với nhóm trên.\n",
    "- Lớp *ăn gì* nhóm thấy phù hợp làm một nhóm mới hơn nên quyết định giữ lại làm lớp riêng."
   ]
  },
  {
   "cell_type": "code",
   "execution_count": 26,
   "metadata": {},
   "outputs": [
    {
     "data": {
      "application/vnd.jupyter.widget-view+json": {
       "model_id": "eb73ed7420e3413fa719da58f3d1e91d",
       "version_major": 2,
       "version_minor": 0
      },
      "text/plain": [
       "HBox(children=(FloatProgress(value=0.0, max=218.0), HTML(value='')))"
      ]
     },
     "metadata": {},
     "output_type": "display_data"
    },
    {
     "name": "stdout",
     "output_type": "stream",
     "text": [
      "\n"
     ]
    }
   ],
   "source": [
    "# Đọc lấy dữ liệu riêng của những lớp được đề cập\n",
    "selected_class = [\"văn hóa - giải trí\", \"khoa học\", \"ăn gì\"]\n",
    "repeative_df = pd.DataFrame()\n",
    "\n",
    "for i in tqdm(range(218)):\n",
    "    df = pd.read_csv(dir_4 + f'crawling_{i}.csv')\n",
    "    repeative_df = pd.concat([repeative_df, df[df['class'].isin(selected_class)]], ignore_index=True)"
   ]
  },
  {
   "cell_type": "code",
   "execution_count": 27,
   "metadata": {},
   "outputs": [
    {
     "data": {
      "text/html": [
       "<div>\n",
       "<style scoped>\n",
       "    .dataframe tbody tr th:only-of-type {\n",
       "        vertical-align: middle;\n",
       "    }\n",
       "\n",
       "    .dataframe tbody tr th {\n",
       "        vertical-align: top;\n",
       "    }\n",
       "\n",
       "    .dataframe thead th {\n",
       "        text-align: right;\n",
       "    }\n",
       "</style>\n",
       "<table border=\"1\" class=\"dataframe\">\n",
       "  <thead>\n",
       "    <tr style=\"text-align: right;\">\n",
       "      <th></th>\n",
       "      <th>links</th>\n",
       "      <th>title</th>\n",
       "      <th>description</th>\n",
       "      <th>content</th>\n",
       "      <th>class</th>\n",
       "    </tr>\n",
       "  </thead>\n",
       "  <tbody>\n",
       "    <tr>\n",
       "      <th>2083</th>\n",
       "      <td>https://tuoitre.vn/da-toi-luc-can-cac-chi-dan-...</td>\n",
       "      <td>đã tới lúc cần các chỉ dẫn đạo đức nghề nghiệp</td>\n",
       "      <td>ttct - sau những ồn ào tranh cãi liên quan tới...</td>\n",
       "      <td>chúng ta hãy bắt đầu từ việc quan sát nhiếp ản...</td>\n",
       "      <td>văn hóa - giải trí</td>\n",
       "    </tr>\n",
       "    <tr>\n",
       "      <th>2087</th>\n",
       "      <td>https://tuoitre.vn/ky-3-goc-khuat-trong-su-kie...</td>\n",
       "      <td>kỳ 3: góc khuất trong sự kiện sáng lập thương ...</td>\n",
       "      <td>ttct- trong quá trình tạo lập của thương hội h...</td>\n",
       "      <td>nguồn tư liệu về lịch sử thương hội không nhiề...</td>\n",
       "      <td>văn hóa - giải trí</td>\n",
       "    </tr>\n",
       "    <tr>\n",
       "      <th>2107</th>\n",
       "      <td>https://tuoitre.vn/ky-2-thuong-hoi-trung-hoa-d...</td>\n",
       "      <td>kỳ 2: thương hội trung hoa đầu tiên ở sài gòn ...</td>\n",
       "      <td>ttct - hội thương mại của người hoa ở chợ lớn ...</td>\n",
       "      <td>sách này chép “miếu quan đế do hội thương mại ...</td>\n",
       "      <td>văn hóa - giải trí</td>\n",
       "    </tr>\n",
       "    <tr>\n",
       "      <th>2161</th>\n",
       "      <td>https://tuoitre.vn/ai-noi-chuyen-kho-noi-14884...</td>\n",
       "      <td>ai nói chuyện khó nói?</td>\n",
       "      <td>ttct - khi đạo diễn rayka zehtabchi bước lên s...</td>\n",
       "      <td>nhưng cô muốn nói cho thật rõ với khán giả vì ...</td>\n",
       "      <td>văn hóa - giải trí</td>\n",
       "    </tr>\n",
       "    <tr>\n",
       "      <th>2168</th>\n",
       "      <td>https://tuoitre.vn/oscar-2019-nhung-nguoi-la-c...</td>\n",
       "      <td>oscar 2019: những người lạ chiếm chỗ</td>\n",
       "      <td>ttct - oscar - giải thưởng điện ảnh thường niê...</td>\n",
       "      <td>trong 24 hạng mục chính thức của giải oscar hằ...</td>\n",
       "      <td>văn hóa - giải trí</td>\n",
       "    </tr>\n",
       "    <tr>\n",
       "      <th>...</th>\n",
       "      <td>...</td>\n",
       "      <td>...</td>\n",
       "      <td>...</td>\n",
       "      <td>...</td>\n",
       "      <td>...</td>\n",
       "    </tr>\n",
       "    <tr>\n",
       "      <th>9701</th>\n",
       "      <td>https://tuoitre.vn/jimmy-wayne-am-nhac-tu-chin...</td>\n",
       "      <td>jimmy wayne: âm nhạc từ chính nỗi bất hạnh</td>\n",
       "      <td>ttcn (tp.hcm) - 30 tuôi, được xem là tài năng ...</td>\n",
       "      <td>ca sĩ kiêm nhạc sĩ sáng tác jimmy wayne đã man...</td>\n",
       "      <td>văn hóa - giải trí</td>\n",
       "    </tr>\n",
       "    <tr>\n",
       "      <th>9702</th>\n",
       "      <td>https://tuoitre.vn/khai-hoan-mon-o-cac-nuoc-60...</td>\n",
       "      <td>khải hoàn môn ở các nước</td>\n",
       "      <td>ttcn - việc xây khải hoàn môn (khm) bắt nguồn ...</td>\n",
       "      <td>khm thứ nhất là titus được xây dựng để tôn vin...</td>\n",
       "      <td>văn hóa - giải trí</td>\n",
       "    </tr>\n",
       "    <tr>\n",
       "      <th>9704</th>\n",
       "      <td>https://tuoitre.vn/phat-hanh-phim-qua-internet...</td>\n",
       "      <td>phát hành phim qua internet</td>\n",
       "      <td>ttcn - trong dịp cuôi tuần này, lần đầu tiên m...</td>\n",
       "      <td>phim nói về spike và heaton, kẻ cô đơn có tính...</td>\n",
       "      <td>văn hóa - giải trí</td>\n",
       "    </tr>\n",
       "    <tr>\n",
       "      <th>9705</th>\n",
       "      <td>https://tuoitre.vn/nhiem-sa-pa-594.htm</td>\n",
       "      <td>nhiệm \"sa pa \"</td>\n",
       "      <td>ttcn - nhiệm yêu những khoảnh khắc như chợt có...</td>\n",
       "      <td>có ai đó nói rằng để chụp ảnh một ngọn núi khô...</td>\n",
       "      <td>văn hóa - giải trí</td>\n",
       "    </tr>\n",
       "    <tr>\n",
       "      <th>9706</th>\n",
       "      <td>https://tuoitre.vn/thoi-luu-dien-595.htm</td>\n",
       "      <td>thời lưu diễn</td>\n",
       "      <td>ttcn (tp.hcm) - ngay sau chuyến đi của đoàn ng...</td>\n",
       "      <td>giữa thập niên 1990, những chuyến xuất ngoai b...</td>\n",
       "      <td>văn hóa - giải trí</td>\n",
       "    </tr>\n",
       "  </tbody>\n",
       "</table>\n",
       "<p>1343 rows × 5 columns</p>\n",
       "</div>"
      ],
      "text/plain": [
       "                                                  links  \\\n",
       "2083  https://tuoitre.vn/da-toi-luc-can-cac-chi-dan-...   \n",
       "2087  https://tuoitre.vn/ky-3-goc-khuat-trong-su-kie...   \n",
       "2107  https://tuoitre.vn/ky-2-thuong-hoi-trung-hoa-d...   \n",
       "2161  https://tuoitre.vn/ai-noi-chuyen-kho-noi-14884...   \n",
       "2168  https://tuoitre.vn/oscar-2019-nhung-nguoi-la-c...   \n",
       "...                                                 ...   \n",
       "9701  https://tuoitre.vn/jimmy-wayne-am-nhac-tu-chin...   \n",
       "9702  https://tuoitre.vn/khai-hoan-mon-o-cac-nuoc-60...   \n",
       "9704  https://tuoitre.vn/phat-hanh-phim-qua-internet...   \n",
       "9705             https://tuoitre.vn/nhiem-sa-pa-594.htm   \n",
       "9706           https://tuoitre.vn/thoi-luu-dien-595.htm   \n",
       "\n",
       "                                                  title  \\\n",
       "2083     đã tới lúc cần các chỉ dẫn đạo đức nghề nghiệp   \n",
       "2087  kỳ 3: góc khuất trong sự kiện sáng lập thương ...   \n",
       "2107  kỳ 2: thương hội trung hoa đầu tiên ở sài gòn ...   \n",
       "2161                             ai nói chuyện khó nói?   \n",
       "2168               oscar 2019: những người lạ chiếm chỗ   \n",
       "...                                                 ...   \n",
       "9701         jimmy wayne: âm nhạc từ chính nỗi bất hạnh   \n",
       "9702                           khải hoàn môn ở các nước   \n",
       "9704                        phát hành phim qua internet   \n",
       "9705                                     nhiệm \"sa pa \"   \n",
       "9706                                      thời lưu diễn   \n",
       "\n",
       "                                            description  \\\n",
       "2083  ttct - sau những ồn ào tranh cãi liên quan tới...   \n",
       "2087  ttct- trong quá trình tạo lập của thương hội h...   \n",
       "2107  ttct - hội thương mại của người hoa ở chợ lớn ...   \n",
       "2161  ttct - khi đạo diễn rayka zehtabchi bước lên s...   \n",
       "2168  ttct - oscar - giải thưởng điện ảnh thường niê...   \n",
       "...                                                 ...   \n",
       "9701  ttcn (tp.hcm) - 30 tuôi, được xem là tài năng ...   \n",
       "9702  ttcn - việc xây khải hoàn môn (khm) bắt nguồn ...   \n",
       "9704  ttcn - trong dịp cuôi tuần này, lần đầu tiên m...   \n",
       "9705  ttcn - nhiệm yêu những khoảnh khắc như chợt có...   \n",
       "9706  ttcn (tp.hcm) - ngay sau chuyến đi của đoàn ng...   \n",
       "\n",
       "                                                content               class  \n",
       "2083  chúng ta hãy bắt đầu từ việc quan sát nhiếp ản...  văn hóa - giải trí  \n",
       "2087  nguồn tư liệu về lịch sử thương hội không nhiề...  văn hóa - giải trí  \n",
       "2107  sách này chép “miếu quan đế do hội thương mại ...  văn hóa - giải trí  \n",
       "2161  nhưng cô muốn nói cho thật rõ với khán giả vì ...  văn hóa - giải trí  \n",
       "2168  trong 24 hạng mục chính thức của giải oscar hằ...  văn hóa - giải trí  \n",
       "...                                                 ...                 ...  \n",
       "9701  ca sĩ kiêm nhạc sĩ sáng tác jimmy wayne đã man...  văn hóa - giải trí  \n",
       "9702  khm thứ nhất là titus được xây dựng để tôn vin...  văn hóa - giải trí  \n",
       "9704  phim nói về spike và heaton, kẻ cô đơn có tính...  văn hóa - giải trí  \n",
       "9705  có ai đó nói rằng để chụp ảnh một ngọn núi khô...  văn hóa - giải trí  \n",
       "9706  giữa thập niên 1990, những chuyến xuất ngoai b...  văn hóa - giải trí  \n",
       "\n",
       "[1343 rows x 5 columns]"
      ]
     },
     "execution_count": 27,
     "metadata": {},
     "output_type": "execute_result"
    }
   ],
   "source": [
    "repeative_df[repeative_df[\"class\"] == \"văn hóa - giải trí\"]"
   ]
  },
  {
   "cell_type": "code",
   "execution_count": 28,
   "metadata": {},
   "outputs": [
    {
     "data": {
      "text/html": [
       "<div>\n",
       "<style scoped>\n",
       "    .dataframe tbody tr th:only-of-type {\n",
       "        vertical-align: middle;\n",
       "    }\n",
       "\n",
       "    .dataframe tbody tr th {\n",
       "        vertical-align: top;\n",
       "    }\n",
       "\n",
       "    .dataframe thead th {\n",
       "        text-align: right;\n",
       "    }\n",
       "</style>\n",
       "<table border=\"1\" class=\"dataframe\">\n",
       "  <thead>\n",
       "    <tr style=\"text-align: right;\">\n",
       "      <th></th>\n",
       "      <th>links</th>\n",
       "      <th>title</th>\n",
       "      <th>description</th>\n",
       "      <th>content</th>\n",
       "      <th>class</th>\n",
       "    </tr>\n",
       "  </thead>\n",
       "  <tbody>\n",
       "    <tr>\n",
       "      <th>0</th>\n",
       "      <td>https://tuoitre.vn/dung-rau-buom-dem-tao-may-b...</td>\n",
       "      <td>máy bay biết... bay theo mùi</td>\n",
       "      <td>tto - đây được xem là bước ngoặt khi có thể kế...</td>\n",
       "      <td>khứu giác rất quan trọng với những loai bướm đ...</td>\n",
       "      <td>khoa học</td>\n",
       "    </tr>\n",
       "    <tr>\n",
       "      <th>1</th>\n",
       "      <td>https://tuoitre.vn/ret-dam-bao-trum-mien-bac-m...</td>\n",
       "      <td>rét đậm bao trùm miền bắc, miền nam bao giờ tr...</td>\n",
       "      <td>tto - sáng 8-1, đợt không khí lạnh nhất từ đầu...</td>\n",
       "      <td>sáng sớm nay (8-1), không khí lạnh mạnh đã bao...</td>\n",
       "      <td>khoa học</td>\n",
       "    </tr>\n",
       "    <tr>\n",
       "      <th>2</th>\n",
       "      <td>https://tuoitre.vn/ha-giang-cung-xuat-hien-ban...</td>\n",
       "      <td>hà giang cũng xuất hiện băng giá</td>\n",
       "      <td>tto - người dân cho biết sáng nay ở xín cái, h...</td>\n",
       "      <td>lúc 6h sáng nay 8-1, nhiệt độ ở xã xín cái, hu...</td>\n",
       "      <td>khoa học</td>\n",
       "    </tr>\n",
       "    <tr>\n",
       "      <th>3</th>\n",
       "      <td>https://tuoitre.vn/bang-gia-phu-trang-cao-bang...</td>\n",
       "      <td>băng giá phủ trắng cao bằng, lạng sơn</td>\n",
       "      <td>tto - do ảnh hưởng của không khí lạnh, sáng sớ...</td>\n",
       "      <td>theo trung tâm dự báo khí tượng thủy văn quốc ...</td>\n",
       "      <td>khoa học</td>\n",
       "    </tr>\n",
       "    <tr>\n",
       "      <th>4</th>\n",
       "      <td>https://tuoitre.vn/ha-noi-hoa-toc-yeu-cau-ung-...</td>\n",
       "      <td>hà nội hỏa tốc yêu cầu ứng phó ô nhiễm không khí</td>\n",
       "      <td>tto - tp hà nội yêu cầu các sở, ban ngành xây ...</td>\n",
       "      <td>ngày 7-1, ubnd tp hà nội có công văn hỏa tốc g...</td>\n",
       "      <td>khoa học</td>\n",
       "    </tr>\n",
       "    <tr>\n",
       "      <th>...</th>\n",
       "      <td>...</td>\n",
       "      <td>...</td>\n",
       "      <td>...</td>\n",
       "      <td>...</td>\n",
       "      <td>...</td>\n",
       "    </tr>\n",
       "    <tr>\n",
       "      <th>9684</th>\n",
       "      <td>https://tuoitre.vn/thuy-dien-tich-nang---giai-...</td>\n",
       "      <td>thủy điện tích năng - giải pháp mới cho nguồn ...</td>\n",
       "      <td>ttcn - nhu cầu sử dụng điện trong những năm gầ...</td>\n",
       "      <td>khác biệt so với thủy điện thông thườngvới thủ...</td>\n",
       "      <td>khoa học</td>\n",
       "    </tr>\n",
       "    <tr>\n",
       "      <th>9692</th>\n",
       "      <td>https://tuoitre.vn/chu-ky-nhiet-do-thay-doi-th...</td>\n",
       "      <td>chu kỳ nhiệt độ thay đổi theo tuần</td>\n",
       "      <td>tto - các thống kê thời tiết cho thấy mức chên...</td>\n",
       "      <td>hiện tượng thời tiết bất thường này không phải...</td>\n",
       "      <td>khoa học</td>\n",
       "    </tr>\n",
       "    <tr>\n",
       "      <th>9694</th>\n",
       "      <td>https://tuoitre.vn/hiem-hoa-tu-ca-noc-doc-1311...</td>\n",
       "      <td>hiểm họa từ cá nóc độc</td>\n",
       "      <td>ttcn - do những quan niệm sai lầm, thiếu cơ sở...</td>\n",
       "      <td>đúng là thịt cá nóc có thể ăn được, nhưng phải...</td>\n",
       "      <td>khoa học</td>\n",
       "    </tr>\n",
       "    <tr>\n",
       "      <th>9695</th>\n",
       "      <td>https://tuoitre.vn/noi-oan-con-ca-loc-1306.htm</td>\n",
       "      <td>nỗi oan con cá lóc!</td>\n",
       "      <td>ttcn - trong khi ở rất nhiều nơi cá lóc, cá rô...</td>\n",
       "      <td>hiện nay đi về các vùng ngọt hóa có phong trào...</td>\n",
       "      <td>khoa học</td>\n",
       "    </tr>\n",
       "    <tr>\n",
       "      <th>9703</th>\n",
       "      <td>https://tuoitre.vn/hai-bai-toan-cua-cong-nghie...</td>\n",
       "      <td>hai bài toán của công nghiệp phần mềm vn</td>\n",
       "      <td>ttcn – tp.hcm, nơi được xem là “đầu tàu” cả nư...</td>\n",
       "      <td>tuy nhiên, để thu hút được số lượng doanh nghi...</td>\n",
       "      <td>khoa học</td>\n",
       "    </tr>\n",
       "  </tbody>\n",
       "</table>\n",
       "<p>6078 rows × 5 columns</p>\n",
       "</div>"
      ],
      "text/plain": [
       "                                                  links  \\\n",
       "0     https://tuoitre.vn/dung-rau-buom-dem-tao-may-b...   \n",
       "1     https://tuoitre.vn/ret-dam-bao-trum-mien-bac-m...   \n",
       "2     https://tuoitre.vn/ha-giang-cung-xuat-hien-ban...   \n",
       "3     https://tuoitre.vn/bang-gia-phu-trang-cao-bang...   \n",
       "4     https://tuoitre.vn/ha-noi-hoa-toc-yeu-cau-ung-...   \n",
       "...                                                 ...   \n",
       "9684  https://tuoitre.vn/thuy-dien-tich-nang---giai-...   \n",
       "9692  https://tuoitre.vn/chu-ky-nhiet-do-thay-doi-th...   \n",
       "9694  https://tuoitre.vn/hiem-hoa-tu-ca-noc-doc-1311...   \n",
       "9695     https://tuoitre.vn/noi-oan-con-ca-loc-1306.htm   \n",
       "9703  https://tuoitre.vn/hai-bai-toan-cua-cong-nghie...   \n",
       "\n",
       "                                                  title  \\\n",
       "0                          máy bay biết... bay theo mùi   \n",
       "1     rét đậm bao trùm miền bắc, miền nam bao giờ tr...   \n",
       "2                      hà giang cũng xuất hiện băng giá   \n",
       "3                 băng giá phủ trắng cao bằng, lạng sơn   \n",
       "4      hà nội hỏa tốc yêu cầu ứng phó ô nhiễm không khí   \n",
       "...                                                 ...   \n",
       "9684  thủy điện tích năng - giải pháp mới cho nguồn ...   \n",
       "9692                 chu kỳ nhiệt độ thay đổi theo tuần   \n",
       "9694                             hiểm họa từ cá nóc độc   \n",
       "9695                                nỗi oan con cá lóc!   \n",
       "9703           hai bài toán của công nghiệp phần mềm vn   \n",
       "\n",
       "                                            description  \\\n",
       "0     tto - đây được xem là bước ngoặt khi có thể kế...   \n",
       "1     tto - sáng 8-1, đợt không khí lạnh nhất từ đầu...   \n",
       "2     tto - người dân cho biết sáng nay ở xín cái, h...   \n",
       "3     tto - do ảnh hưởng của không khí lạnh, sáng sớ...   \n",
       "4     tto - tp hà nội yêu cầu các sở, ban ngành xây ...   \n",
       "...                                                 ...   \n",
       "9684  ttcn - nhu cầu sử dụng điện trong những năm gầ...   \n",
       "9692  tto - các thống kê thời tiết cho thấy mức chên...   \n",
       "9694  ttcn - do những quan niệm sai lầm, thiếu cơ sở...   \n",
       "9695  ttcn - trong khi ở rất nhiều nơi cá lóc, cá rô...   \n",
       "9703  ttcn – tp.hcm, nơi được xem là “đầu tàu” cả nư...   \n",
       "\n",
       "                                                content     class  \n",
       "0     khứu giác rất quan trọng với những loai bướm đ...  khoa học  \n",
       "1     sáng sớm nay (8-1), không khí lạnh mạnh đã bao...  khoa học  \n",
       "2     lúc 6h sáng nay 8-1, nhiệt độ ở xã xín cái, hu...  khoa học  \n",
       "3     theo trung tâm dự báo khí tượng thủy văn quốc ...  khoa học  \n",
       "4     ngày 7-1, ubnd tp hà nội có công văn hỏa tốc g...  khoa học  \n",
       "...                                                 ...       ...  \n",
       "9684  khác biệt so với thủy điện thông thườngvới thủ...  khoa học  \n",
       "9692  hiện tượng thời tiết bất thường này không phải...  khoa học  \n",
       "9694  đúng là thịt cá nóc có thể ăn được, nhưng phải...  khoa học  \n",
       "9695  hiện nay đi về các vùng ngọt hóa có phong trào...  khoa học  \n",
       "9703  tuy nhiên, để thu hút được số lượng doanh nghi...  khoa học  \n",
       "\n",
       "[6078 rows x 5 columns]"
      ]
     },
     "execution_count": 28,
     "metadata": {},
     "output_type": "execute_result"
    }
   ],
   "source": [
    "repeative_df[repeative_df[\"class\"] == \"khoa học\"]"
   ]
  },
  {
   "cell_type": "code",
   "execution_count": 29,
   "metadata": {},
   "outputs": [
    {
     "data": {
      "text/html": [
       "<div>\n",
       "<style scoped>\n",
       "    .dataframe tbody tr th:only-of-type {\n",
       "        vertical-align: middle;\n",
       "    }\n",
       "\n",
       "    .dataframe tbody tr th {\n",
       "        vertical-align: top;\n",
       "    }\n",
       "\n",
       "    .dataframe thead th {\n",
       "        text-align: right;\n",
       "    }\n",
       "</style>\n",
       "<table border=\"1\" class=\"dataframe\">\n",
       "  <thead>\n",
       "    <tr style=\"text-align: right;\">\n",
       "      <th></th>\n",
       "      <th>links</th>\n",
       "      <th>title</th>\n",
       "      <th>description</th>\n",
       "      <th>content</th>\n",
       "      <th>class</th>\n",
       "    </tr>\n",
       "  </thead>\n",
       "  <tbody>\n",
       "    <tr>\n",
       "      <th>78</th>\n",
       "      <td>https://tuoitre.vn/doc-dao-lua-chon-thit-bo-fu...</td>\n",
       "      <td>độc đáo lựa chọn thịt bò fujifoods làm quà giá...</td>\n",
       "      <td>giáng sinh năm nay, bạn có thể gây ấn tượng vớ...</td>\n",
       "      <td>thịt bò cao cấp, quà tặng sang trọng giáng sin...</td>\n",
       "      <td>ăn gì</td>\n",
       "    </tr>\n",
       "    <tr>\n",
       "      <th>1057</th>\n",
       "      <td>https://tuoitre.vn/ga-nuong-o-o-o-ton-tai-vi-k...</td>\n",
       "      <td>gà nướng ò ó o – tồn tại vì khác biệt, khác bi...</td>\n",
       "      <td>nếu như cách đây 5 năm gà nướng ò ó o chỉ là m...</td>\n",
       "      <td>gà nướng là món ăn quen thuộc và được ưa chuộn...</td>\n",
       "      <td>ăn gì</td>\n",
       "    </tr>\n",
       "    <tr>\n",
       "      <th>1321</th>\n",
       "      <td>https://tuoitre.vn/quan-co-gu-hard-rock-cafe-b...</td>\n",
       "      <td>quán có 'gu' hard rock cafe - bí kíp mở quán g...</td>\n",
       "      <td>kinh doanh nhà hàng khó ở chỗ phải tạo được né...</td>\n",
       "      <td>lợi thế của mô hình có \"gu\"nhà hàng có \"gu\" sẽ...</td>\n",
       "      <td>ăn gì</td>\n",
       "    </tr>\n",
       "    <tr>\n",
       "      <th>2166</th>\n",
       "      <td>https://tuoitre.vn/washoku-van-hoa-am-thuc-gia...</td>\n",
       "      <td>washoku - văn hóa ẩm thực giàu umami</td>\n",
       "      <td>với văn hóa ẩm thực đặc trưng của nhật, washok...</td>\n",
       "      <td>văn hóa ẩm thực đặc trưng của người nhậtsáng t...</td>\n",
       "      <td>ăn gì</td>\n",
       "    </tr>\n",
       "    <tr>\n",
       "      <th>2222</th>\n",
       "      <td>https://tuoitre.vn/umami-tron-vi-ngon-ngay-tet...</td>\n",
       "      <td>umami - tròn vị ngon ngày tết</td>\n",
       "      <td>những món ăn đặc trưng của tết việt sẽ trọn vẹ...</td>\n",
       "      <td>vị umami là gì?là thành viên cở bản thứ năm tr...</td>\n",
       "      <td>ăn gì</td>\n",
       "    </tr>\n",
       "    <tr>\n",
       "      <th>...</th>\n",
       "      <td>...</td>\n",
       "      <td>...</td>\n",
       "      <td>...</td>\n",
       "      <td>...</td>\n",
       "      <td>...</td>\n",
       "    </tr>\n",
       "    <tr>\n",
       "      <th>9512</th>\n",
       "      <td>https://tuoitre.vn/4-mon-don-gian-cho-bua-tiec...</td>\n",
       "      <td>4 món đơn giản cho bữa tiệc đầu năm</td>\n",
       "      <td>ngày tết làm món ăn nào vừa đơn giản, dễ làm m...</td>\n",
       "      <td>dành cho 4 người ănnguyên liệu: -cá điêu hồng ...</td>\n",
       "      <td>ăn gì</td>\n",
       "    </tr>\n",
       "    <tr>\n",
       "      <th>9513</th>\n",
       "      <td>https://tuoitre.vn/lam-mut-mang-cau-66094.htm</td>\n",
       "      <td>làm mứt mãng cầu</td>\n",
       "      <td>mứt mãng cầu tương đối dễ làm, khi ăn có mùi c...</td>\n",
       "      <td>nguyên liệu - mãng cầu dai: 1 trái (1 kg)- đườ...</td>\n",
       "      <td>ăn gì</td>\n",
       "    </tr>\n",
       "    <tr>\n",
       "      <th>9514</th>\n",
       "      <td>https://tuoitre.vn/banh-chung-gac-don-tet-6563...</td>\n",
       "      <td>bánh chưng gấc đón tết</td>\n",
       "      <td>cả xã duyên hà có đến 200-300 hộ, nghề làm bán...</td>\n",
       "      <td>bác khánh, mẹ anh thành cho biết, nhà lúc nào ...</td>\n",
       "      <td>ăn gì</td>\n",
       "    </tr>\n",
       "    <tr>\n",
       "      <th>9515</th>\n",
       "      <td>https://tuoitre.vn/nhung-cach-lau-rua-do-dung-...</td>\n",
       "      <td>những cách lau rửa đồ dùng thủy tinh</td>\n",
       "      <td>cọ rửa đồ dùng thủy tinh không đơn giản nếu nh...</td>\n",
       "      <td>- dụng cụ thủy tinh đắt tiền, có thể dùng bàn ...</td>\n",
       "      <td>ăn gì</td>\n",
       "    </tr>\n",
       "    <tr>\n",
       "      <th>9516</th>\n",
       "      <td>https://tuoitre.vn/mon-la-cho-ngay-tet-65640.htm</td>\n",
       "      <td>món lạ cho ngày tết</td>\n",
       "      <td>nhồi thịt băm vào măng tầm vông nhỏ, ruột rỗng...</td>\n",
       "      <td>nguyên liệu - 500g măng tầm vông loai củ nhỏ, ...</td>\n",
       "      <td>ăn gì</td>\n",
       "    </tr>\n",
       "  </tbody>\n",
       "</table>\n",
       "<p>2286 rows × 5 columns</p>\n",
       "</div>"
      ],
      "text/plain": [
       "                                                  links  \\\n",
       "78    https://tuoitre.vn/doc-dao-lua-chon-thit-bo-fu...   \n",
       "1057  https://tuoitre.vn/ga-nuong-o-o-o-ton-tai-vi-k...   \n",
       "1321  https://tuoitre.vn/quan-co-gu-hard-rock-cafe-b...   \n",
       "2166  https://tuoitre.vn/washoku-van-hoa-am-thuc-gia...   \n",
       "2222  https://tuoitre.vn/umami-tron-vi-ngon-ngay-tet...   \n",
       "...                                                 ...   \n",
       "9512  https://tuoitre.vn/4-mon-don-gian-cho-bua-tiec...   \n",
       "9513      https://tuoitre.vn/lam-mut-mang-cau-66094.htm   \n",
       "9514  https://tuoitre.vn/banh-chung-gac-don-tet-6563...   \n",
       "9515  https://tuoitre.vn/nhung-cach-lau-rua-do-dung-...   \n",
       "9516   https://tuoitre.vn/mon-la-cho-ngay-tet-65640.htm   \n",
       "\n",
       "                                                  title  \\\n",
       "78    độc đáo lựa chọn thịt bò fujifoods làm quà giá...   \n",
       "1057  gà nướng ò ó o – tồn tại vì khác biệt, khác bi...   \n",
       "1321  quán có 'gu' hard rock cafe - bí kíp mở quán g...   \n",
       "2166               washoku - văn hóa ẩm thực giàu umami   \n",
       "2222                      umami - tròn vị ngon ngày tết   \n",
       "...                                                 ...   \n",
       "9512                4 món đơn giản cho bữa tiệc đầu năm   \n",
       "9513                                   làm mứt mãng cầu   \n",
       "9514                             bánh chưng gấc đón tết   \n",
       "9515               những cách lau rửa đồ dùng thủy tinh   \n",
       "9516                                món lạ cho ngày tết   \n",
       "\n",
       "                                            description  \\\n",
       "78    giáng sinh năm nay, bạn có thể gây ấn tượng vớ...   \n",
       "1057  nếu như cách đây 5 năm gà nướng ò ó o chỉ là m...   \n",
       "1321  kinh doanh nhà hàng khó ở chỗ phải tạo được né...   \n",
       "2166  với văn hóa ẩm thực đặc trưng của nhật, washok...   \n",
       "2222  những món ăn đặc trưng của tết việt sẽ trọn vẹ...   \n",
       "...                                                 ...   \n",
       "9512  ngày tết làm món ăn nào vừa đơn giản, dễ làm m...   \n",
       "9513  mứt mãng cầu tương đối dễ làm, khi ăn có mùi c...   \n",
       "9514  cả xã duyên hà có đến 200-300 hộ, nghề làm bán...   \n",
       "9515  cọ rửa đồ dùng thủy tinh không đơn giản nếu nh...   \n",
       "9516  nhồi thịt băm vào măng tầm vông nhỏ, ruột rỗng...   \n",
       "\n",
       "                                                content  class  \n",
       "78    thịt bò cao cấp, quà tặng sang trọng giáng sin...  ăn gì  \n",
       "1057  gà nướng là món ăn quen thuộc và được ưa chuộn...  ăn gì  \n",
       "1321  lợi thế của mô hình có \"gu\"nhà hàng có \"gu\" sẽ...  ăn gì  \n",
       "2166  văn hóa ẩm thực đặc trưng của người nhậtsáng t...  ăn gì  \n",
       "2222  vị umami là gì?là thành viên cở bản thứ năm tr...  ăn gì  \n",
       "...                                                 ...    ...  \n",
       "9512  dành cho 4 người ănnguyên liệu: -cá điêu hồng ...  ăn gì  \n",
       "9513  nguyên liệu - mãng cầu dai: 1 trái (1 kg)- đườ...  ăn gì  \n",
       "9514  bác khánh, mẹ anh thành cho biết, nhà lúc nào ...  ăn gì  \n",
       "9515  - dụng cụ thủy tinh đắt tiền, có thể dùng bàn ...  ăn gì  \n",
       "9516  nguyên liệu - 500g măng tầm vông loai củ nhỏ, ...  ăn gì  \n",
       "\n",
       "[2286 rows x 5 columns]"
      ]
     },
     "execution_count": 29,
     "metadata": {},
     "output_type": "execute_result"
    }
   ],
   "source": [
    "repeative_df[repeative_df[\"class\"] == \"ăn gì\"]"
   ]
  },
  {
   "cell_type": "markdown",
   "metadata": {},
   "source": [
    "### Xử lý các phân lớp không rõ ràng hoặc không phù hợp"
   ]
  },
  {
   "cell_type": "markdown",
   "metadata": {},
   "source": [
    "Hầu hết phân lớp trong danh sách trên đều trộn lẫn các tin của nhiều lớp khác, không rõ ràng. Tuy nhiên do số lượng mẫu không đáng kể nên sẽ loại bỏ đi. Ngoại trừ một số lớp sau:\n",
    "- Lớp *nhịp sống trẻ* chứa thông tin về hoạt động sinh hoạt của sinh viên. Nhóm quyết định sẽ giữ lại.\n",
    "- Lớp *hồ sơ* theo kiểm tra thì chứa hầu hết thông tin về chính trị quốc tế. Nhóm quyết định sẽ gom vào lớp *thời sự quốc tế*."
   ]
  },
  {
   "cell_type": "code",
   "execution_count": 30,
   "metadata": {},
   "outputs": [
    {
     "data": {
      "application/vnd.jupyter.widget-view+json": {
       "model_id": "3f9e7349f7564d1d9e2f1729405c6418",
       "version_major": 2,
       "version_minor": 0
      },
      "text/plain": [
       "HBox(children=(FloatProgress(value=0.0, max=218.0), HTML(value='')))"
      ]
     },
     "metadata": {},
     "output_type": "display_data"
    },
    {
     "name": "stdout",
     "output_type": "stream",
     "text": [
      "\n"
     ]
    }
   ],
   "source": [
    "# Đọc lấy dữ liệu riêng của những lớp được đề cập\n",
    "selected_class = [\"nhịp sống trẻ\", \"hồ sơ\"]\n",
    "repeative_df = pd.DataFrame()\n",
    "\n",
    "for i in tqdm(range(218)):\n",
    "    df = pd.read_csv(dir_4 + f'crawling_{i}.csv')\n",
    "    repeative_df = pd.concat([repeative_df, df[df['class'].isin(selected_class)]], ignore_index=True)"
   ]
  },
  {
   "cell_type": "code",
   "execution_count": 31,
   "metadata": {},
   "outputs": [
    {
     "data": {
      "text/html": [
       "<div>\n",
       "<style scoped>\n",
       "    .dataframe tbody tr th:only-of-type {\n",
       "        vertical-align: middle;\n",
       "    }\n",
       "\n",
       "    .dataframe tbody tr th {\n",
       "        vertical-align: top;\n",
       "    }\n",
       "\n",
       "    .dataframe thead th {\n",
       "        text-align: right;\n",
       "    }\n",
       "</style>\n",
       "<table border=\"1\" class=\"dataframe\">\n",
       "  <thead>\n",
       "    <tr style=\"text-align: right;\">\n",
       "      <th></th>\n",
       "      <th>links</th>\n",
       "      <th>title</th>\n",
       "      <th>description</th>\n",
       "      <th>content</th>\n",
       "      <th>class</th>\n",
       "    </tr>\n",
       "  </thead>\n",
       "  <tbody>\n",
       "    <tr>\n",
       "      <th>0</th>\n",
       "      <td>https://tuoitre.vn/khu-vuon-mini-giua-long-sai...</td>\n",
       "      <td>khu vườn mini giữa lòng sài gòn</td>\n",
       "      <td>tto - chỉ với 15m2, một khu vườn với nhiều loa...</td>\n",
       "      <td>mong muốn có không gian để gia đình cùng nhau ...</td>\n",
       "      <td>nhịp sống trẻ</td>\n",
       "    </tr>\n",
       "    <tr>\n",
       "      <th>1</th>\n",
       "      <td>https://tuoitre.vn/vinh-danh-sinh-vien-5-tot-v...</td>\n",
       "      <td>vinh danh sinh viên 5 tốt và sao tháng giêng</td>\n",
       "      <td>tto - tối 7-1, trung ương hội sinh viên việt n...</td>\n",
       "      <td>chương trình kỷ niệm 71 năm ngày truyền thống ...</td>\n",
       "      <td>nhịp sống trẻ</td>\n",
       "    </tr>\n",
       "    <tr>\n",
       "      <th>2</th>\n",
       "      <td>https://tuoitre.vn/toi-yeu-to-quoc-toi-vao-top...</td>\n",
       "      <td>'tôi yêu tổ quốc tôi' vào top sự kiện tiêu biể...</td>\n",
       "      <td>tto - hội nghị ban thường vụ trung ương đoàn l...</td>\n",
       "      <td>năm 2020, dịch covid-19 đã ảnh hưởng rất nhiều...</td>\n",
       "      <td>nhịp sống trẻ</td>\n",
       "    </tr>\n",
       "    <tr>\n",
       "      <th>3</th>\n",
       "      <td>https://tuoitre.vn/gioi-tre-voi-cau-chuyen-tha...</td>\n",
       "      <td>giới trẻ với câu chuyện thắt lưng buộc bụng - ...</td>\n",
       "      <td>tto - với nhiều bạn trẻ có hiểu biết về tín dụ...</td>\n",
       "      <td>với nhiều bạn trẻ có hiểu biết trong lĩnh vực ...</td>\n",
       "      <td>nhịp sống trẻ</td>\n",
       "    </tr>\n",
       "    <tr>\n",
       "      <th>4</th>\n",
       "      <td>https://tuoitre.vn/gioi-tre-voi-cau-chuyen-tha...</td>\n",
       "      <td>giới trẻ với câu chuyện thắt lưng buộc bụng - ...</td>\n",
       "      <td>tto - thu nhập trên 20 triệu đồng mỗi tháng, n...</td>\n",
       "      <td>\"nhà, xe tất nhiên ai cũng thích và tôi từng n...</td>\n",
       "      <td>nhịp sống trẻ</td>\n",
       "    </tr>\n",
       "    <tr>\n",
       "      <th>...</th>\n",
       "      <td>...</td>\n",
       "      <td>...</td>\n",
       "      <td>...</td>\n",
       "      <td>...</td>\n",
       "      <td>...</td>\n",
       "    </tr>\n",
       "    <tr>\n",
       "      <th>41356</th>\n",
       "      <td>https://tuoitre.vn/tin-dung-sinh-vien-de-nghi-...</td>\n",
       "      <td>tín dụng sinh viên: đề nghị tăng mức cho vay l...</td>\n",
       "      <td>(tt-tp.hcm) - trao đổi với tuôi trẻ qua điện t...</td>\n",
       "      <td>cụ thể: nâng mức vay từ 200.000 đồng/tháng lên...</td>\n",
       "      <td>nhịp sống trẻ</td>\n",
       "    </tr>\n",
       "    <tr>\n",
       "      <th>41358</th>\n",
       "      <td>https://tuoitre.vn/nhung-diem-tua-cho-tre-em-2...</td>\n",
       "      <td>những điểm tựa cho trẻ em</td>\n",
       "      <td>tt (tp.hcm) - các câu lạc bộ ông bà cháu ở khu...</td>\n",
       "      <td>với các nội dung giáo dục như kể chuyện truyền...</td>\n",
       "      <td>nhịp sống trẻ</td>\n",
       "    </tr>\n",
       "    <tr>\n",
       "      <th>41359</th>\n",
       "      <td>https://tuoitre.vn/bong-da-vi-tre-em-duong-pho...</td>\n",
       "      <td>bóng đá vì trẻ em đường phố</td>\n",
       "      <td>tt (tp.hcm) - trường vừa học vừa làm 15-5 cùng...</td>\n",
       "      <td>mỗi đội ra sân với năm cầu thủ, ngoai ra còn c...</td>\n",
       "      <td>nhịp sống trẻ</td>\n",
       "    </tr>\n",
       "    <tr>\n",
       "      <th>41360</th>\n",
       "      <td>https://tuoitre.vn/tuong-trinh-tu-mot-manh-doi...</td>\n",
       "      <td>tường trình từ một mảnh đời</td>\n",
       "      <td>tt (tp.hcm) - mảnh đời ấy tên lê bá kim, bị số...</td>\n",
       "      <td>một buôi trưa, chúng tôi đã tìm đến mái nhà “l...</td>\n",
       "      <td>nhịp sống trẻ</td>\n",
       "    </tr>\n",
       "    <tr>\n",
       "      <th>41361</th>\n",
       "      <td>https://tuoitre.vn/da-nang-giao-luu-tai-nang-t...</td>\n",
       "      <td>đà nẵng: giao lưu tài năng trẻ tp 2003</td>\n",
       "      <td>tt (đà nẵng) - tối 1-9-2003, tại nhà hát trưng...</td>\n",
       "      <td>37 đoàn viên thanh niên, đội viên thiếu niên t...</td>\n",
       "      <td>nhịp sống trẻ</td>\n",
       "    </tr>\n",
       "  </tbody>\n",
       "</table>\n",
       "<p>40813 rows × 5 columns</p>\n",
       "</div>"
      ],
      "text/plain": [
       "                                                   links  \\\n",
       "0      https://tuoitre.vn/khu-vuon-mini-giua-long-sai...   \n",
       "1      https://tuoitre.vn/vinh-danh-sinh-vien-5-tot-v...   \n",
       "2      https://tuoitre.vn/toi-yeu-to-quoc-toi-vao-top...   \n",
       "3      https://tuoitre.vn/gioi-tre-voi-cau-chuyen-tha...   \n",
       "4      https://tuoitre.vn/gioi-tre-voi-cau-chuyen-tha...   \n",
       "...                                                  ...   \n",
       "41356  https://tuoitre.vn/tin-dung-sinh-vien-de-nghi-...   \n",
       "41358  https://tuoitre.vn/nhung-diem-tua-cho-tre-em-2...   \n",
       "41359  https://tuoitre.vn/bong-da-vi-tre-em-duong-pho...   \n",
       "41360  https://tuoitre.vn/tuong-trinh-tu-mot-manh-doi...   \n",
       "41361  https://tuoitre.vn/da-nang-giao-luu-tai-nang-t...   \n",
       "\n",
       "                                                   title  \\\n",
       "0                        khu vườn mini giữa lòng sài gòn   \n",
       "1           vinh danh sinh viên 5 tốt và sao tháng giêng   \n",
       "2      'tôi yêu tổ quốc tôi' vào top sự kiện tiêu biể...   \n",
       "3      giới trẻ với câu chuyện thắt lưng buộc bụng - ...   \n",
       "4      giới trẻ với câu chuyện thắt lưng buộc bụng - ...   \n",
       "...                                                  ...   \n",
       "41356  tín dụng sinh viên: đề nghị tăng mức cho vay l...   \n",
       "41358                          những điểm tựa cho trẻ em   \n",
       "41359                        bóng đá vì trẻ em đường phố   \n",
       "41360                        tường trình từ một mảnh đời   \n",
       "41361             đà nẵng: giao lưu tài năng trẻ tp 2003   \n",
       "\n",
       "                                             description  \\\n",
       "0      tto - chỉ với 15m2, một khu vườn với nhiều loa...   \n",
       "1      tto - tối 7-1, trung ương hội sinh viên việt n...   \n",
       "2      tto - hội nghị ban thường vụ trung ương đoàn l...   \n",
       "3      tto - với nhiều bạn trẻ có hiểu biết về tín dụ...   \n",
       "4      tto - thu nhập trên 20 triệu đồng mỗi tháng, n...   \n",
       "...                                                  ...   \n",
       "41356  (tt-tp.hcm) - trao đổi với tuôi trẻ qua điện t...   \n",
       "41358  tt (tp.hcm) - các câu lạc bộ ông bà cháu ở khu...   \n",
       "41359  tt (tp.hcm) - trường vừa học vừa làm 15-5 cùng...   \n",
       "41360  tt (tp.hcm) - mảnh đời ấy tên lê bá kim, bị số...   \n",
       "41361  tt (đà nẵng) - tối 1-9-2003, tại nhà hát trưng...   \n",
       "\n",
       "                                                 content          class  \n",
       "0      mong muốn có không gian để gia đình cùng nhau ...  nhịp sống trẻ  \n",
       "1      chương trình kỷ niệm 71 năm ngày truyền thống ...  nhịp sống trẻ  \n",
       "2      năm 2020, dịch covid-19 đã ảnh hưởng rất nhiều...  nhịp sống trẻ  \n",
       "3      với nhiều bạn trẻ có hiểu biết trong lĩnh vực ...  nhịp sống trẻ  \n",
       "4      \"nhà, xe tất nhiên ai cũng thích và tôi từng n...  nhịp sống trẻ  \n",
       "...                                                  ...            ...  \n",
       "41356  cụ thể: nâng mức vay từ 200.000 đồng/tháng lên...  nhịp sống trẻ  \n",
       "41358  với các nội dung giáo dục như kể chuyện truyền...  nhịp sống trẻ  \n",
       "41359  mỗi đội ra sân với năm cầu thủ, ngoai ra còn c...  nhịp sống trẻ  \n",
       "41360  một buôi trưa, chúng tôi đã tìm đến mái nhà “l...  nhịp sống trẻ  \n",
       "41361  37 đoàn viên thanh niên, đội viên thiếu niên t...  nhịp sống trẻ  \n",
       "\n",
       "[40813 rows x 5 columns]"
      ]
     },
     "execution_count": 31,
     "metadata": {},
     "output_type": "execute_result"
    }
   ],
   "source": [
    "repeative_df[repeative_df[\"class\"] == \"nhịp sống trẻ\"]"
   ]
  },
  {
   "cell_type": "code",
   "execution_count": 32,
   "metadata": {},
   "outputs": [
    {
     "data": {
      "text/html": [
       "<div>\n",
       "<style scoped>\n",
       "    .dataframe tbody tr th:only-of-type {\n",
       "        vertical-align: middle;\n",
       "    }\n",
       "\n",
       "    .dataframe tbody tr th {\n",
       "        vertical-align: top;\n",
       "    }\n",
       "\n",
       "    .dataframe thead th {\n",
       "        text-align: right;\n",
       "    }\n",
       "</style>\n",
       "<table border=\"1\" class=\"dataframe\">\n",
       "  <thead>\n",
       "    <tr style=\"text-align: right;\">\n",
       "      <th></th>\n",
       "      <th>links</th>\n",
       "      <th>title</th>\n",
       "      <th>description</th>\n",
       "      <th>content</th>\n",
       "      <th>class</th>\n",
       "    </tr>\n",
       "  </thead>\n",
       "  <tbody>\n",
       "    <tr>\n",
       "      <th>716</th>\n",
       "      <td>https://tuoitre.vn/25-nam-quan-he-ngoai-giao-v...</td>\n",
       "      <td>25 năm quan hệ ngoai giao việt - mỹ - kỳ 3: nh...</td>\n",
       "      <td>tto - thượng nghị sĩ mỹ william fulbright đã s...</td>\n",
       "      <td>gs herbert covert, đại học colorado (mỹ), là m...</td>\n",
       "      <td>hồ sơ</td>\n",
       "    </tr>\n",
       "    <tr>\n",
       "      <th>1006</th>\n",
       "      <td>https://tuoitre.vn/eu-quan-ngai-truoc-cac-hanh...</td>\n",
       "      <td>eu quan ngại trước các hành động đơn phương ở ...</td>\n",
       "      <td>tto - đại sứ liên minh châu âu (eu) tại asean ...</td>\n",
       "      <td>đại sứ liên minh châu âu (eu) tại hiệp hội các...</td>\n",
       "      <td>hồ sơ</td>\n",
       "    </tr>\n",
       "    <tr>\n",
       "      <th>1713</th>\n",
       "      <td>https://tuoitre.vn/bat-them-3-nghi-pham-trong-...</td>\n",
       "      <td>bắt thêm 3 nghi phạm trong vụ 39 thi thể ở anh</td>\n",
       "      <td>tto - cảnh sát điều tra vụ việc tìm thấy 39 th...</td>\n",
       "      <td>theo hãng tin reuters, trong khi các chuyên gi...</td>\n",
       "      <td>hồ sơ</td>\n",
       "    </tr>\n",
       "    <tr>\n",
       "      <th>2025</th>\n",
       "      <td>https://tuoitre.vn/hiep-uoc-luc-luong-hat-nhan...</td>\n",
       "      <td>hiệp ước lực lượng hạt nhân tầm trung - kỳ 4: ...</td>\n",
       "      <td>tto - tháng 2-2019, mỹ thông báo ngừng thực hi...</td>\n",
       "      <td>đồng thời, mỹ ra tối hậu thư trong sáu tháng n...</td>\n",
       "      <td>hồ sơ</td>\n",
       "    </tr>\n",
       "    <tr>\n",
       "      <th>2623</th>\n",
       "      <td>https://tuoitre.vn/the-gioi-hoang-mang-vi-boei...</td>\n",
       "      <td>thế giới hoang mang vì boeing - kỳ 2: cuộc đua...</td>\n",
       "      <td>tto - nhiều người hẳn không quên vụ khủng bố k...</td>\n",
       "      <td>vụ tấn công khủng bố là một cú sốc đối với nướ...</td>\n",
       "      <td>hồ sơ</td>\n",
       "    </tr>\n",
       "    <tr>\n",
       "      <th>...</th>\n",
       "      <td>...</td>\n",
       "      <td>...</td>\n",
       "      <td>...</td>\n",
       "      <td>...</td>\n",
       "      <td>...</td>\n",
       "    </tr>\n",
       "    <tr>\n",
       "      <th>41258</th>\n",
       "      <td>https://tuoitre.vn/mien-vien-tay-cua-trung-don...</td>\n",
       "      <td>\"miền viễn tây\" của trung đông</td>\n",
       "      <td>tt - luật rừng đang ngự trị ở baghdad cũng như...</td>\n",
       "      <td>người phụ nữ mặc áo trùm đen, ngồi thẳng người...</td>\n",
       "      <td>hồ sơ</td>\n",
       "    </tr>\n",
       "    <tr>\n",
       "      <th>41271</th>\n",
       "      <td>https://tuoitre.vn/nghi-can-sat-hai-ngoai-truo...</td>\n",
       "      <td>nghi can sát hại ngoai trưởng thụy điển là kẻ ...</td>\n",
       "      <td>tt - nghi can chính trong vụ án sát hại ngoai ...</td>\n",
       "      <td>tội trạng của nghi can này (hiện 35 tuôi) vẫn ...</td>\n",
       "      <td>hồ sơ</td>\n",
       "    </tr>\n",
       "    <tr>\n",
       "      <th>41295</th>\n",
       "      <td>https://tuoitre.vn/fso-va-cong-tac-bao-ve-v-pu...</td>\n",
       "      <td>fso và công tác bảo vệ v. putin</td>\n",
       "      <td>tt - “kẻ ám sát luôn có cơ hội, và qui luật nà...</td>\n",
       "      <td>theo phân tích của fonarev, mấu chốt cuộc đối ...</td>\n",
       "      <td>hồ sơ</td>\n",
       "    </tr>\n",
       "    <tr>\n",
       "      <th>41302</th>\n",
       "      <td>https://tuoitre.vn/chinh-khach-tay-au-duoc-bao...</td>\n",
       "      <td>chính khách tây âu được bảo vệ ra sao?</td>\n",
       "      <td>tt - vụ ngoai trưởng thụy điển anna lindh bị đ...</td>\n",
       "      <td>pháp: bộ máy cận vệ khổng lồsau vụ tổng thống ...</td>\n",
       "      <td>hồ sơ</td>\n",
       "    </tr>\n",
       "    <tr>\n",
       "      <th>41357</th>\n",
       "      <td>https://tuoitre.vn/ai-kiem-soat-quyet-dinh-cua...</td>\n",
       "      <td>ai kiểm soát quyết định của chính phủ mỹ - âu ...</td>\n",
       "      <td>tt (tp.hcm) - trước tuần diễn ra hội nghị cấp ...</td>\n",
       "      <td>theo báo cáo của foei, đằng sau sự khoa trương...</td>\n",
       "      <td>hồ sơ</td>\n",
       "    </tr>\n",
       "  </tbody>\n",
       "</table>\n",
       "<p>549 rows × 5 columns</p>\n",
       "</div>"
      ],
      "text/plain": [
       "                                                   links  \\\n",
       "716    https://tuoitre.vn/25-nam-quan-he-ngoai-giao-v...   \n",
       "1006   https://tuoitre.vn/eu-quan-ngai-truoc-cac-hanh...   \n",
       "1713   https://tuoitre.vn/bat-them-3-nghi-pham-trong-...   \n",
       "2025   https://tuoitre.vn/hiep-uoc-luc-luong-hat-nhan...   \n",
       "2623   https://tuoitre.vn/the-gioi-hoang-mang-vi-boei...   \n",
       "...                                                  ...   \n",
       "41258  https://tuoitre.vn/mien-vien-tay-cua-trung-don...   \n",
       "41271  https://tuoitre.vn/nghi-can-sat-hai-ngoai-truo...   \n",
       "41295  https://tuoitre.vn/fso-va-cong-tac-bao-ve-v-pu...   \n",
       "41302  https://tuoitre.vn/chinh-khach-tay-au-duoc-bao...   \n",
       "41357  https://tuoitre.vn/ai-kiem-soat-quyet-dinh-cua...   \n",
       "\n",
       "                                                   title  \\\n",
       "716    25 năm quan hệ ngoai giao việt - mỹ - kỳ 3: nh...   \n",
       "1006   eu quan ngại trước các hành động đơn phương ở ...   \n",
       "1713      bắt thêm 3 nghi phạm trong vụ 39 thi thể ở anh   \n",
       "2025   hiệp ước lực lượng hạt nhân tầm trung - kỳ 4: ...   \n",
       "2623   thế giới hoang mang vì boeing - kỳ 2: cuộc đua...   \n",
       "...                                                  ...   \n",
       "41258                     \"miền viễn tây\" của trung đông   \n",
       "41271  nghi can sát hại ngoai trưởng thụy điển là kẻ ...   \n",
       "41295                    fso và công tác bảo vệ v. putin   \n",
       "41302             chính khách tây âu được bảo vệ ra sao?   \n",
       "41357  ai kiểm soát quyết định của chính phủ mỹ - âu ...   \n",
       "\n",
       "                                             description  \\\n",
       "716    tto - thượng nghị sĩ mỹ william fulbright đã s...   \n",
       "1006   tto - đại sứ liên minh châu âu (eu) tại asean ...   \n",
       "1713   tto - cảnh sát điều tra vụ việc tìm thấy 39 th...   \n",
       "2025   tto - tháng 2-2019, mỹ thông báo ngừng thực hi...   \n",
       "2623   tto - nhiều người hẳn không quên vụ khủng bố k...   \n",
       "...                                                  ...   \n",
       "41258  tt - luật rừng đang ngự trị ở baghdad cũng như...   \n",
       "41271  tt - nghi can chính trong vụ án sát hại ngoai ...   \n",
       "41295  tt - “kẻ ám sát luôn có cơ hội, và qui luật nà...   \n",
       "41302  tt - vụ ngoai trưởng thụy điển anna lindh bị đ...   \n",
       "41357  tt (tp.hcm) - trước tuần diễn ra hội nghị cấp ...   \n",
       "\n",
       "                                                 content  class  \n",
       "716    gs herbert covert, đại học colorado (mỹ), là m...  hồ sơ  \n",
       "1006   đại sứ liên minh châu âu (eu) tại hiệp hội các...  hồ sơ  \n",
       "1713   theo hãng tin reuters, trong khi các chuyên gi...  hồ sơ  \n",
       "2025   đồng thời, mỹ ra tối hậu thư trong sáu tháng n...  hồ sơ  \n",
       "2623   vụ tấn công khủng bố là một cú sốc đối với nướ...  hồ sơ  \n",
       "...                                                  ...    ...  \n",
       "41258  người phụ nữ mặc áo trùm đen, ngồi thẳng người...  hồ sơ  \n",
       "41271  tội trạng của nghi can này (hiện 35 tuôi) vẫn ...  hồ sơ  \n",
       "41295  theo phân tích của fonarev, mấu chốt cuộc đối ...  hồ sơ  \n",
       "41302  pháp: bộ máy cận vệ khổng lồsau vụ tổng thống ...  hồ sơ  \n",
       "41357  theo báo cáo của foei, đằng sau sự khoa trương...  hồ sơ  \n",
       "\n",
       "[549 rows x 5 columns]"
      ]
     },
     "execution_count": 32,
     "metadata": {},
     "output_type": "execute_result"
    }
   ],
   "source": [
    "repeative_df[repeative_df[\"class\"] == \"hồ sơ\"]"
   ]
  },
  {
   "cell_type": "markdown",
   "metadata": {},
   "source": [
    "### Tổng kết các phân lớp của dữ liệu"
   ]
  },
  {
   "cell_type": "markdown",
   "metadata": {},
   "source": [
    "| | | |\n",
    "| :- | :- | :- |\n",
    "| 1. thời sự quốc tế | 2. thời sự trong nước | 3. du lịch |\n",
    "| 4. kinh doanh | 5. giải trí | 6. công nghệ |\n",
    "| 7. nhà đất | 8. sức khỏe | 9. giáo dục |\n",
    "| 10. khoa học | 11. thể thao | 12. văn hóa |\n",
    "| 13. pháp luật | 14. yêu | 15. xe |\n",
    "| 16. thời trang | 17. nhịp sống trẻ | 18. ăn gì |"
   ]
  },
  {
   "cell_type": "markdown",
   "metadata": {},
   "source": [
    "## 5. Tiền xử lý sau cùng toàn dữ liệu"
   ]
  },
  {
   "cell_type": "markdown",
   "metadata": {},
   "source": [
    "### Chỉnh sửa phân lớp và lọc phân lớp"
   ]
  },
  {
   "cell_type": "markdown",
   "metadata": {},
   "source": [
    "Theo quyết định thay đổi phân lớp ở phần trên, nhóm sẽ viết hàm thực hiện chuyển đổi phân lớp."
   ]
  },
  {
   "cell_type": "code",
   "execution_count": 33,
   "metadata": {},
   "outputs": [],
   "source": [
    "def class_extract(df):\n",
    "    selected_class = [\"xã hội\", \"thế giới\", \"thể thao\", \"kinh doanh\", \"văn hóa\", \"pháp luật\", \"sức khỏe\", \"nhịp sống trẻ\",\n",
    "                      \"giáo dục\", \"thời sự\", \"nhịp sống số\", \"tuyển sinh\", \"du lịch\", \"phóng sự\", \"nhà đất\", \"yêu\",\n",
    "                      \"điện ảnh\", \"tài chính\", \"âm nhạc\", \"khoa học\", \"giải trí\", \"tv show\", \"công nghệ\", \"xe\",\n",
    "                      \"thời trang\", \"smarthome\", \"đi chơi\", \"câu chuyện giáo dục\", \"hồ sơ\", \"thời sự quốc tế\", \"ăn gì\"]\n",
    "    processed_df = df[df[\"class\"].isin(selected_class)].copy()\n",
    "    processed_df.loc[processed_df[\"class\"].isin([\"thế giới\", \"hồ sơ\"]), \"class\"] = \"thời sự quốc tế\"\n",
    "    processed_df.loc[processed_df[\"class\"].isin([\"xã hội\", \"thời sự\", \"phóng sự\"]), \"class\"] = \"thời sự trong nước\"\n",
    "    processed_df.loc[processed_df[\"class\"] == \"đi chơi\", \"class\"] = \"du lịch\"\n",
    "    processed_df.loc[processed_df[\"class\"].isin([\"tài chính\", \"doanh nghiệp\"]), \"class\"] = \"kinh doanh\"\n",
    "    processed_df.loc[processed_df[\"class\"] == \"nhịp sống số\", \"class\"] = \"công nghệ\"\n",
    "    processed_df.loc[processed_df[\"class\"].isin([\"âm nhạc\", \"tv show\", \"điện ảnh\"]), \"class\"] = \"giải trí\"\n",
    "    processed_df.loc[processed_df[\"class\"] == \"smarthome\", \"class\"] = \"nhà đất\"\n",
    "    processed_df.loc[processed_df[\"class\"].isin([\"phòng mạch\", \"biết để khỏe\"]), \"class\"] = \"sức khỏe\"\n",
    "    processed_df.loc[processed_df[\"class\"].isin([\"tuyển sinh\", \"học đường\", \"câu chuyện giáo dục\"]), \"class\"] = \"giáo dục\"\n",
    "    return processed_df"
   ]
  },
  {
   "cell_type": "markdown",
   "metadata": {},
   "source": [
    "### Xóa ký tự đặc biệt"
   ]
  },
  {
   "cell_type": "code",
   "execution_count": 34,
   "metadata": {},
   "outputs": [],
   "source": [
    "# Xoá ký tự thừa\n",
    "def remove_unnecessary(paragraph):\n",
    "    temp=re.sub(r'[^\\s\\wáàảãạăắằẳẵặâấầẩẫậéèẻẽẹêếềểễệóòỏõọôốồổỗộơớờởỡợíìỉĩịúùủũụưứừửữựýỳỷỹỵđ_]',' ',paragraph)\n",
    "    return re.sub(r'\\s+', ' ', temp).strip()"
   ]
  },
  {
   "cell_type": "code",
   "execution_count": 35,
   "metadata": {},
   "outputs": [
    {
     "data": {
      "text/plain": [
       "'Mèo méo meo mèo meo con mèo ngu ngốc đáng yêu cute'"
      ]
     },
     "execution_count": 35,
     "metadata": {},
     "output_type": "execute_result"
    }
   ],
   "source": [
    "# TEST\n",
    "remove_unnecessary(\"Mèo méo meo mèo meo, con, mèo, ngu, ngốc, đáng, yêu \\\"cute\\\"~!\")"
   ]
  },
  {
   "cell_type": "markdown",
   "metadata": {},
   "source": [
    "### Tokenize các từ trong câu"
   ]
  },
  {
   "cell_type": "markdown",
   "metadata": {},
   "source": [
    "Tokenize các từ là thao tác tách các từ có nghĩa ra riêng biệt nhau giúp cho việc học máy tốt hơn.\n",
    "\n",
    "Lấy ví dụ câu sau: học sinh học sinh học. Với tiếng anh, việc tokenize khác đơn giản là tách theo dấu cách. Tuy nhiên nếu chỉ đơn thuần tách theo dấu cách thì sẽ thu được dãy \\[\"học\" ✕ 3,\"sinh\" ✕ 2\\]. Trong khi đó dãy chúng ta mong muốn là \\[\"học sinh\", \"học\", \"sinh học\"\\]. Do vậy để tokenize tiếng Việt, chúng ta cần những thuật toán đặc biệt.\n",
    ">*Phong ba bão táp không bằng ngữ pháp Việt Nam.*\n",
    "\n",
    "Có 2 thư viện hỗ trợ tokenize cho tiếng Việt là pivy và underthesea. Thư viện underthesea mới hơi và được hỗ trợ tốt hơn so với pivy. Tuy nhiên thời gian tokenize của underthesea lại gấp 8 lần pivy. Do đó nhóm quyết định sẽ dùng pivy."
   ]
  },
  {
   "cell_type": "code",
   "execution_count": 36,
   "metadata": {},
   "outputs": [],
   "source": [
    "def tokenize(sentence):\n",
    "    return ViTokenizer.tokenize(sentence)"
   ]
  },
  {
   "cell_type": "code",
   "execution_count": 37,
   "metadata": {},
   "outputs": [
    {
     "data": {
      "text/plain": [
       "'Mèo méo meo mèo meo con mèo ngu_ngốc đáng yêu cute'"
      ]
     },
     "execution_count": 37,
     "metadata": {},
     "output_type": "execute_result"
    }
   ],
   "source": [
    "# TEST\n",
    "tokenize(\"Mèo méo meo mèo meo con mèo ngu ngốc đáng yêu cute\")"
   ]
  },
  {
   "cell_type": "markdown",
   "metadata": {},
   "source": [
    "### Xóa stopwords"
   ]
  },
  {
   "cell_type": "markdown",
   "metadata": {},
   "source": [
    "Stopword là các từ xuất xuất hiện nhiều nhưng không liên quan gì nhiều đến nội dung, ý nghĩa của câu hoặc không có ích trong một số tập văn bản nhất định.\n",
    "\n",
    "Ví dụ đoạn văn bản sau:\n",
    "<blockquote>\n",
    "Lại là chia tay sau những lần không hiểu nhau<br>\n",
    "Tại vì thơ ngây bao nhiêu lần yêu vỡ nát nữa rồi<br>\n",
    "Tại vì hôm mưa anh đưa chiếc ô<br>\n",
    "Đã làm trái tim em có cầu vồng\n",
    "</blockquote>\n",
    "\n",
    "Tuy nhiên sau khi đã loại bỏ stopword thì nội dung chỉ còn:\n",
    "<blockquote>\n",
    "chia tay không hiểu nhau<br>\n",
    "thơ ngây yêu vỡ nát<br>\n",
    "mưa anh đưa ô<br>\n",
    "trái tim em cầu vồng\n",
    "</blockquote>\n",
    "\n",
    "Hay trong một tập dữ liệu văn bản về hàng không thì các từ *\"máy bay\"*, *\"tiếp viên\"*,... cũng đôi khi không quan trọng vì văn bản nào cũng xuất hiện. Do vậy thường mỗi tập dữ liệu văn bản nên có một bộ stopword riêng. Tuy nhiên do nhóm làm về chủ đề chung nên để tiện lợi nhóm sẽ dùng bộ stopword có sẵn (nguồn: https://github.com/stopwords/vietnamese-stopwords)."
   ]
  },
  {
   "cell_type": "code",
   "execution_count": 38,
   "metadata": {},
   "outputs": [],
   "source": [
    "# Đọc dữ liệu stopword từ file\n",
    "# (nguồn: https://github.com/stopwords/vietnamese-stopwords)\n",
    "with open('src/vietnamese-stopwords-dash.txt', encoding='utf-8') as f:\n",
    "    lines = f.read().splitlines()\n",
    "    \n",
    "# Danh sách stopword\n",
    "stopword = set(lines)"
   ]
  },
  {
   "cell_type": "code",
   "execution_count": 39,
   "metadata": {},
   "outputs": [],
   "source": [
    "def remove_stopwords(line):\n",
    "    words = []\n",
    "    for word in line.strip().split():\n",
    "        if word not in stopword:\n",
    "            words.append(word)\n",
    "    return ' '.join(words)"
   ]
  },
  {
   "cell_type": "code",
   "execution_count": 40,
   "metadata": {},
   "outputs": [
    {
     "data": {
      "text/plain": [
       "'Mèo méo meo mèo meo mèo ngu_ngốc yêu cute'"
      ]
     },
     "execution_count": 40,
     "metadata": {},
     "output_type": "execute_result"
    }
   ],
   "source": [
    "# TEST\n",
    "remove_stopwords(\"Mèo méo meo mèo meo con mèo ngu_ngốc đáng yêu cute\")"
   ]
  },
  {
   "cell_type": "markdown",
   "metadata": {},
   "source": [
    "### Thiết lập xử lý đa nhân để giảm thiểu thời gian tiền xử lý"
   ]
  },
  {
   "cell_type": "markdown",
   "metadata": {},
   "source": [
    "Trong bước tiền xử lý này, các thao tác ở đây thực hiện ở trên chuỗi khá phức tạp (sử dụng regex, tokenize,...) khiến cho thời gian chạy đáng kể trên toàn dữ liệu (thao tác tokenize ước tính mất khoảng 1 tiếng). Để giảm thiểu thời gian chạy, có một phương pháp phổ biến là tận dụng nhiều nhân của máy tính để chạy song song. Rất may mắn là có một thư viện hỗ trợ điều này cho ***pandas*** là ***pandarallel***. Nhờ đó thời gian tiền sử lý của nhóm đã nhanh gấp 4 lần! Tuy nhiên nhóm không khuyến cáo làm điều này trên laptop vì CPU sẽ luôn chạy ở mức 100%. \n",
    "\n",
    "(Lưu ý: thư viện này không hỗ trợ Windows, nếu muốn xài trên Windows cần phải sử dụng Windows Subsystem for Linux)\n",
    "\n",
    "Để sử dụng cho dataframe, thay vì gọi apply thì gọi parallel_apply là được."
   ]
  },
  {
   "cell_type": "code",
   "execution_count": 41,
   "metadata": {},
   "outputs": [],
   "source": [
    "#!pip3 install pandarallel\n",
    "#from pandarallel import pandarallel\n",
    "#pandarallel.initialize()"
   ]
  },
  {
   "cell_type": "markdown",
   "metadata": {},
   "source": [
    "## 6. Tạo pipe tiền xử lý"
   ]
  },
  {
   "cell_type": "code",
   "execution_count": 42,
   "metadata": {},
   "outputs": [],
   "source": [
    "# Thiết lập đường dẫn thư mục để dùng trong phần 2\n",
    "dir_6 = \"src/raw_scraped_data_demo/\""
   ]
  },
  {
   "cell_type": "markdown",
   "metadata": {},
   "source": [
    "### Tạo các FunctionTransformer"
   ]
  },
  {
   "cell_type": "code",
   "execution_count": 43,
   "metadata": {},
   "outputs": [],
   "source": [
    "# Bọc phương thức lấy chuỗi in thường cho function transformer\n",
    "def lower_str(string):\n",
    "    return string.lower()\n",
    "\n",
    "unicode_std = FunctionTransformer(covert_unicode)\n",
    "lowercase_conv = FunctionTransformer(lower_str)\n",
    "vn_std = FunctionTransformer(covert_unicode)\n",
    "rm_unescesary = FunctionTransformer(remove_unnecessary)\n",
    "word_tokenize = FunctionTransformer(tokenize)\n",
    "rm_stopwords = FunctionTransformer(remove_stopwords)"
   ]
  },
  {
   "cell_type": "markdown",
   "metadata": {},
   "source": [
    "### Cho đoạn văn bản ngẫu nhiên"
   ]
  },
  {
   "cell_type": "code",
   "execution_count": 44,
   "metadata": {},
   "outputs": [],
   "source": [
    "preprocess_pipe_str = Pipeline([\n",
    "    (\"unicode_standardize\", unicode_std),\n",
    "    (\"lowercase_conv\", lowercase_conv),\n",
    "    (\"vn_standardize\", vn_std),\n",
    "    (\"rm_unescesary\", rm_unescesary),\n",
    "    (\"word_tokenize\", word_tokenize),\n",
    "    (\"rm_stopwords\", rm_stopwords)\n",
    "])"
   ]
  },
  {
   "cell_type": "code",
   "execution_count": 45,
   "metadata": {},
   "outputs": [
    {
     "data": {
      "text/plain": [
       "'mèo méo meo mèo meo mèo ngu_ngốc yêu cute'"
      ]
     },
     "execution_count": 45,
     "metadata": {},
     "output_type": "execute_result"
    }
   ],
   "source": [
    "# TEST\n",
    "preprocess_pipe_str.transform(\"Mèo méo meo mèo meo, con mèo ngu ngốc đáng yêu cute~!\")"
   ]
  },
  {
   "cell_type": "code",
   "execution_count": 46,
   "metadata": {},
   "outputs": [
    {
     "data": {
      "text/plain": [
       "array(['mèo méo meo mèo meo', 'mèo ngu_ngốc yêu cute'], dtype='<U21')"
      ]
     },
     "execution_count": 46,
     "metadata": {},
     "output_type": "execute_result"
    }
   ],
   "source": [
    "# Tạo function transformer áp dụng tiền xử lý lên từng phần tử trong dãy\n",
    "preprocess_list_str = FunctionTransformer(np.vectorize(preprocess_pipe_str.transform))\n",
    "\n",
    "# TEST\n",
    "preprocess_list_str.transform([\"Mèo méo meo mèo meo\", \"con mèo ngu ngốc đáng yêu cute~!\"])"
   ]
  },
  {
   "cell_type": "markdown",
   "metadata": {},
   "source": [
    "### Cho dataframe dữ liệu ban đầu"
   ]
  },
  {
   "cell_type": "code",
   "execution_count": 47,
   "metadata": {},
   "outputs": [],
   "source": [
    "# Tạo prepreprocess pipeline để xử lý riêng cho class (do class không có tokenize và bỏ stopword)\n",
    "prepreprocess_pipe_str = Pipeline([\n",
    "    (\"unicode_standardize\", unicode_std),\n",
    "    (\"lowercase_conv\", lowercase_conv),\n",
    "    (\"vn_standardize\", vn_std)\n",
    "])\n",
    "\n",
    "prepreprocess_list_str = FunctionTransformer(np.vectorize(prepreprocess_pipe_str.transform))"
   ]
  },
  {
   "cell_type": "code",
   "execution_count": 48,
   "metadata": {},
   "outputs": [],
   "source": [
    "# Khai báo các hàm cho function transformer\n",
    "def drop_col(data_df):\n",
    "    return data_df.drop(['links', 'title', 'description'],axis=1)\n",
    "\n",
    "def drop_na(data_df):\n",
    "    return data_df.dropna(axis=0, how=\"any\")\n",
    "\n",
    "def copy_df(data_df):\n",
    "    return data_df.copy()\n",
    "\n",
    "# Khai báo các hàm cho function transformer dành riêng cho từng lớp\n",
    "def class_preprocess(data_df):\n",
    "    data_df[\"class\"] = prepreprocess_list_str.transform(data_df[\"class\"])\n",
    "    data_df = class_extract(data_df)\n",
    "    return data_df\n",
    "\n",
    "def content_preproc(data_df):\n",
    "    data_df[\"content\"] = preprocess_list_str.transform(data_df[\"content\"])\n",
    "    return data_df"
   ]
  },
  {
   "cell_type": "code",
   "execution_count": 49,
   "metadata": {},
   "outputs": [],
   "source": [
    "preprocess_pipe_df = Pipeline([\n",
    "    (\"copy_df\", FunctionTransformer(copy_df)),\n",
    "    (\"drop_na\", FunctionTransformer(drop_na)),\n",
    "    (\"class_extract\", FunctionTransformer(class_preprocess)),\n",
    "    (\"drop_columns\", FunctionTransformer(drop_col)),\n",
    "    (\"content_preproc\", FunctionTransformer(content_preproc)),\n",
    "    (\"drop_na_fin\", FunctionTransformer(drop_na))\n",
    "])"
   ]
  },
  {
   "cell_type": "code",
   "execution_count": 50,
   "metadata": {},
   "outputs": [
    {
     "data": {
      "text/html": [
       "<div>\n",
       "<style scoped>\n",
       "    .dataframe tbody tr th:only-of-type {\n",
       "        vertical-align: middle;\n",
       "    }\n",
       "\n",
       "    .dataframe tbody tr th {\n",
       "        vertical-align: top;\n",
       "    }\n",
       "\n",
       "    .dataframe thead th {\n",
       "        text-align: right;\n",
       "    }\n",
       "</style>\n",
       "<table border=\"1\" class=\"dataframe\">\n",
       "  <thead>\n",
       "    <tr style=\"text-align: right;\">\n",
       "      <th></th>\n",
       "      <th>links</th>\n",
       "      <th>title</th>\n",
       "      <th>description</th>\n",
       "      <th>content</th>\n",
       "      <th>class</th>\n",
       "    </tr>\n",
       "  </thead>\n",
       "  <tbody>\n",
       "    <tr>\n",
       "      <th>0</th>\n",
       "      <td>https://tuoitre.vn/tong-thong-trump-xac-nhan-k...</td>\n",
       "      <td>Tổng thống Trump xác nhận không dự lễ nhậm chứ...</td>\n",
       "      <td>TTO - Tổng thống Mỹ Donald Trump đăng tweet ch...</td>\n",
       "      <td>Sau khi đưa ra cam kết sẽ đảm bảo chuyển giao ...</td>\n",
       "      <td>Thế giới</td>\n",
       "    </tr>\n",
       "    <tr>\n",
       "      <th>1</th>\n",
       "      <td>https://tuoitre.vn/dat-nuoc-dat-niem-tin-vao-n...</td>\n",
       "      <td>Đất nước đặt niềm tin vào những học sinh xuất sắc</td>\n",
       "      <td>TT0 - Tối 8-1, Thủ tướng Chính phủ Nguyễn Xuân...</td>\n",
       "      <td>Chia sẻ tại buổi lễ, Thủ tướng Nguyễn Xuân Phú...</td>\n",
       "      <td>Giáo dục</td>\n",
       "    </tr>\n",
       "    <tr>\n",
       "      <th>2</th>\n",
       "      <td>https://tuoitre.vn/luat-su-my-phan-bien-ong-tr...</td>\n",
       "      <td>Luật sư Mỹ phản biện: Ông Trump đâu có kêu ngư...</td>\n",
       "      <td>TTO - Trên chương trình Bill Hemmer Reports củ...</td>\n",
       "      <td>Ngày 6-1, tình trạng bạo lực đã xảy ra tại tòa...</td>\n",
       "      <td>Thế giới</td>\n",
       "    </tr>\n",
       "    <tr>\n",
       "      <th>3</th>\n",
       "      <td>https://tuoitre.vn/thanh-pho-phu-quoc-se-phat-...</td>\n",
       "      <td>Thành phố Phú Quốc sẽ phát triển dựa trên 4 tr...</td>\n",
       "      <td>TTO - Tối 8-1 tại phường An Thới, chính quyền ...</td>\n",
       "      <td>Phát biểu tại buổi lễ công bố thành lập TP Phú...</td>\n",
       "      <td>Thời sự</td>\n",
       "    </tr>\n",
       "    <tr>\n",
       "      <th>4</th>\n",
       "      <td>https://tuoitre.vn/ong-trump-nguoi-ung-ho-toi-...</td>\n",
       "      <td>Ông Trump: Người ủng hộ tôi 'sẽ có tiếng nói t...</td>\n",
       "      <td>TTO - Trong nội dung đăng trên Twitter sau gần...</td>\n",
       "      <td>\"75 triệu người Mỹ yêu nước vĩ đại đã bầu cho ...</td>\n",
       "      <td>Thế giới</td>\n",
       "    </tr>\n",
       "  </tbody>\n",
       "</table>\n",
       "</div>"
      ],
      "text/plain": [
       "                                               links  \\\n",
       "0  https://tuoitre.vn/tong-thong-trump-xac-nhan-k...   \n",
       "1  https://tuoitre.vn/dat-nuoc-dat-niem-tin-vao-n...   \n",
       "2  https://tuoitre.vn/luat-su-my-phan-bien-ong-tr...   \n",
       "3  https://tuoitre.vn/thanh-pho-phu-quoc-se-phat-...   \n",
       "4  https://tuoitre.vn/ong-trump-nguoi-ung-ho-toi-...   \n",
       "\n",
       "                                               title  \\\n",
       "0  Tổng thống Trump xác nhận không dự lễ nhậm chứ...   \n",
       "1  Đất nước đặt niềm tin vào những học sinh xuất sắc   \n",
       "2  Luật sư Mỹ phản biện: Ông Trump đâu có kêu ngư...   \n",
       "3  Thành phố Phú Quốc sẽ phát triển dựa trên 4 tr...   \n",
       "4  Ông Trump: Người ủng hộ tôi 'sẽ có tiếng nói t...   \n",
       "\n",
       "                                         description  \\\n",
       "0  TTO - Tổng thống Mỹ Donald Trump đăng tweet ch...   \n",
       "1  TT0 - Tối 8-1, Thủ tướng Chính phủ Nguyễn Xuân...   \n",
       "2  TTO - Trên chương trình Bill Hemmer Reports củ...   \n",
       "3  TTO - Tối 8-1 tại phường An Thới, chính quyền ...   \n",
       "4  TTO - Trong nội dung đăng trên Twitter sau gần...   \n",
       "\n",
       "                                             content     class  \n",
       "0  Sau khi đưa ra cam kết sẽ đảm bảo chuyển giao ...  Thế giới  \n",
       "1  Chia sẻ tại buổi lễ, Thủ tướng Nguyễn Xuân Phú...  Giáo dục  \n",
       "2  Ngày 6-1, tình trạng bạo lực đã xảy ra tại tòa...  Thế giới  \n",
       "3  Phát biểu tại buổi lễ công bố thành lập TP Phú...   Thời sự  \n",
       "4  \"75 triệu người Mỹ yêu nước vĩ đại đã bầu cho ...  Thế giới  "
      ]
     },
     "metadata": {},
     "output_type": "display_data"
    },
    {
     "name": "stdout",
     "output_type": "stream",
     "text": [
      "Wall time: 55.3 s\n"
     ]
    },
    {
     "data": {
      "text/html": [
       "<div>\n",
       "<style scoped>\n",
       "    .dataframe tbody tr th:only-of-type {\n",
       "        vertical-align: middle;\n",
       "    }\n",
       "\n",
       "    .dataframe tbody tr th {\n",
       "        vertical-align: top;\n",
       "    }\n",
       "\n",
       "    .dataframe thead th {\n",
       "        text-align: right;\n",
       "    }\n",
       "</style>\n",
       "<table border=\"1\" class=\"dataframe\">\n",
       "  <thead>\n",
       "    <tr style=\"text-align: right;\">\n",
       "      <th></th>\n",
       "      <th>content</th>\n",
       "      <th>class</th>\n",
       "    </tr>\n",
       "  </thead>\n",
       "  <tbody>\n",
       "    <tr>\n",
       "      <th>0</th>\n",
       "      <td>cam_kết chuyển_giao quyền_lực hòa bình êm thắm...</td>\n",
       "      <td>thời sự quốc tế</td>\n",
       "    </tr>\n",
       "    <tr>\n",
       "      <th>1</th>\n",
       "      <td>lễ thủ_tướng nguyễn xuân phúc đất_nước đứng gi...</td>\n",
       "      <td>giáo dục</td>\n",
       "    </tr>\n",
       "    <tr>\n",
       "      <th>2</th>\n",
       "      <td>6 1 bạo_lực xảy tòa quốc_hội mỹ hạ_viện thượng...</td>\n",
       "      <td>thời sự quốc tế</td>\n",
       "    </tr>\n",
       "    <tr>\n",
       "      <th>3</th>\n",
       "      <td>phát_biểu lễ công_bố thành_lập tp phú quốc phó...</td>\n",
       "      <td>thời sự trong nước</td>\n",
       "    </tr>\n",
       "    <tr>\n",
       "      <th>4</th>\n",
       "      <td>75 triệu mỹ yêu vĩ_đại bầu mục_tiêu mỹ mỹ vĩ_đ...</td>\n",
       "      <td>thời sự quốc tế</td>\n",
       "    </tr>\n",
       "  </tbody>\n",
       "</table>\n",
       "</div>"
      ],
      "text/plain": [
       "                                             content               class\n",
       "0  cam_kết chuyển_giao quyền_lực hòa bình êm thắm...     thời sự quốc tế\n",
       "1  lễ thủ_tướng nguyễn xuân phúc đất_nước đứng gi...            giáo dục\n",
       "2  6 1 bạo_lực xảy tòa quốc_hội mỹ hạ_viện thượng...     thời sự quốc tế\n",
       "3  phát_biểu lễ công_bố thành_lập tp phú quốc phó...  thời sự trong nước\n",
       "4  75 triệu mỹ yêu vĩ_đại bầu mục_tiêu mỹ mỹ vĩ_đ...     thời sự quốc tế"
      ]
     },
     "execution_count": 50,
     "metadata": {},
     "output_type": "execute_result"
    }
   ],
   "source": [
    "# Import thử file đầu tiên\n",
    "data_df=pd.read_csv(dir_6 + f'crawling_0.csv')\n",
    "display(data_df.head())\n",
    "\n",
    "%time preprocess_pipe_df.transform(data_df).head()"
   ]
  },
  {
   "cell_type": "markdown",
   "metadata": {},
   "source": [
    "## 7. Tách các tập dữ liệu"
   ]
  },
  {
   "cell_type": "markdown",
   "metadata": {},
   "source": [
    "Do thời gian tiền xử lý dữ liệu lớn nên nhóm đã thực hiện tiền xử lý trước và lưu ra file riêng. Phần này nhóm sẽ import các file đó vào và thực hiện vài bước xóa dòng trùng và thiếu riêng chứ không sử dụng pipeline.\n",
    "\n",
    "Do dữ liệu lớn cũng như để tiết kiệm thời gian, nhóm chỉ thử nghiệm với 10 batch data (~44000 mẫu). Data khi tiền xử lý sẽ lọc lại 1 lần cuối để lọc ra các lớp có khối lượng mẫu bé hơn 0.1% tập dữ liệu. Con số 0.1% được nhóm lấy dựa trên việc trong khâu khám phá nhóm chỉ chọn lớp có trên 500 mẫu và toàn bộ dữ liệu sau khi tiền xử lý hoàn tất thì có khoảng 500.000 mẫu trong tập train (tập train chiếm 70% dữ liệu)."
   ]
  },
  {
   "cell_type": "code",
   "execution_count": 205,
   "metadata": {},
   "outputs": [],
   "source": [
    "# Dữ liệu dùng cho phần 7 trở đi\n",
    "dir_7 = \"src/preprocessed_data/\""
   ]
  },
  {
   "cell_type": "code",
   "execution_count": 206,
   "metadata": {},
   "outputs": [
    {
     "data": {
      "application/vnd.jupyter.widget-view+json": {
       "model_id": "75db17d11f06403eafa969cbe69ae9d2",
       "version_major": 2,
       "version_minor": 0
      },
      "text/plain": [
       "HBox(children=(FloatProgress(value=0.0, max=10.0), HTML(value='')))"
      ]
     },
     "metadata": {},
     "output_type": "display_data"
    },
    {
     "name": "stdout",
     "output_type": "stream",
     "text": [
      "\n"
     ]
    }
   ],
   "source": [
    "# Import 10 bộ data\n",
    "df = []\n",
    "for i in tqdm(range(10)):\n",
    "    df.append(pd.read_csv(dir_7 + f'preprocessed_{i}.csv'))\n",
    "    \n",
    "data_df=pd.concat(df)\n",
    "data_df.reset_index(drop=True, inplace=True)"
   ]
  },
  {
   "cell_type": "code",
   "execution_count": 207,
   "metadata": {},
   "outputs": [
    {
     "name": "stdout",
     "output_type": "stream",
     "text": [
      "Phân lớp được chọn: \n",
      "['thời sự trong nước', 'thời sự quốc tế', 'kinh doanh', 'pháp luật', 'sức khỏe', 'thể thao', 'giáo dục', 'nhịp sống trẻ', 'văn hóa', 'khoa học', 'giải trí', 'du lịch', 'công nghệ', 'nhà đất', 'xe']\n"
     ]
    }
   ],
   "source": [
    "data_df = class_extract(data_df)\n",
    "data_df.drop(['links', 'title', 'description'],axis=1,inplace=True)\n",
    "data_df.dropna(axis=0, how=\"any\", inplace=True)\n",
    "\n",
    "# Xóa các class có ngưỡng chiếm không quá 0.1% tập dữ liệu (hoặc 10 mẫu nếu 0.1% tập dữ liệu quá bé)\n",
    "class_count = data_df[\"class\"].value_counts()\n",
    "count_min_limit = len(data_df)*0.001\n",
    "if (count_min_limit < 10):\n",
    "    count_min_limit = 10\n",
    "class_satisfy = class_count[class_count > count_min_limit].index.to_list()\n",
    "data_df = data_df[data_df[\"class\"].isin(class_satisfy)]\n",
    "\n",
    "print(\"Phân lớp được chọn: \")\n",
    "print(class_satisfy)"
   ]
  },
  {
   "cell_type": "code",
   "execution_count": 147,
   "metadata": {},
   "outputs": [],
   "source": [
    "y_sr = data_df[\"class\"].astype(\"U\") # sr là viết tắt của series\n",
    "X_df = data_df[\"content\"].astype(\"U\")\n",
    "train_X_df, val_X_df, train_y_sr, val_y_sr = train_test_split(X_df, y_sr, test_size=0.3,stratify=y_sr, random_state=0)"
   ]
  },
  {
   "cell_type": "markdown",
   "metadata": {},
   "source": [
    "## 8. Feature Engineering đưa dữ liệu dạng văn bản đã được xử lý về dạng vector thuộc tính có dạng số học bằng TF-IDF Vectors ở mức Word level "
   ]
  },
  {
   "cell_type": "markdown",
   "metadata": {},
   "source": [
    "`TF-IDF`(`term frequency–inverse document frequency`) là một cách biểu diễn văn bản theo dạng `Terms frequency` nhưng giá trị của 1 từ tăng theo giá trị của từ đó trong văn bản nhưng giảm đi khi tần số của từ đó trong bộ sưu tập văn bản `corpus` càng cao.\n",
    "\n",
    "![TF-IDF.png](resources/TF-IDF.png)"
   ]
  },
  {
   "cell_type": "code",
   "execution_count": 148,
   "metadata": {},
   "outputs": [
    {
     "name": "stdout",
     "output_type": "stream",
     "text": [
      "Wall time: 5.67 s\n"
     ]
    }
   ],
   "source": [
    "%%time\n",
    "# word level - we choose max number of words equal to 30000 except all words (100k+ words)\n",
    "tfidf_vect = TfidfVectorizer(analyzer='word', max_features=30000)\n",
    "train_X_tfidf =  tfidf_vect.fit_transform(train_X_df)\n",
    "\n",
    "# assume that we don't have test set before\n",
    "val_X_tfidf =  tfidf_vect.transform(val_X_df)"
   ]
  },
  {
   "cell_type": "code",
   "execution_count": 149,
   "metadata": {},
   "outputs": [
    {
     "name": "stdout",
     "output_type": "stream",
     "text": [
      "Wall time: 13.5 s\n"
     ]
    }
   ],
   "source": [
    "%%time\n",
    "svd = TruncatedSVD(n_components=300, random_state=42)\n",
    "train_X_tfidf_svd = svd.fit_transform(train_X_tfidf)\n",
    "\n",
    "val_X_tfidf_svd = svd.transform(val_X_tfidf)"
   ]
  },
  {
   "cell_type": "markdown",
   "metadata": {},
   "source": [
    "## 9. Xây dựng mô hình"
   ]
  },
  {
   "cell_type": "markdown",
   "metadata": {},
   "source": [
    "### Chuyển nhãn dữ liệu về dạng số"
   ]
  },
  {
   "cell_type": "code",
   "execution_count": 150,
   "metadata": {},
   "outputs": [
    {
     "name": "stdout",
     "output_type": "stream",
     "text": [
      "Wall time: 6.65 ms\n"
     ]
    }
   ],
   "source": [
    "%%time\n",
    "encoder=LabelEncoder()\n",
    "train_y_sr_n = encoder.fit_transform(train_y_sr)\n",
    "val_y_sr_n = encoder.fit_transform(val_y_sr)"
   ]
  },
  {
   "cell_type": "markdown",
   "metadata": {},
   "source": [
    "### Naive Bayes"
   ]
  },
  {
   "cell_type": "code",
   "execution_count": 151,
   "metadata": {},
   "outputs": [
    {
     "name": "stdout",
     "output_type": "stream",
     "text": [
      "Wall time: 65 ms\n"
     ]
    },
    {
     "data": {
      "text/plain": [
       "MultinomialNB()"
      ]
     },
     "execution_count": 151,
     "metadata": {},
     "output_type": "execute_result"
    }
   ],
   "source": [
    "%%time\n",
    "nb = MultinomialNB()\n",
    "nb.fit(train_X_tfidf,train_y_sr_n)"
   ]
  },
  {
   "cell_type": "markdown",
   "metadata": {},
   "source": [
    "#### Đánh giá với tập train"
   ]
  },
  {
   "cell_type": "code",
   "execution_count": 152,
   "metadata": {},
   "outputs": [
    {
     "data": {
      "text/plain": [
       "0.7328119241636296"
      ]
     },
     "execution_count": 152,
     "metadata": {},
     "output_type": "execute_result"
    }
   ],
   "source": [
    "nb.score(train_X_tfidf,train_y_sr_n)"
   ]
  },
  {
   "cell_type": "markdown",
   "metadata": {},
   "source": [
    "#### Đánh giá với tập validation"
   ]
  },
  {
   "cell_type": "code",
   "execution_count": 154,
   "metadata": {},
   "outputs": [
    {
     "data": {
      "text/plain": [
       "0.709850004776918"
      ]
     },
     "execution_count": 154,
     "metadata": {},
     "output_type": "execute_result"
    }
   ],
   "source": [
    "prediction=nb.predict(val_X_tfidf)\n",
    "1 - (prediction != val_y_sr_n).mean()"
   ]
  },
  {
   "cell_type": "markdown",
   "metadata": {},
   "source": [
    "#### Confusion matrix"
   ]
  },
  {
   "cell_type": "code",
   "execution_count": 176,
   "metadata": {},
   "outputs": [
    {
     "data": {
      "text/plain": [
       "<sklearn.metrics._plot.confusion_matrix.ConfusionMatrixDisplay at 0x23749ae0f40>"
      ]
     },
     "execution_count": 176,
     "metadata": {},
     "output_type": "execute_result"
    },
    {
     "data": {
      "image/png": "[encoded data removed]",
      "text/plain": [
       "<Figure size 1500x1000 with 2 Axes>"
      ]
     },
     "metadata": {
      "needs_background": "light"
     },
     "output_type": "display_data"
    }
   ],
   "source": [
    "plt.rcParams['figure.figsize'] = [12, 8]\n",
    "plt.rcParams['figure.dpi'] = 125\n",
    "plot_confusion_matrix(nb, val_X_tfidf, val_y_sr_n, cmap=plt.cm.Blues, xticks_rotation='vertical')"
   ]
  },
  {
   "cell_type": "markdown",
   "metadata": {},
   "source": [
    "### Logistic Regression"
   ]
  },
  {
   "cell_type": "code",
   "execution_count": 156,
   "metadata": {},
   "outputs": [
    {
     "name": "stdout",
     "output_type": "stream",
     "text": [
      "Wall time: 3.8 s\n"
     ]
    },
    {
     "name": "stderr",
     "output_type": "stream",
     "text": [
      "c:\\users\\admin\\appdata\\local\\programs\\python\\python38\\lib\\site-packages\\sklearn\\linear_model\\_logistic.py:763: ConvergenceWarning: lbfgs failed to converge (status=1):\n",
      "STOP: TOTAL NO. of ITERATIONS REACHED LIMIT.\n",
      "\n",
      "Increase the number of iterations (max_iter) or scale the data as shown in:\n",
      "    https://scikit-learn.org/stable/modules/preprocessing.html\n",
      "Please also refer to the documentation for alternative solver options:\n",
      "    https://scikit-learn.org/stable/modules/linear_model.html#logistic-regression\n",
      "  n_iter_i = _check_optimize_result(\n"
     ]
    },
    {
     "data": {
      "text/plain": [
       "LogisticRegression(random_state=0)"
      ]
     },
     "execution_count": 156,
     "metadata": {},
     "output_type": "execute_result"
    }
   ],
   "source": [
    "%%time\n",
    "log_reg_model = LogisticRegression(random_state=0)\n",
    "log_reg_model.fit(train_X_tfidf_svd,train_y_sr)"
   ]
  },
  {
   "cell_type": "markdown",
   "metadata": {},
   "source": [
    "#### Độ chính xác tập training"
   ]
  },
  {
   "cell_type": "code",
   "execution_count": 157,
   "metadata": {},
   "outputs": [
    {
     "data": {
      "text/plain": [
       "0.814422013840547"
      ]
     },
     "execution_count": 157,
     "metadata": {},
     "output_type": "execute_result"
    }
   ],
   "source": [
    "log_reg_model.score(train_X_tfidf_svd,train_y_sr)"
   ]
  },
  {
   "cell_type": "markdown",
   "metadata": {},
   "source": [
    "#### Độ chính xác tập validation"
   ]
  },
  {
   "cell_type": "code",
   "execution_count": 159,
   "metadata": {},
   "outputs": [
    {
     "data": {
      "text/plain": [
       "0.8018534441578293"
      ]
     },
     "execution_count": 159,
     "metadata": {},
     "output_type": "execute_result"
    }
   ],
   "source": [
    "prediction=log_reg_model.predict(val_X_tfidf_svd)\n",
    "1 - (prediction != val_y_sr).mean()"
   ]
  },
  {
   "cell_type": "markdown",
   "metadata": {},
   "source": [
    "#### Confusion matrix"
   ]
  },
  {
   "cell_type": "code",
   "execution_count": 160,
   "metadata": {},
   "outputs": [
    {
     "data": {
      "text/plain": [
       "<sklearn.metrics._plot.confusion_matrix.ConfusionMatrixDisplay at 0x237f6c92820>"
      ]
     },
     "execution_count": 160,
     "metadata": {},
     "output_type": "execute_result"
    },
    {
     "data": {
      "image/png": "[encoded data removed]",
      "text/plain": [
       "<Figure size 1500x1000 with 2 Axes>"
      ]
     },
     "metadata": {
      "needs_background": "light"
     },
     "output_type": "display_data"
    }
   ],
   "source": [
    "plot_confusion_matrix(log_reg_model,val_X_tfidf_svd,val_y_sr, cmap=plt.cm.Blues, xticks_rotation='vertical')"
   ]
  },
  {
   "cell_type": "markdown",
   "metadata": {},
   "source": [
    "### Logistic Regression (sử dụng phương pháp bagging)"
   ]
  },
  {
   "cell_type": "code",
   "execution_count": 166,
   "metadata": {},
   "outputs": [
    {
     "name": "stderr",
     "output_type": "stream",
     "text": [
      "c:\\users\\admin\\appdata\\local\\programs\\python\\python38\\lib\\site-packages\\sklearn\\linear_model\\_logistic.py:763: ConvergenceWarning: lbfgs failed to converge (status=1):\n",
      "STOP: TOTAL NO. of ITERATIONS REACHED LIMIT.\n",
      "\n",
      "Increase the number of iterations (max_iter) or scale the data as shown in:\n",
      "    https://scikit-learn.org/stable/modules/preprocessing.html\n",
      "Please also refer to the documentation for alternative solver options:\n",
      "    https://scikit-learn.org/stable/modules/linear_model.html#logistic-regression\n",
      "  n_iter_i = _check_optimize_result(\n",
      "c:\\users\\admin\\appdata\\local\\programs\\python\\python38\\lib\\site-packages\\sklearn\\linear_model\\_logistic.py:763: ConvergenceWarning: lbfgs failed to converge (status=1):\n",
      "STOP: TOTAL NO. of ITERATIONS REACHED LIMIT.\n",
      "\n",
      "Increase the number of iterations (max_iter) or scale the data as shown in:\n",
      "    https://scikit-learn.org/stable/modules/preprocessing.html\n",
      "Please also refer to the documentation for alternative solver options:\n",
      "    https://scikit-learn.org/stable/modules/linear_model.html#logistic-regression\n",
      "  n_iter_i = _check_optimize_result(\n"
     ]
    },
    {
     "name": "stdout",
     "output_type": "stream",
     "text": [
      "Wall time: 36.4 s\n"
     ]
    },
    {
     "data": {
      "text/plain": [
       "BaggingClassifier(base_estimator=LogisticRegression(random_state=0),\n",
       "                  max_samples=0.25, random_state=0)"
      ]
     },
     "execution_count": 166,
     "metadata": {},
     "output_type": "execute_result"
    }
   ],
   "source": [
    "%%time\n",
    "n_estimators = 10\n",
    "log_reg_bag_model = BaggingClassifier(LogisticRegression(random_state=0), \n",
    "                                    n_estimators = n_estimators,\n",
    "                                    max_samples=(1.0 / (4)), random_state=0)\n",
    "log_reg_bag_model.fit(train_X_tfidf_svd,train_y_sr)"
   ]
  },
  {
   "cell_type": "markdown",
   "metadata": {},
   "source": [
    "#### Độ chính xác tập training"
   ]
  },
  {
   "cell_type": "code",
   "execution_count": 167,
   "metadata": {},
   "outputs": [
    {
     "data": {
      "text/plain": [
       "0.7833012571147783"
      ]
     },
     "execution_count": 167,
     "metadata": {},
     "output_type": "execute_result"
    }
   ],
   "source": [
    "log_reg_bag_model.score(train_X_tfidf_svd,train_y_sr)"
   ]
  },
  {
   "cell_type": "markdown",
   "metadata": {},
   "source": [
    "#### Độ chính xác tập validation"
   ]
  },
  {
   "cell_type": "code",
   "execution_count": 169,
   "metadata": {},
   "outputs": [
    {
     "data": {
      "text/plain": [
       "0.7774911627018248"
      ]
     },
     "execution_count": 169,
     "metadata": {},
     "output_type": "execute_result"
    }
   ],
   "source": [
    "prediction=log_reg_bag_model.predict(val_X_tfidf_svd)\n",
    "1 - (prediction != val_y_sr).mean()"
   ]
  },
  {
   "cell_type": "markdown",
   "metadata": {},
   "source": [
    "#### Confusion matrix"
   ]
  },
  {
   "cell_type": "code",
   "execution_count": 170,
   "metadata": {},
   "outputs": [
    {
     "data": {
      "text/plain": [
       "<sklearn.metrics._plot.confusion_matrix.ConfusionMatrixDisplay at 0x237898e7f40>"
      ]
     },
     "execution_count": 170,
     "metadata": {},
     "output_type": "execute_result"
    },
    {
     "data": {
      "image/png": "[encoded data removed]",
      "text/plain": [
       "<Figure size 1500x1000 with 2 Axes>"
      ]
     },
     "metadata": {
      "needs_background": "light"
     },
     "output_type": "display_data"
    }
   ],
   "source": [
    "plot_confusion_matrix(log_reg_bag_model,val_X_tfidf_svd,val_y_sr, cmap=plt.cm.Blues, xticks_rotation='vertical')"
   ]
  },
  {
   "cell_type": "markdown",
   "metadata": {},
   "source": [
    "### Neuron network"
   ]
  },
  {
   "cell_type": "code",
   "execution_count": 196,
   "metadata": {},
   "outputs": [
    {
     "name": "stdout",
     "output_type": "stream",
     "text": [
      "Wall time: 2min 27s\n"
     ]
    },
    {
     "name": "stderr",
     "output_type": "stream",
     "text": [
      "c:\\users\\admin\\appdata\\local\\programs\\python\\python38\\lib\\site-packages\\sklearn\\neural_network\\_multilayer_perceptron.py:500: ConvergenceWarning: lbfgs failed to converge (status=1):\n",
      "STOP: TOTAL NO. of ITERATIONS REACHED LIMIT.\n",
      "\n",
      "Increase the number of iterations (max_iter) or scale the data as shown in:\n",
      "    https://scikit-learn.org/stable/modules/preprocessing.html\n",
      "  self.n_iter_ = _check_optimize_result(\"lbfgs\", opt_res, self.max_iter)\n"
     ]
    },
    {
     "data": {
      "text/plain": [
       "MLPClassifier(activation='tanh', hidden_layer_sizes=20, max_iter=2500,\n",
       "              random_state=0, solver='lbfgs')"
      ]
     },
     "execution_count": 196,
     "metadata": {},
     "output_type": "execute_result"
    }
   ],
   "source": [
    "%%time\n",
    "mlp_model = MLPClassifier(hidden_layer_sizes=(20), activation='tanh',\n",
    "                                 solver='lbfgs', random_state=0, max_iter=2500)\n",
    "mlp_model.fit(train_X_tfidf_svd,train_y_sr)"
   ]
  },
  {
   "cell_type": "markdown",
   "metadata": {},
   "source": [
    "#### Độ chính xác tập training"
   ]
  },
  {
   "cell_type": "code",
   "execution_count": 197,
   "metadata": {},
   "outputs": [
    {
     "data": {
      "text/plain": [
       "0.9746939109782564"
      ]
     },
     "execution_count": 197,
     "metadata": {},
     "output_type": "execute_result"
    }
   ],
   "source": [
    "mlp_model.score(train_X_tfidf_svd,train_y_sr)"
   ]
  },
  {
   "cell_type": "markdown",
   "metadata": {},
   "source": [
    "#### Độ chính xác tập validation"
   ]
  },
  {
   "cell_type": "code",
   "execution_count": 198,
   "metadata": {},
   "outputs": [
    {
     "data": {
      "text/plain": [
       "0.7255182955956816"
      ]
     },
     "execution_count": 198,
     "metadata": {},
     "output_type": "execute_result"
    }
   ],
   "source": [
    "prediction=mlp_model.predict(val_X_tfidf_svd)\n",
    "1 - (prediction != val_y_sr).mean()"
   ]
  },
  {
   "cell_type": "markdown",
   "metadata": {},
   "source": [
    "#### Confusion matrix"
   ]
  },
  {
   "cell_type": "code",
   "execution_count": 199,
   "metadata": {},
   "outputs": [
    {
     "data": {
      "text/plain": [
       "<sklearn.metrics._plot.confusion_matrix.ConfusionMatrixDisplay at 0x237dda93be0>"
      ]
     },
     "execution_count": 199,
     "metadata": {},
     "output_type": "execute_result"
    },
    {
     "data": {
      "image/png": "[encoded data removed]",
      "text/plain": [
       "<Figure size 1500x1000 with 2 Axes>"
      ]
     },
     "metadata": {
      "needs_background": "light"
     },
     "output_type": "display_data"
    }
   ],
   "source": [
    "plot_confusion_matrix(mlp_model,val_X_tfidf_svd,val_y_sr, cmap=plt.cm.Blues, xticks_rotation='vertical')"
   ]
  },
  {
   "cell_type": "markdown",
   "metadata": {},
   "source": [
    "### Neuron network (sử dụng phương pháp bagging)"
   ]
  },
  {
   "cell_type": "code",
   "execution_count": 200,
   "metadata": {},
   "outputs": [
    {
     "name": "stdout",
     "output_type": "stream",
     "text": [
      "Wall time: 26.5 s\n"
     ]
    },
    {
     "data": {
      "text/plain": [
       "BaggingClassifier(base_estimator=MLPClassifier(activation='tanh',\n",
       "                                               hidden_layer_sizes=20,\n",
       "                                               max_iter=2500, random_state=0,\n",
       "                                               solver='lbfgs'),\n",
       "                  max_samples=0.2, random_state=0)"
      ]
     },
     "execution_count": 200,
     "metadata": {},
     "output_type": "execute_result"
    }
   ],
   "source": [
    "%%time\n",
    "n_estimators = 10\n",
    "mlp_bag_model = BaggingClassifier(MLPClassifier(hidden_layer_sizes=(20), activation='tanh',\n",
    "                                                    solver='lbfgs', random_state=0, max_iter=2500), \n",
    "                                    n_estimators = n_estimators,\n",
    "                                    max_samples=(1.0 / (5)), random_state=0)\n",
    "mlp_bag_model.fit(train_X_tfidf_svd,train_y_sr)"
   ]
  },
  {
   "cell_type": "markdown",
   "metadata": {},
   "source": [
    "#### Độ chính xác tập training"
   ]
  },
  {
   "cell_type": "code",
   "execution_count": 201,
   "metadata": {},
   "outputs": [
    {
     "data": {
      "text/plain": [
       "0.8619630645755703"
      ]
     },
     "execution_count": 201,
     "metadata": {},
     "output_type": "execute_result"
    }
   ],
   "source": [
    "mlp_bag_model.score(train_X_tfidf_svd,train_y_sr)"
   ]
  },
  {
   "cell_type": "markdown",
   "metadata": {},
   "source": [
    "#### Độ chính xác tập validation"
   ]
  },
  {
   "cell_type": "code",
   "execution_count": 202,
   "metadata": {},
   "outputs": [
    {
     "data": {
      "text/plain": [
       "0.8008980605713194"
      ]
     },
     "execution_count": 202,
     "metadata": {},
     "output_type": "execute_result"
    }
   ],
   "source": [
    "prediction=mlp_bag_model.predict(val_X_tfidf_svd)\n",
    "1 - (prediction != val_y_sr).mean()"
   ]
  },
  {
   "cell_type": "markdown",
   "metadata": {},
   "source": [
    "#### Confusion matrix"
   ]
  },
  {
   "cell_type": "code",
   "execution_count": 203,
   "metadata": {},
   "outputs": [
    {
     "data": {
      "text/plain": [
       "<sklearn.metrics._plot.confusion_matrix.ConfusionMatrixDisplay at 0x237894ea190>"
      ]
     },
     "execution_count": 203,
     "metadata": {},
     "output_type": "execute_result"
    },
    {
     "data": {
      "image/png": "[encoded data removed]",
      "text/plain": [
       "<Figure size 1500x1000 with 2 Axes>"
      ]
     },
     "metadata": {
      "needs_background": "light"
     },
     "output_type": "display_data"
    }
   ],
   "source": [
    "plot_confusion_matrix(mlp_bag_model,val_X_tfidf_svd,val_y_sr, cmap=plt.cm.Blues, xticks_rotation='vertical')"
   ]
  },
  {
   "cell_type": "markdown",
   "metadata": {},
   "source": [
    "### Nhận xét và đánh giá\n",
    "\n",
    "- Mô hình Naive Bayes chạy rất nhanh tuy nhiên kết quả kém nhất.\n",
    "    > Điều này dễ hiểu vì tập dữ liệu khá nhỏ so với số lượng thuộc tính tạo bởi TF-IDF, đồng thời dữ liệu cũng bị lệch khá là nặng về vài lớp chiếm đa số (có thể thấy được trên confusion matrix kết quả predict có xu hướng tập trung vào class *\"thời sự trong nước\"* (12)).\n",
    "- Mô hình logistic chạy chậm hơn rất nhiều nhưng cho kết quả khá hơn rất nhiều (khoảng 10%).\n",
    "    > Chậm là điều hiển nhiên. Và dự đoán tốt hơn... cũng là điều hiển nhiên~.\n",
    "- Khi sử dụng kỹ thuật bagging với mô hình logistic, thời gian chạy gấp lên xấp sỉ số lượng estimator. Tuy nhiên độ chính xác kém hơn mô hình không dùng bagging.\n",
    "    > Bagging chia nhỏ dữ liệu ra cho 10 mô hình cùng học, khiến cho dữ liệu đã nhỏ sẵn nay còn nhỏ hơn. Việc bị fit vào một vài lớp chiếm đa số là không thể tránh khỏi.\n",
    "- Mô hình neuron network chạy siêu chậm (gấp 20 lần logistic) mà lại bị overfit (độ chính xác tập train tận 97% mà độ chính xác tập validate có 72.5%).\n",
    "    > Mô hình neuron network học \"tốt quá\" mà lại gặp dữ liệu khá thưa :v\n",
    "- Áp dụng kỹ thuật bagging vào mô hình neuron network thì lại cho tốc độ chạy nhanh gấp 4 lần so với neuron network trước mà lại còn cho độ chính xác cao ngang mô hình logistic.\n",
    "    > Phương pháp bagging đã biến bất lợi của mô hình neuron network là dễ bị overfit khi dữ liệu ít thành lợi thế. Nhờ vậy mà ở những lớp có số mẫu rất thấp như là *\"xe\"* đã được dự đoán tốt hơn, còn những lớp còn lại vẫn giữ được khả năng dự đoán chứ không bị giảm đi như mô hình neuron network gốc."
   ]
  },
  {
   "cell_type": "markdown",
   "metadata": {},
   "source": [
    "### Chọn mô hình sử dụng\n",
    "\n",
    "Sau khi đánh giá xong, nhóm quyết định sẽ giữ lại mô hình Naive Bayes, logistic regression và neuron network có dùng phương pháp bagging để chạy thử nghiệm trên toàn bộ dữ liệu."
   ]
  },
  {
   "cell_type": "markdown",
   "metadata": {},
   "source": [
    "---\n",
    "# Đánh giá và kết luận"
   ]
  },
  {
   "cell_type": "markdown",
   "metadata": {},
   "source": [
    "## Đánh giá\n",
    "\n",
    "### Chung về quy trình làm việc\n",
    "\n",
    "- Thời gian làm khá gấp rút do phải ôn thi cuối kỳ, suy nghĩ đề tài muộn và một số sự cố không mong muốn (hư laptop).\n",
    "- Không tìm được nguồn dữ liệu chuyên cho đề tài của nhóm.\n",
    "- Thu thập được lượng lớn dữ liệu.\n",
    "- Có khả năng tìm hiểu được các kiến thức cần thiết.\n",
    "- Do dữ liệu khá lớn nên phải phân chi ra các quy trình khoa học dữ liệu riêng biệt và phân công mỗi thành viên nắm một quy trình riêng chứ không đồng thời cùng làm chung (tiền xử lý, khám phá, truyền thông lại cho tiền xử lý, xây dựng mô hình,...) (phần này nhóm không biết là điều xấu hay điều tốt nữa).\n",
    "- Chưa có pipeline tổng quát.\n",
    "\n",
    "### Đánh giá về mô hình của đồ án\n",
    "\n",
    "- Độ chính xác không cao (khoảng 75-80%).\n",
    "- Sử dụng phương pháp bagging để tăng tốc độ chạy mô hình neuron network mà lại giảm overfit.\n",
    "- Không đủ khả năng chạy toàn bộ dữ liệu do thời gian xử lý khá lâu.\n",
    "\n",
    "## Hướng phát triển\n",
    "\n",
    "- Hoàn thiện pipeline.\n",
    "- Thử thêm các mô hình tốt hơn và tìm cách để có thể chạy trên toàn dữ liệu với thời gian tốt."
   ]
  },
  {
   "cell_type": "markdown",
   "metadata": {},
   "source": [
    "---\n",
    "# Tham khảo"
   ]
  }
 ],
 "metadata": {
  "kernelspec": {
   "display_name": "Python 3",
   "language": "python",
   "name": "python3"
  },
  "language_info": {
   "codemirror_mode": {
    "name": "ipython",
    "version": 3
   },
   "file_extension": ".py",
   "mimetype": "text/x-python",
   "name": "python",
   "nbconvert_exporter": "python",
   "pygments_lexer": "ipython3",
   "version": "3.8.5"
  },
  "toc": {
   "base_numbering": 1,
   "nav_menu": {},
   "number_sections": false,
   "sideBar": true,
   "skip_h1_title": false,
   "title_cell": "Table of Contents",
   "title_sidebar": "Contents",
   "toc_cell": false,
   "toc_position": {
    "height": "calc(100% - 180px)",
    "left": "10px",
    "top": "150px",
    "width": "306.391px"
   },
   "toc_section_display": true,
   "toc_window_display": true
  }
 },
 "nbformat": 4,
 "nbformat_minor": 4
}
